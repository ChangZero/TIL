{
 "cells": [
  {
   "cell_type": "code",
   "execution_count": 1,
   "id": "755a5ede-80f4-4d85-b99e-5210267f9b8b",
   "metadata": {},
   "outputs": [],
   "source": [
    "from bs4 import BeautifulSoup\n",
    "import urllib.request\n",
    "import selenium\n",
    "from selenium import webdriver\n",
    "from urllib.request import urlopen\n",
    "from selenium.webdriver.common.by import By\n",
    "import re\n",
    "import time\n",
    "from tqdm import tqdm_notebook"
   ]
  },
  {
   "cell_type": "code",
   "execution_count": 17,
   "id": "652747a7-e125-4045-a8b0-3f337169f9e2",
   "metadata": {},
   "outputs": [],
   "source": [
    "def daumLogin():    \n",
    "    url = 'https://www.daum.net/'\n",
    "    chromedriver_dir = r'./chromedriver.exe'\n",
    "    driver = webdriver.Chrome(chromedriver_dir)\n",
    "    driver.get(url)\n",
    "    time.sleep(1)\n",
    "\n",
    "    loginbtn = driver.find_element(By.XPATH, '//*[@id=\"inner_login\"]/a[1]')\n",
    "    loginbtn.click()\n",
    "    time.sleep(1)\n",
    "\n",
    "\n",
    "    login_menu = driver.find_element(By.CLASS_NAME, 'login_kakaomail')\n",
    "    idlabel = login_menu.find_element(By.XPATH, '//*[@id=\"input-loginKey\"]')\n",
    "    pwlabel = login_menu.find_element(By.XPATH, '//*[@id=\"input-password\"]')\n",
    "\n",
    "    idlabel.clear()\n",
    "    idlabel.send_keys(\"1234\")\n",
    "    pwlabel.clear()\n",
    "    pwlabel.send_keys(\"1234\")\n",
    "    time.sleep(5)\n",
    "    \n",
    "    \n",
    "    driver.close()"
   ]
  },
  {
   "cell_type": "code",
   "execution_count": 18,
   "id": "f8f5c3ff-cdd6-47de-bfd4-2b3fb538dec8",
   "metadata": {},
   "outputs": [
    {
     "name": "stderr",
     "output_type": "stream",
     "text": [
      "C:\\Users\\Lenovo\\AppData\\Local\\Temp\\ipykernel_17564\\4064572125.py:4: DeprecationWarning: executable_path has been deprecated, please pass in a Service object\n",
      "  driver = webdriver.Chrome(chromedriver_dir)\n"
     ]
    }
   ],
   "source": [
    "daumLogin()"
   ]
  }
 ],
 "metadata": {
  "kernelspec": {
   "display_name": "Python 3 (ipykernel)",
   "language": "python",
   "name": "python3"
  },
  "language_info": {
   "codemirror_mode": {
    "name": "ipython",
    "version": 3
   },
   "file_extension": ".py",
   "mimetype": "text/x-python",
   "name": "python",
   "nbconvert_exporter": "python",
   "pygments_lexer": "ipython3",
   "version": "3.9.12"
  }
 },
 "nbformat": 4,
 "nbformat_minor": 5
}
