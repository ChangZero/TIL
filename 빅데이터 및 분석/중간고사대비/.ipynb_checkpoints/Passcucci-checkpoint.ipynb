{
 "cells": [
  {
   "cell_type": "code",
   "execution_count": 6,
   "id": "d231a1d4-e6ec-4a97-b45c-65302c16ea69",
   "metadata": {},
   "outputs": [],
   "source": [
    "from bs4 import BeautifulSoup\n",
    "import urllib.request\n",
    "import selenium\n",
    "from selenium import webdriver\n",
    "from urllib.request import urlopen\n",
    "from selenium.webdriver.common.by import By\n",
    "import re\n",
    "import time\n",
    "from tqdm import tqdm_notebook"
   ]
  },
  {
   "cell_type": "code",
   "execution_count": 10,
   "id": "f82e4967-838a-4a24-9baa-3470ee2c1b5a",
   "metadata": {},
   "outputs": [],
   "source": [
    "def pascucci_store(result, starea):\n",
    "    for page in range(1, 56):\n",
    "        # 파스쿠찌 url을 입력하되 페이지가 바뀌게끔 반복문으로 처리한다.\n",
    "        pascucci_url = 'https://www.caffe-pascucci.co.kr/store/storeList.asp?page=%d' % page\n",
    "        print(pascucci_url)\n",
    "        html = urllib.request.urlopen(pascucci_url)\n",
    "\n",
    "        # BeuatifulSoup을 사용하여 html 정보를 가져온다.\n",
    "        soupPascucci = BeautifulSoup(html, 'html.parser')\n",
    "\n",
    "        # 우리가 가져오고 싶은 정보는 tbody의 tr태그 중 하나이다.\n",
    "        tag_tbody = soupPascucci.find('tbody')\n",
    "        for store in tag_tbody.find_all('tr'):\n",
    "            if len(store) <= 3:\n",
    "                break\n",
    "            store_td = store.find_all('td')\n",
    "            store_name = store_td[1].string\n",
    "            store_area = store_td[2].string\n",
    "\n",
    "            # 주소와 가게번호는 td태그 안에 또 다른 태그로 감싸져 있기 때문에 태그와 클래스 명을 활용하여 가져온다.\n",
    "            store_address = store.find('p', class_='addr').string\n",
    "            store_phone = store.find('span', class_='tel').string\n",
    "            \n",
    "            if store_area == starea:\n",
    "                result.append([store_name]+[store_area]+[store_address]\n",
    "                              + [store_phone])\n",
    "    return"
   ]
  },
  {
   "cell_type": "code",
   "execution_count": 11,
   "id": "54c78c1e-bf26-4edf-b11e-5bc1dac041b6",
   "metadata": {},
   "outputs": [
    {
     "name": "stdout",
     "output_type": "stream",
     "text": [
      "MegaCoffee store crawling >>>>>>>>>>>>>>>>>>>>>>>>>>\n",
      "https://www.caffe-pascucci.co.kr/store/storeList.asp?page=1\n",
      "https://www.caffe-pascucci.co.kr/store/storeList.asp?page=2\n",
      "https://www.caffe-pascucci.co.kr/store/storeList.asp?page=3\n",
      "https://www.caffe-pascucci.co.kr/store/storeList.asp?page=4\n",
      "https://www.caffe-pascucci.co.kr/store/storeList.asp?page=5\n",
      "https://www.caffe-pascucci.co.kr/store/storeList.asp?page=6\n",
      "https://www.caffe-pascucci.co.kr/store/storeList.asp?page=7\n",
      "https://www.caffe-pascucci.co.kr/store/storeList.asp?page=8\n",
      "https://www.caffe-pascucci.co.kr/store/storeList.asp?page=9\n",
      "https://www.caffe-pascucci.co.kr/store/storeList.asp?page=10\n",
      "https://www.caffe-pascucci.co.kr/store/storeList.asp?page=11\n",
      "https://www.caffe-pascucci.co.kr/store/storeList.asp?page=12\n",
      "https://www.caffe-pascucci.co.kr/store/storeList.asp?page=13\n",
      "https://www.caffe-pascucci.co.kr/store/storeList.asp?page=14\n",
      "https://www.caffe-pascucci.co.kr/store/storeList.asp?page=15\n",
      "https://www.caffe-pascucci.co.kr/store/storeList.asp?page=16\n",
      "https://www.caffe-pascucci.co.kr/store/storeList.asp?page=17\n",
      "https://www.caffe-pascucci.co.kr/store/storeList.asp?page=18\n",
      "https://www.caffe-pascucci.co.kr/store/storeList.asp?page=19\n",
      "https://www.caffe-pascucci.co.kr/store/storeList.asp?page=20\n",
      "https://www.caffe-pascucci.co.kr/store/storeList.asp?page=21\n",
      "https://www.caffe-pascucci.co.kr/store/storeList.asp?page=22\n",
      "https://www.caffe-pascucci.co.kr/store/storeList.asp?page=23\n",
      "https://www.caffe-pascucci.co.kr/store/storeList.asp?page=24\n",
      "https://www.caffe-pascucci.co.kr/store/storeList.asp?page=25\n",
      "https://www.caffe-pascucci.co.kr/store/storeList.asp?page=26\n",
      "https://www.caffe-pascucci.co.kr/store/storeList.asp?page=27\n",
      "https://www.caffe-pascucci.co.kr/store/storeList.asp?page=28\n",
      "https://www.caffe-pascucci.co.kr/store/storeList.asp?page=29\n",
      "https://www.caffe-pascucci.co.kr/store/storeList.asp?page=30\n",
      "https://www.caffe-pascucci.co.kr/store/storeList.asp?page=31\n",
      "https://www.caffe-pascucci.co.kr/store/storeList.asp?page=32\n",
      "https://www.caffe-pascucci.co.kr/store/storeList.asp?page=33\n",
      "https://www.caffe-pascucci.co.kr/store/storeList.asp?page=34\n",
      "https://www.caffe-pascucci.co.kr/store/storeList.asp?page=35\n",
      "https://www.caffe-pascucci.co.kr/store/storeList.asp?page=36\n",
      "https://www.caffe-pascucci.co.kr/store/storeList.asp?page=37\n",
      "https://www.caffe-pascucci.co.kr/store/storeList.asp?page=38\n",
      "https://www.caffe-pascucci.co.kr/store/storeList.asp?page=39\n",
      "https://www.caffe-pascucci.co.kr/store/storeList.asp?page=40\n",
      "https://www.caffe-pascucci.co.kr/store/storeList.asp?page=41\n",
      "https://www.caffe-pascucci.co.kr/store/storeList.asp?page=42\n",
      "https://www.caffe-pascucci.co.kr/store/storeList.asp?page=43\n",
      "https://www.caffe-pascucci.co.kr/store/storeList.asp?page=44\n",
      "https://www.caffe-pascucci.co.kr/store/storeList.asp?page=45\n",
      "https://www.caffe-pascucci.co.kr/store/storeList.asp?page=46\n",
      "https://www.caffe-pascucci.co.kr/store/storeList.asp?page=47\n",
      "https://www.caffe-pascucci.co.kr/store/storeList.asp?page=48\n",
      "https://www.caffe-pascucci.co.kr/store/storeList.asp?page=49\n",
      "https://www.caffe-pascucci.co.kr/store/storeList.asp?page=50\n",
      "https://www.caffe-pascucci.co.kr/store/storeList.asp?page=51\n",
      "https://www.caffe-pascucci.co.kr/store/storeList.asp?page=52\n",
      "https://www.caffe-pascucci.co.kr/store/storeList.asp?page=53\n",
      "https://www.caffe-pascucci.co.kr/store/storeList.asp?page=54\n",
      "https://www.caffe-pascucci.co.kr/store/storeList.asp?page=55\n"
     ]
    }
   ],
   "source": [
    "result = []\n",
    "starea = '울산'\n",
    "print('MegaCoffee store crawling >>>>>>>>>>>>>>>>>>>>>>>>>>')\n",
    "pascucci_store(result, starea)  # [CODE 1] 호출"
   ]
  },
  {
   "cell_type": "code",
   "execution_count": 12,
   "id": "179cfcdd-8576-4cb5-8a32-dc8146b22eb6",
   "metadata": {},
   "outputs": [
    {
     "data": {
      "text/plain": [
       "[['울산중앙병원', '울산', '울산 남구 문수로 472', '052.227.8824'],\n",
       " ['동천동강병원', '울산', '울산 중구 외솔큰길 215 (지번) 남외동 514-1', '052.700.9711'],\n",
       " ['울산남구무궁화점', '울산', '울산광역시 남구 왕생로 146(달동)', '02.256.8498'],\n",
       " ['울산무궁화점', '울산', '울산광역시 남구 돋질로 359', '052.227.8498'],\n",
       " ['진하비치점', '울산', '울산광역시 울주군 서생면 깨목4길 15', '052.237.8497'],\n",
       " ['울산보람병원점', '울산', '울산광역시 남구 돋질로 336번길 10(삼산동, 울산보람병원 신관 1층)', '052.272.8497'],\n",
       " ['울산정자해변점', '울산', '울산광역시 북구 동해안로 1544(정자동)', '052.281.0620'],\n",
       " ['울산수암로점', '울산', '울산광역시 남구 신남로 103(신정동)', '052.258.3883'],\n",
       " ['울산굿모닝병원점', '울산', '울산광역시 남구 달동 972번지 외(굿모닝병원 1층)', '052.258.4599'],\n",
       " ['울산매곡점', '울산', '울산광역시 북구 괴정1길 122(매곡동 616-8)', '052.285.2013'],\n",
       " ['울산 명촌점', '울산', '울산광역시 북구 진장동 757-10 2층', '052.289.8497'],\n",
       " ['울산신정점', '울산', '울산광역시 남구 동산로29번길 4', '052.256.8479'],\n",
       " ['울산학성공원점', '울산', '울산 중구 반구동 582-7', '052.295.8497'],\n",
       " ['울산혁신도시점', '울산', '울산 중구 우정동 상2-7-1(3)BL', '052.245.8417'],\n",
       " ['대왕암공원점', '울산', '울산 동구 일산동 903-5 대왕암상가 5동 2호', '052.234.8497'],\n",
       " ['언양점', '울산', '울산광역시 울주군 언양읍 동부8길 14', '052.264.8497'],\n",
       " ['동강병원점', '울산', '울산광역시 중구 태화로 239', '052.244.8497'],\n",
       " ['울산장생포점', '울산', '울산광역시 남구 장생포고래로 257-1(매암동)  카페 파스쿠찌', '052.260.8497'],\n",
       " ['중구 무궁화점', '울산', '울산 중구 반구동 22-4번지', '052.297.8497'],\n",
       " ['울산 성남점', '울산', '울산광역시 중구 성남동 191-27 2F', '052.246.8497'],\n",
       " ['울산번영점', '울산', '울산 남구 달동 1356-12', '052.227.8497'],\n",
       " ['울산 구영점', '울산', '울산광역시 울주군 범서읍 구영리 395-5번지', '052.243.8497'],\n",
       " ['삼산 무궁화점', '울산', '울산광역시 남구 삼산동 188-1번지', '052.256.8497'],\n",
       " ['달동목화점', '울산', '울산광역시 남구 달동 1278-1번지', '052.2678.497'],\n",
       " ['울산시청점', '울산', '울산광역시 남구 신정동 186-11번지', '052.257.3237'],\n",
       " ['태화강대공원점', '울산', '울산광역시 중구 태화동 482-10번지', '052.245.8497'],\n",
       " ['울산달동점', '울산', '울산광역시 남구 달동 1394-14', '052.267.8491'],\n",
       " ['울산세이브존', '울산', '울산광역시 남구 삼산동 1377-9', '052.261.8397'],\n",
       " ['울산 일산테라스파크점',\n",
       "  '울산',\n",
       "  '울산시 동구 일산동 945번지 테라스파크 A동 109,112,113호',\n",
       "  '052.209.0310'],\n",
       " ['울산삼산점', '울산', '울산광역시 남구 삼산동 1571-10번지', '052.258.8497']]"
      ]
     },
     "execution_count": 12,
     "metadata": {},
     "output_type": "execute_result"
    }
   ],
   "source": [
    "result"
   ]
  },
  {
   "cell_type": "code",
   "execution_count": null,
   "id": "8f8ae60a-79e9-4919-a6d1-786d141be958",
   "metadata": {},
   "outputs": [],
   "source": []
  }
 ],
 "metadata": {
  "kernelspec": {
   "display_name": "Python 3 (ipykernel)",
   "language": "python",
   "name": "python3"
  },
  "language_info": {
   "codemirror_mode": {
    "name": "ipython",
    "version": 3
   },
   "file_extension": ".py",
   "mimetype": "text/x-python",
   "name": "python",
   "nbconvert_exporter": "python",
   "pygments_lexer": "ipython3",
   "version": "3.9.12"
  }
 },
 "nbformat": 4,
 "nbformat_minor": 5
}
