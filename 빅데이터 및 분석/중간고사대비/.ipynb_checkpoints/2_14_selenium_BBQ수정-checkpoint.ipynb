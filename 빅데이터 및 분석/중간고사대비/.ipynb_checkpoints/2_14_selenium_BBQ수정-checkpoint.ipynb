{
 "cells": [
  {
   "cell_type": "code",
   "execution_count": 12,
   "metadata": {},
   "outputs": [],
   "source": [
    "from selenium import webdriver\n",
    "import bs4\n",
    "import time\n",
    "from selenium.webdriver.common.by import By\n",
    "from selenium.webdriver.common.keys import Keys"
   ]
  },
  {
   "cell_type": "code",
   "execution_count": 13,
   "metadata": {},
   "outputs": [
    {
     "name": "stderr",
     "output_type": "stream",
     "text": [
      "C:\\ProgramData\\Anaconda3\\lib\\site-packages\\ipykernel_launcher.py:1: DeprecationWarning: executable_path has been deprecated, please pass in a Service object\n",
      "  \"\"\"Entry point for launching an IPython kernel.\n"
     ]
    }
   ],
   "source": [
    "driver = webdriver.Chrome('chromedriver.exe')"
   ]
  },
  {
   "cell_type": "code",
   "execution_count": 14,
   "metadata": {},
   "outputs": [],
   "source": [
    "driver.get('https://www.bbq.co.kr/shop/shopList.asp')\n",
    "time.sleep(5)"
   ]
  },
  {
   "cell_type": "code",
   "execution_count": 15,
   "metadata": {},
   "outputs": [],
   "source": [
    "# 검색 창에 원하는 키워드 전송\n",
    "element = driver.find_element(By.ID, 'search_text')\n",
    "element.clear()\n",
    "element.send_keys('서울')"
   ]
  },
  {
   "cell_type": "code",
   "execution_count": 16,
   "metadata": {},
   "outputs": [],
   "source": [
    "# 검색 버튼 클릭\n",
    "xpath = '''//*[@id=\"search_form\"]/div/button'''\n",
    "element_sel_gu = driver.find_element(By.XPATH, xpath).click()\n",
    "time.sleep(5)"
   ]
  },
  {
   "cell_type": "code",
   "execution_count": 18,
   "metadata": {},
   "outputs": [
    {
     "ename": "SyntaxError",
     "evalue": "invalid syntax (<ipython-input-18-8e81a3e4c163>, line 1)",
     "output_type": "error",
     "traceback": [
      "\u001b[1;36m  File \u001b[1;32m\"<ipython-input-18-8e81a3e4c163>\"\u001b[1;36m, line \u001b[1;32m1\u001b[0m\n\u001b[1;33m    //*[@id=\"search_form\"]/div\u001b[0m\n\u001b[1;37m     ^\u001b[0m\n\u001b[1;31mSyntaxError\u001b[0m\u001b[1;31m:\u001b[0m invalid syntax\n"
     ]
    }
   ],
   "source": [
    "//*[@id=\"search_form\"]/div"
   ]
  },
  {
   "cell_type": "code",
   "execution_count": 19,
   "metadata": {},
   "outputs": [],
   "source": [
    "#subject_지점명, add_상세주소, tel_전화번호\n",
    "source = driver.page_source\n",
    "bs = bs4.BeautifulSoup(source, 'lxml')\n",
    "entire =bs.find('div', class_='shop_sort')\n",
    "\n",
    "subject, add, tel = [], [], []\n",
    "\n",
    "subject_list = entire.find_all('p', class_='subject')\n",
    "add_list = entire.find_all('p', class_='add')\n",
    "tel_list = entire.find_all('p', class_='tel') \n",
    "\n",
    "for info in subject_list:\n",
    "    subject.append(info.text)\n",
    "\n",
    "for info in add_list:\n",
    "    add.append(info.text)\n",
    "    \n",
    "for info in tel_list:\n",
    "    tel.append(info.text)"
   ]
  },
  {
   "cell_type": "code",
   "execution_count": 20,
   "metadata": {},
   "outputs": [
    {
     "data": {
      "text/plain": [
       "'서울특별시 송파구 위례광장로 136 (장지동, 위례아이파크) 상가 1층 C-106호'"
      ]
     },
     "execution_count": 20,
     "metadata": {},
     "output_type": "execute_result"
    }
   ],
   "source": [
    "add[0]"
   ]
  },
  {
   "cell_type": "code",
   "execution_count": 21,
   "metadata": {},
   "outputs": [
    {
     "name": "stdout",
     "output_type": "stream",
     "text": [
      "341 341 341\n"
     ]
    }
   ],
   "source": [
    "# 각 요소 개수 확인\n",
    "print(len(subject), len(add), len(tel))"
   ]
  },
  {
   "cell_type": "code",
   "execution_count": 22,
   "metadata": {},
   "outputs": [
    {
     "name": "stdout",
     "output_type": "stream",
     "text": [
      "강남세곡점 서울특별시 강남구 헌릉로 569 (세곡동) 지상1층 101호 02-3414-9282\n",
      "일원삼성점 서울 강남구 수서동 747  삼성아파트상가 12호 02-459-2569\n",
      "강남수서점 서울특별시 강남구 밤고개로1길 10 (수서동, 수서현대벤쳐빌) 1164호 02-2040-7922\n",
      "개포점 서울특별시 강남구 개포로 250 (개포동, 선광빌딩) 1층 101호 02-3462-9282\n",
      "대청점 서울 강남구 일원동 687-2 02-3411-5949\n",
      "개포동역점 서울특별시 강남구 개포로 512 (개포동, 개포종합상가) 1층 108호 024459288\n",
      "개포동역점 서울특별시 강남구 개포로 512 (개포동, 개포종합상가) 1층 108호 02-445-9288\n",
      "개포대청역점 서울특별시 강남구 개포로 615 (개포동, 석탑프라자) 지하1층 B102호 02-445-4161\n",
      "대치본점 서울특별시 강남구 삼성로 151 지상1층 101호(대치동, 선경아파트) 02-538-9282\n",
      "서초양재점 서울특별시 강남구 남부순환로359길 29 1층 102호(도곡동) 02-529-9922\n",
      "대치은마점 서울특별시 강남구 영동대로57길 16  02-538-6006\n",
      "역삼점 서울 강남구 역삼동 836-26 02-568-9069\n",
      "대치점 서울특별시 강남구 선릉로 326(대치동) 1층, 101호 02-556-9281\n",
      "역삼스타점 서울특별시 강남구 논현로 411 1층(역삼동, 남형빌딩) 02-567-9282\n",
      "선릉역점 서울특별시 강남구 삼성로75길 15 (대치동) 지하1층 02-556-5588\n",
      "삼성역점 서울특별시 강남구 삼성로103길 12 (삼성동, 신도브래뉴주상복합) 104호 02-539-9282\n",
      "삼성점 서울특별시 강남구 봉은사로61길 17 (삼성동) 1층(삼성동) 02-553-0092\n",
      "학동점 서울특별시 강남구 언주로125길 11 (논현동) 1층 02-546-6555\n",
      "논현스타점 서울특별시 강남구 강남대로128길 27 (논현동, 새호시티라이프빌딩) 1층 101호 02-546-9990\n",
      "논현중앙점 서울특별시 강남구 언주로136길 10 (논현동,1층) 02-545-1515\n",
      "신사가로수길점 서울 강남구 신사동 510-11 강남상가 201호 02-3444-0575\n",
      "압구정점 서울특별시 강남구 압구정로 309 B동 1층 110호(압구정동, 주구센터) 02-544-0070\n",
      "어스크루즈점 서울특별시 강남구 압구정로11길 37-53 (압구정동) 용성1호 지상1층,2층,3층 000000000\n"
     ]
    }
   ],
   "source": [
    "for i in range(len(subject)):\n",
    "    if '강남' in add[i]: #상세 주소가 서울인 것만 출력\n",
    "        print(subject[i], add[i], tel[i])"
   ]
  },
  {
   "cell_type": "code",
   "execution_count": 23,
   "metadata": {},
   "outputs": [],
   "source": [
    "driver.quit()"
   ]
  },
  {
   "cell_type": "code",
   "execution_count": null,
   "metadata": {},
   "outputs": [],
   "source": []
  }
 ],
 "metadata": {
  "kernelspec": {
   "display_name": "Python 3",
   "language": "python",
   "name": "python3"
  },
  "language_info": {
   "codemirror_mode": {
    "name": "ipython",
    "version": 3
   },
   "file_extension": ".py",
   "mimetype": "text/x-python",
   "name": "python",
   "nbconvert_exporter": "python",
   "pygments_lexer": "ipython3",
   "version": "3.7.4"
  }
 },
 "nbformat": 4,
 "nbformat_minor": 2
}
