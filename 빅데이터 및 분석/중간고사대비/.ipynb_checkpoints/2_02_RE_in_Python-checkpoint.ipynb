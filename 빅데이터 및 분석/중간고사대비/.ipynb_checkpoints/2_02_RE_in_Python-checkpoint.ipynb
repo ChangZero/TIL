{
 "cells": [
  {
   "cell_type": "markdown",
   "metadata": {},
   "source": [
    "# 3. 정규표현식(Regular Expression)\n",
    "\n",
    "### 정규식 연습장\n",
    "- **http://www.regexr.com**"
   ]
  },
  {
   "cell_type": "markdown",
   "metadata": {},
   "source": [
    "정규식 예\n",
    "1. Write the letter “a” at least once.\n",
    "2. Append to this the letter “b” exactly five times.\n",
    "3. Append to this the letter “c” any even number of times.\n",
    "4. Write the letter “d”or \"e\" at the end.\n",
    "\n",
    "정규식: aa\\*bbbbb(cc)\\*(d|e)"
   ]
  },
  {
   "cell_type": "markdown",
   "metadata": {},
   "source": [
    "## 3.1 Regular Expression 모듈\n",
    "- 정규 표현식(regular expression) 은 일종의 문자를 표현하는 공식\n",
    "- **import re**\n",
    "- re.compile('regular expression)\n",
    "- method\n",
    "\n",
    "![정규식](../images/regular_expression.png)"
   ]
  },
  {
   "cell_type": "markdown",
   "metadata": {},
   "source": [
    "### regular expression 사용하지 않고 주민번호 뒤 7자리 * 처리"
   ]
  },
  {
   "cell_type": "code",
   "execution_count": 1,
   "metadata": {},
   "outputs": [
    {
     "name": "stdout",
     "output_type": "stream",
     "text": [
      "\n",
      "park 800905-*******\n",
      "kim 700905-*******\n",
      "\n"
     ]
    }
   ],
   "source": [
    "data = \"\"\"\n",
    "park 800905-1049118\n",
    "kim 700905-1059119\n",
    "\"\"\"\n",
    "\n",
    "result = []\n",
    "for line in data.split(\"\\n\"):\n",
    "    word_result = []\n",
    "    for word in line.split(\" \"):\n",
    "        if len(word) == 14 and word[:6].isdigit() and word[7:].isdigit():\n",
    "            word = word[:6] + \"-\" + \"*******\"\n",
    "        word_result.append(word)\n",
    "    result.append(\" \".join(word_result))\n",
    "print(\"\\n\".join(result))"
   ]
  },
  {
   "cell_type": "code",
   "execution_count": 2,
   "metadata": {},
   "outputs": [
    {
     "data": {
      "text/plain": [
       "'park 800905-*******'"
      ]
     },
     "execution_count": 2,
     "metadata": {},
     "output_type": "execute_result"
    }
   ],
   "source": [
    "result[1]"
   ]
  },
  {
   "cell_type": "code",
   "execution_count": 3,
   "metadata": {},
   "outputs": [
    {
     "data": {
      "text/plain": [
       "['', 'park 800905-1049118', 'kim 700905-1059119', '']"
      ]
     },
     "execution_count": 3,
     "metadata": {},
     "output_type": "execute_result"
    }
   ],
   "source": [
    "data_a = data.split(\"\\n\")\n",
    "data_a"
   ]
  },
  {
   "cell_type": "markdown",
   "metadata": {},
   "source": [
    "### regular expression 사용하여 주민번호 뒤 7자리 * 처리"
   ]
  },
  {
   "cell_type": "code",
   "execution_count": 4,
   "metadata": {},
   "outputs": [
    {
     "name": "stdout",
     "output_type": "stream",
     "text": [
      "\n",
      "park 800905-*******\n",
      "kim 700905-*******\n",
      "\n"
     ]
    }
   ],
   "source": [
    "import re\n",
    "data = \"\"\"\n",
    "park 800905-1049118\n",
    "kim 700905-1059119\n",
    "\"\"\"\n",
    "pat = re.compile(\"(\\d{6})[-]\\d{7}\")\n",
    "print(pat.sub(\"\\g<1>-*******\", data))"
   ]
  },
  {
   "cell_type": "markdown",
   "metadata": {},
   "source": [
    "## 3.2 텍스트에서 pattern 찾기\n",
    "- match(): 문자열의 처음에 특정 pattern 찾기\n",
    "- search(): 문자열을 scan하여 특정 pattern 찾기"
   ]
  },
  {
   "cell_type": "code",
   "execution_count": 5,
   "metadata": {},
   "outputs": [
    {
     "name": "stdout",
     "output_type": "stream",
     "text": [
      "Match : None\n",
      "Search : <re.Match object; span=(3, 5), match='한글'>\n"
     ]
    }
   ],
   "source": [
    "import re\n",
    "#pattern = 'this'\n",
    "#text = 'Does this text match the pattern?'\n",
    "pattern = '한글'\n",
    "text = '문자 한글이 왜 과학적인가?'\n",
    "\n",
    "m = re.match(pattern, text)\n",
    "print(\"Match :\", m)\n",
    "matched = re.search(pattern, text)\n",
    "print(\"Search :\", matched)"
   ]
  },
  {
   "cell_type": "code",
   "execution_count": 6,
   "metadata": {},
   "outputs": [
    {
     "name": "stdout",
     "output_type": "stream",
     "text": [
      "Found '한글'\n",
      "in '문자 한글이 왜 과학적인가?'\n",
      "from 3 tp 5 ('한글')\n"
     ]
    }
   ],
   "source": [
    "s = matched.start()\n",
    "e = matched.end()\n",
    "print(\"Found '%s'\\nin '%s'\\nfrom %d tp %d ('%s')\" \\\n",
    "      %(matched.re.pattern, matched.string, s, e, text[s:e]))"
   ]
  },
  {
   "cell_type": "code",
   "execution_count": 7,
   "metadata": {},
   "outputs": [
    {
     "data": {
      "text/plain": [
       "['__class__',\n",
       " '__class_getitem__',\n",
       " '__copy__',\n",
       " '__deepcopy__',\n",
       " '__delattr__',\n",
       " '__dir__',\n",
       " '__doc__',\n",
       " '__eq__',\n",
       " '__format__',\n",
       " '__ge__',\n",
       " '__getattribute__',\n",
       " '__getitem__',\n",
       " '__gt__',\n",
       " '__hash__',\n",
       " '__init__',\n",
       " '__init_subclass__',\n",
       " '__le__',\n",
       " '__lt__',\n",
       " '__ne__',\n",
       " '__new__',\n",
       " '__reduce__',\n",
       " '__reduce_ex__',\n",
       " '__repr__',\n",
       " '__setattr__',\n",
       " '__sizeof__',\n",
       " '__str__',\n",
       " '__subclasshook__',\n",
       " 'end',\n",
       " 'endpos',\n",
       " 'expand',\n",
       " 'group',\n",
       " 'groupdict',\n",
       " 'groups',\n",
       " 'lastgroup',\n",
       " 'lastindex',\n",
       " 'pos',\n",
       " 're',\n",
       " 'regs',\n",
       " 'span',\n",
       " 'start',\n",
       " 'string']"
      ]
     },
     "execution_count": 7,
     "metadata": {},
     "output_type": "execute_result"
    }
   ],
   "source": [
    "dir(matched)"
   ]
  },
  {
   "cell_type": "markdown",
   "metadata": {},
   "source": [
    "## 3.4 표현식 compile, compile()\n",
    "- 자주 사용되는 표현식 컴파일해 둠"
   ]
  },
  {
   "cell_type": "code",
   "execution_count": 30,
   "metadata": {},
   "outputs": [
    {
     "name": "stdout",
     "output_type": "stream",
     "text": [
      "Text: Does this text match the pattern?\n",
      "\n",
      "Seeking \"this\" =>  match\n",
      "Seeking \"that\" =>  no match\n"
     ]
    }
   ],
   "source": [
    "import re\n",
    "regexs = [re.compile(p) for p in ['this', 'that']]\n",
    "\n",
    "text = 'Does this text match the pattern?'\n",
    "print(\"Text: %s\\n\" % text)\n",
    "\n",
    "for regex in regexs:\n",
    "    print('Seeking \"%s\" => ' % regex.pattern, end=' ')\n",
    "    if regex.search(text):\n",
    "        print(\"match\")\n",
    "    else:\n",
    "        print(\"no match\")"
   ]
  },
  {
   "cell_type": "markdown",
   "metadata": {},
   "source": [
    "## 3.5 다중 matching\n",
    "- findall()\n",
    "- finditer()"
   ]
  },
  {
   "cell_type": "code",
   "execution_count": 31,
   "metadata": {},
   "outputs": [
    {
     "name": "stdout",
     "output_type": "stream",
     "text": [
      "found 'ab'\n",
      "found 'ab'\n"
     ]
    }
   ],
   "source": [
    "import re\n",
    "text = 'abbaaabbbaaaaa'\n",
    "pattern = 'ab'\n",
    "\n",
    "for match in re.findall(pattern, text):\n",
    "    print(\"found '%s'\" % match)"
   ]
  },
  {
   "cell_type": "code",
   "execution_count": 32,
   "metadata": {},
   "outputs": [
    {
     "name": "stdout",
     "output_type": "stream",
     "text": [
      "found 'ab' at 0: 2\n",
      "found 'ab' at 5: 7\n"
     ]
    }
   ],
   "source": [
    "import re\n",
    "text = 'abbaaabbbaaaaa'\n",
    "pattern = 'ab'\n",
    "\n",
    "for match in re.finditer(pattern, text):\n",
    "    s = match.start()\n",
    "    e = match.end()\n",
    "    print(\"found '%s' at %d: %d\" % (text[s:e], s, e))"
   ]
  },
  {
   "cell_type": "markdown",
   "metadata": {
    "collapsed": true
   },
   "source": [
    "## 3.6 Pattern 문법\n",
    "- Pattern 반복\n",
    "- 위치, 범위 지정\n",
    "- metacharacter: *, +, ?.\n",
    "### greedy 탐색: 가능한 한 많은 입력값 소비 (최장일치)"
   ]
  },
  {
   "cell_type": "code",
   "execution_count": 8,
   "metadata": {},
   "outputs": [],
   "source": [
    "import re\n",
    "\n",
    "def test_patterns(text, patterns=[]):\n",
    "    \"\"\" text와 pattern list가 주어졌을 때, text 내에 일치되는 pattern 찾아 print\"\"\"\n",
    "    for pattern, desc in patterns:\n",
    "        print(\"Pattern %r (%s) \\n\" % (pattern, desc))\n",
    "        print(\" %r\" % text)\n",
    "        for match in re.finditer(pattern, text):\n",
    "            s = match.start()\n",
    "            e = match.end()\n",
    "            substr = text[s:e]\n",
    "            n_backslashes = text[:s].count('\\\\')\n",
    "            prefix = '.'* (s+n_backslashes)\n",
    "            print(\" %s%r\" % (prefix, substr))\n",
    "        print()\n",
    "    return()"
   ]
  },
  {
   "cell_type": "code",
   "execution_count": 13,
   "metadata": {},
   "outputs": [
    {
     "name": "stdout",
     "output_type": "stream",
     "text": [
      "Pattern 'ab*' (a followed by zero or more b) \n",
      "\n",
      " 'abbaabbba'\n",
      " 'abb'\n",
      " ...'a'\n",
      " ....'abbb'\n",
      " ........'a'\n",
      "\n",
      "Pattern 'ab+' (a followed by one or more b) \n",
      "\n",
      " 'abbaabbba'\n",
      " 'abb'\n",
      " ....'abbb'\n",
      "\n",
      "Pattern 'ab?' (a followed by zero or one b) \n",
      "\n",
      " 'abbaabbba'\n",
      " 'ab'\n",
      " ...'a'\n",
      " ....'ab'\n",
      " ........'a'\n",
      "\n",
      "Pattern 'ab{3}' (a followed by three b) \n",
      "\n",
      " 'abbaabbba'\n",
      " ....'abbb'\n",
      "\n",
      "Pattern 'ab{2,3}' (a followed by two to three b) \n",
      "\n",
      " 'abbaabbba'\n",
      " 'abb'\n",
      " ....'abbb'\n",
      "\n"
     ]
    },
    {
     "data": {
      "text/plain": [
       "()"
      ]
     },
     "execution_count": 13,
     "metadata": {},
     "output_type": "execute_result"
    }
   ],
   "source": [
    "test_patterns(\n",
    "    'abbaabbba',\n",
    "    [('ab*',       'a followed by zero or more b'),\n",
    "     ('ab+',       'a followed by one or more b'),\n",
    "     ('ab?',       'a followed by zero or one b'),\n",
    "     ('ab{3}',     'a followed by three b'),\n",
    "     ('ab{2,3}',   'a followed by two to three b')\n",
    "    ])"
   ]
  },
  {
   "cell_type": "markdown",
   "metadata": {},
   "source": [
    "### ?: greedy 탐색 비활성화 (최단일치)"
   ]
  },
  {
   "cell_type": "code",
   "execution_count": 14,
   "metadata": {},
   "outputs": [
    {
     "name": "stdout",
     "output_type": "stream",
     "text": [
      "Pattern 'ab*?' (a followed by zero or more b) \n",
      "\n",
      " 'abbaabbba'\n",
      " 'a'\n",
      " ...'a'\n",
      " ....'a'\n",
      " ........'a'\n",
      "\n",
      "Pattern 'ab+?' (a followed by one or more b) \n",
      "\n",
      " 'abbaabbba'\n",
      " 'ab'\n",
      " ....'ab'\n",
      "\n",
      "Pattern 'ab??' (a followed by zero or one b) \n",
      "\n",
      " 'abbaabbba'\n",
      " 'a'\n",
      " ...'a'\n",
      " ....'a'\n",
      " ........'a'\n",
      "\n",
      "Pattern 'ab{3}?' (a followed by three b) \n",
      "\n",
      " 'abbaabbba'\n",
      " ....'abbb'\n",
      "\n",
      "Pattern 'ab{2,3}?' (a followed by two to three b) \n",
      "\n",
      " 'abbaabbba'\n",
      " 'abb'\n",
      " ....'abb'\n",
      "\n"
     ]
    },
    {
     "data": {
      "text/plain": [
       "()"
      ]
     },
     "execution_count": 14,
     "metadata": {},
     "output_type": "execute_result"
    }
   ],
   "source": [
    "test_patterns(\n",
    "    'abbaabbba',\n",
    "    [('ab*?',       'a followed by zero or more b'),\n",
    "     ('ab+?',       'a followed by one or more b'),\n",
    "     ('ab??',       'a followed by zero or one b'),\n",
    "     ('ab{3}?',     'a followed by three b'),\n",
    "     ('ab{2,3}?',   'a followed by two to three b')\n",
    "    ])"
   ]
  },
  {
   "cell_type": "markdown",
   "metadata": {
    "collapsed": true
   },
   "source": [
    "### 문자 집합, [ ]\n",
    "- 집합 속의 어느 문자라도 match\n",
    "- 특정 문자 제외 [^ ]\n",
    "- 문자 범위, [a-z]"
   ]
  },
  {
   "cell_type": "code",
   "execution_count": 36,
   "metadata": {},
   "outputs": [
    {
     "name": "stdout",
     "output_type": "stream",
     "text": [
      "Pattern '[ab]' (either a or b) \n",
      "\n",
      " 'abbaabbba'\n",
      " 'a'\n",
      " .'b'\n",
      " ..'b'\n",
      " ...'a'\n",
      " ....'a'\n",
      " .....'b'\n",
      " ......'b'\n",
      " .......'b'\n",
      " ........'a'\n",
      "\n",
      "Pattern 'a[ab]+' (a followed by 1 or more a or b) \n",
      "\n",
      " 'abbaabbba'\n",
      " 'abbaabbba'\n",
      "\n",
      "Pattern 'a[ab]+?' (a followed by 1 or more a or b, not greedy) \n",
      "\n",
      " 'abbaabbba'\n",
      " 'ab'\n",
      " ...'aa'\n",
      "\n"
     ]
    },
    {
     "data": {
      "text/plain": [
       "()"
      ]
     },
     "execution_count": 36,
     "metadata": {},
     "output_type": "execute_result"
    }
   ],
   "source": [
    "test_patterns(\n",
    "    'abbaabbba',\n",
    "    [('[ab]',       'either a or b'),\n",
    "     ('a[ab]+',     'a followed by 1 or more a or b'),\n",
    "     ('a[ab]+?',    'a followed by 1 or more a or b, not greedy'),\n",
    "    ])"
   ]
  },
  {
   "cell_type": "code",
   "execution_count": 15,
   "metadata": {},
   "outputs": [
    {
     "name": "stdout",
     "output_type": "stream",
     "text": [
      "Pattern '[^-. ]+' (sequences without \"-, ., or space\") \n",
      "\n",
      " 'This is some text -- with punctuations.'\n",
      " 'This'\n",
      " .....'is'\n",
      " ........'some'\n",
      " .............'text'\n",
      " .....................'with'\n",
      " ..........................'punctuations'\n",
      "\n"
     ]
    },
    {
     "data": {
      "text/plain": [
       "()"
      ]
     },
     "execution_count": 15,
     "metadata": {},
     "output_type": "execute_result"
    }
   ],
   "source": [
    "test_patterns(\n",
    "    'This is some text -- with punctuations.',\n",
    "    [('[^-. ]+',  'sequences without \"-, ., or space\"')])"
   ]
  },
  {
   "cell_type": "code",
   "execution_count": 16,
   "metadata": {},
   "outputs": [
    {
     "name": "stdout",
     "output_type": "stream",
     "text": [
      "Pattern '[a-z]+' (sequences of lowercase letters) \n",
      "\n",
      " 'This is some text -- with punctuations.'\n",
      " .'his'\n",
      " .....'is'\n",
      " ........'some'\n",
      " .............'text'\n",
      " .....................'with'\n",
      " ..........................'punctuations'\n",
      "\n",
      "Pattern '[A-Z]+' (sequences of uppercase letters) \n",
      "\n",
      " 'This is some text -- with punctuations.'\n",
      " 'T'\n",
      "\n",
      "Pattern '[a-zA-Z]+' (sequences of lowercase or uppercase letters) \n",
      "\n",
      " 'This is some text -- with punctuations.'\n",
      " 'This'\n",
      " .....'is'\n",
      " ........'some'\n",
      " .............'text'\n",
      " .....................'with'\n",
      " ..........................'punctuations'\n",
      "\n",
      "Pattern '[A-Z][a-z]+' (one uppercase followed by lowercase letters) \n",
      "\n",
      " 'This is some text -- with punctuations.'\n",
      " 'This'\n",
      "\n"
     ]
    },
    {
     "data": {
      "text/plain": [
       "()"
      ]
     },
     "execution_count": 16,
     "metadata": {},
     "output_type": "execute_result"
    }
   ],
   "source": [
    "test_patterns(\n",
    "    'This is some text -- with punctuations.',\n",
    "    [('[a-z]+',    'sequences of lowercase letters'),\n",
    "     ('[A-Z]+',    'sequences of uppercase letters'),\n",
    "     ('[a-zA-Z]+', 'sequences of lowercase or uppercase letters'),\n",
    "     ('[A-Z][a-z]+', 'one uppercase followed by lowercase letters')\n",
    "    ])"
   ]
  },
  {
   "cell_type": "markdown",
   "metadata": {},
   "source": [
    "### '.': 임의의 문자 일치"
   ]
  },
  {
   "cell_type": "code",
   "execution_count": 17,
   "metadata": {},
   "outputs": [
    {
     "name": "stdout",
     "output_type": "stream",
     "text": [
      "Pattern 'a.' (a   followed by any one character) \n",
      "\n",
      " 'abbaabbba'\n",
      " 'ab'\n",
      " ...'aa'\n",
      "\n",
      "Pattern 'b.' (b   followed by any one character) \n",
      "\n",
      " 'abbaabbba'\n",
      " .'bb'\n",
      " .....'bb'\n",
      " .......'ba'\n",
      "\n",
      "Pattern 'a.*b' (a   followed by anything, ending in b) \n",
      "\n",
      " 'abbaabbba'\n",
      " 'abbaabbb'\n",
      "\n",
      "Pattern 'a.*?b' (a   followed by anything, ending in b) \n",
      "\n",
      " 'abbaabbba'\n",
      " 'ab'\n",
      " ...'aab'\n",
      "\n"
     ]
    },
    {
     "data": {
      "text/plain": [
       "()"
      ]
     },
     "execution_count": 17,
     "metadata": {},
     "output_type": "execute_result"
    }
   ],
   "source": [
    "test_patterns(\n",
    "    'abbaabbba',\n",
    "    [ ('a.',    'a   followed by any one character'),\n",
    "      ('b.',    'b   followed by any one character'),\n",
    "      ('a.*b',  'a   followed by anything, ending in b'),\n",
    "      ('a.*?b', 'a   followed by anything, ending in b')\n",
    "    ])"
   ]
  },
  {
   "cell_type": "markdown",
   "metadata": {},
   "source": [
    "### escape 문자\n",
    "- \\d : matches digits\n",
    "- \\D : matches not digits, [^0-9]\n",
    "- \\s : matches whitespaces, [ \\t\\n\\r\\f\\v]\n",
    "- \\S : matches not whitespace\n",
    "- \\w : matches a word (alphanumeric characters), [a-zA-Z0-9]\n",
    "- \\W : matches not word , [^a-zA-Z0-9]\n",
    "\n",
    "\\* '\\\\'도 '\\\\\\\\'로 해야 하기 때문에 문자열 앞에 'r'을 붙임"
   ]
  },
  {
   "cell_type": "code",
   "execution_count": 15,
   "metadata": {},
   "outputs": [
    {
     "name": "stdout",
     "output_type": "stream",
     "text": [
      "Pattern '\\\\d+' (sequence of digits) \n",
      "\n",
      " 'A prime #12   example!'\n",
      " .........'12'\n",
      "\n",
      "Pattern '\\\\D+' (sequence of nondigits) \n",
      "\n",
      " 'A prime #12   example!'\n",
      " 'A prime #'\n",
      " ...........'   example!'\n",
      "\n",
      "Pattern '\\\\s+' (sequence of whitespaces) \n",
      "\n",
      " 'A prime #12   example!'\n",
      " .' '\n",
      " .......' '\n",
      " ...........'   '\n",
      "\n",
      "Pattern '\\\\S+' (sequence of notwhitespaces) \n",
      "\n",
      " 'A prime #12   example!'\n",
      " 'A'\n",
      " ..'prime'\n",
      " ........'#12'\n",
      " ..............'example!'\n",
      "\n",
      "Pattern '\\\\w+' (alphanumeric characters) \n",
      "\n",
      " 'A prime #12   example!'\n",
      " 'A'\n",
      " ..'prime'\n",
      " .........'12'\n",
      " ..............'example'\n",
      "\n",
      "Pattern '\\\\W+' (nonalphanumeric) \n",
      "\n",
      " 'A prime #12   example!'\n",
      " .' '\n",
      " .......' #'\n",
      " ...........'   '\n",
      " .....................'!'\n",
      "\n"
     ]
    },
    {
     "data": {
      "text/plain": [
       "()"
      ]
     },
     "execution_count": 15,
     "metadata": {},
     "output_type": "execute_result"
    }
   ],
   "source": [
    "test_patterns(\n",
    "    'A prime #12   example!',\n",
    "    [ (r'\\d+',    'sequence of digits'),\n",
    "      (r'\\D+',    'sequence of nondigits'),\n",
    "      (r'\\s+',    'sequence of whitespaces'),\n",
    "      (r'\\S+',    'sequence of notwhitespaces'),\n",
    "      (r'\\w+',    'alphanumeric characters'),\n",
    "      (r'\\W+',    'nonalphanumeric')\n",
    "    ])"
   ]
  },
  {
   "cell_type": "code",
   "execution_count": 20,
   "metadata": {},
   "outputs": [
    {
     "name": "stdout",
     "output_type": "stream",
     "text": [
      "Pattern '\\\\\\\\.\\\\+' (escape code) \n",
      "\n",
      " '\\\\d+ \\\\D+ \\\\s+'\n",
      " '\\\\d+'\n",
      " .....'\\\\D+'\n",
      " ..........'\\\\s+'\n",
      "\n"
     ]
    },
    {
     "data": {
      "text/plain": [
       "()"
      ]
     },
     "execution_count": 20,
     "metadata": {},
     "output_type": "execute_result"
    }
   ],
   "source": [
    "test_patterns(\n",
    "    r'\\d+ \\D+ \\s+',\n",
    "    [ (r'\\\\.\\+', 'escape code') ])"
   ]
  },
  {
   "cell_type": "markdown",
   "metadata": {},
   "source": [
    "### 위치 지정\n",
    "- ^ : 문자열이나 줄의 시작\n",
    "- $ : 문자열이나 줄의 끝\n",
    "- \\A : 문자열의 시작\n",
    "- \\Z : 문자열의 끝\n",
    "- \\b : 단어의 시작이나 끝에 있는 공백 문자열\n",
    "- \\B : 단어의 시작이나 끝에 있지 않는 공백 문자열"
   ]
  },
  {
   "cell_type": "code",
   "execution_count": 17,
   "metadata": {},
   "outputs": [
    {
     "name": "stdout",
     "output_type": "stream",
     "text": [
      "Pattern '^\\\\w+' (word at start of string) \n",
      "\n",
      " 'This is some text -- with punctuations.'\n",
      " 'This'\n",
      "\n",
      "Pattern '\\\\A\\\\w+' (word at start of string) \n",
      "\n",
      " 'This is some text -- with punctuations.'\n",
      " 'This'\n",
      "\n",
      "Pattern '\\\\w+\\\\S*$' (word near end of string, skip punctuation) \n",
      "\n",
      " 'This is some text -- with punctuations.'\n",
      " ..........................'punctuations.'\n",
      "\n",
      "Pattern '\\\\w+\\\\S*\\\\Z' (word near end of string, skip punctuation) \n",
      "\n",
      " 'This is some text -- with punctuations.'\n",
      " ..........................'punctuations.'\n",
      "\n",
      "Pattern '\\\\w*t\\\\w*' (word containging \"t\") \n",
      "\n",
      " 'This is some text -- with punctuations.'\n",
      " .............'text'\n",
      " .....................'with'\n",
      " ..........................'punctuations'\n",
      "\n",
      "Pattern '\\\\bt\\\\w+' (t at start of word) \n",
      "\n",
      " 'This is some text -- with punctuations.'\n",
      " .............'text'\n",
      "\n",
      "Pattern '\\\\w+t\\\\b' (t at end of word) \n",
      "\n",
      " 'This is some text -- with punctuations.'\n",
      " .............'text'\n",
      "\n",
      "Pattern '\\\\Bt\\\\B' (t, not start or end of word) \n",
      "\n",
      " 'This is some text -- with punctuations.'\n",
      " .......................'t'\n",
      " ..............................'t'\n",
      " .................................'t'\n",
      "\n"
     ]
    },
    {
     "data": {
      "text/plain": [
       "()"
      ]
     },
     "execution_count": 17,
     "metadata": {},
     "output_type": "execute_result"
    }
   ],
   "source": [
    "test_patterns(\n",
    "    'This is some text -- with punctuations.',\n",
    "    [(r'^\\w+',      'word at start of string'),\n",
    "     (r'\\A\\w+',     'word at start of string'),\n",
    "     (r'\\w+\\S*$',   'word near end of string, skip punctuation'),\n",
    "     (r'\\w+\\S*\\Z',  'word near end of string, skip punctuation'),\n",
    "     (r'\\w*t\\w*',   'word containging \"t\"'),\n",
    "     (r'\\bt\\w+',    't at start of word'),\n",
    "     (r'\\w+t\\b',    't at end of word'),\n",
    "     (r'\\Bt\\B',     't, not start or end of word')\n",
    "    ])"
   ]
  },
  {
   "cell_type": "markdown",
   "metadata": {},
   "source": [
    "## 검색 범위 제한, search()"
   ]
  },
  {
   "cell_type": "code",
   "execution_count": 21,
   "metadata": {},
   "outputs": [
    {
     "name": "stdout",
     "output_type": "stream",
     "text": [
      "Text:  This is some text -- with punctuations.\n",
      "\n",
      "  0 :  3 = 'This'\n",
      "  5 :  6 = 'is'\n"
     ]
    }
   ],
   "source": [
    "import re\n",
    "\n",
    "text = 'This is some text -- with punctuations.'\n",
    "pattern = re.compile(r'\\b\\w*is\\w*\\b')\n",
    "\n",
    "print(\"Text: \", text)\n",
    "print()\n",
    "\n",
    "pos = 0\n",
    "while True:\n",
    "    match = pattern.search(text, pos)\n",
    "    if not match:\n",
    "        break\n",
    "    s = match.start()\n",
    "    e = match.end()\n",
    "    print(\" %2d : %2d = '%s'\" % (s, e-1, text[s:e]))\n",
    "    pos = e"
   ]
  },
  {
   "cell_type": "markdown",
   "metadata": {},
   "source": [
    "## group을 이용한 matching 분리\n",
    "- group을 표현하는 정규식: ()에 표현\n",
    "- group(): 한 group의 내용만 접근\n",
    "- groups(): 매칭된 pattern의 내부 group에 개별적으로 접근"
   ]
  },
  {
   "cell_type": "code",
   "execution_count": 22,
   "metadata": {},
   "outputs": [
    {
     "name": "stdout",
     "output_type": "stream",
     "text": [
      "Pattern 'a(ab)' (a followed by literal ab) \n",
      "\n",
      " 'abbaabbbbaaaaa'\n",
      " ...'aab'\n",
      "\n",
      "Pattern 'a(a*b*)' (a followed by 0-n a and 0-n b) \n",
      "\n",
      " 'abbaabbbbaaaaa'\n",
      " 'abb'\n",
      " ...'aabbbb'\n",
      " .........'aaaaa'\n",
      "\n",
      "Pattern 'a(ab)*' (a followed by 0-n ab) \n",
      "\n",
      " 'abbaabbbbaaaaa'\n",
      " 'a'\n",
      " ...'aab'\n",
      " .........'a'\n",
      " ..........'a'\n",
      " ...........'a'\n",
      " ............'a'\n",
      " .............'a'\n",
      "\n",
      "Pattern 'a(ab)+' (a followed by 1-n ab) \n",
      "\n",
      " 'abbaabbbbaaaaa'\n",
      " ...'aab'\n",
      "\n"
     ]
    },
    {
     "data": {
      "text/plain": [
       "()"
      ]
     },
     "execution_count": 22,
     "metadata": {},
     "output_type": "execute_result"
    }
   ],
   "source": [
    "test_patterns(\n",
    "    'abbaabbbbaaaaa',\n",
    "    [ ('a(ab)',    'a followed by literal ab'),\n",
    "      ('a(a*b*)',  'a followed by 0-n a and 0-n b'),\n",
    "      ('a(ab)*',   'a followed by 0-n ab'),\n",
    "      ('a(ab)+',   'a followed by 1-n ab')\n",
    "    ])"
   ]
  },
  {
   "cell_type": "code",
   "execution_count": 23,
   "metadata": {},
   "outputs": [
    {
     "name": "stdout",
     "output_type": "stream",
     "text": [
      "This is some text -- with punctuations.\n",
      "\n",
      "Pattern '^(\\\\w+)' (word at start of string)\n",
      "\n",
      "    ('This',)\n",
      "\n",
      "Pattern '(\\\\w+)\\\\S*$' (word at end, with optional punctuation)\n",
      "\n",
      "    ('punctuations',)\n",
      "\n",
      "Pattern '(\\\\bt\\\\w+)\\\\W+(\\\\w+)' (word at start with t, another word)\n",
      "\n",
      "    ('text', 'with')\n",
      "\n",
      "Pattern '(\\\\w+t)\\\\b' (word ending with t)\n",
      "\n",
      "    ('text',)\n",
      "\n"
     ]
    }
   ],
   "source": [
    "import re\n",
    "\n",
    "text = 'This is some text -- with punctuations.'\n",
    "\n",
    "print(text)\n",
    "print()\n",
    "\n",
    "patterns = [\n",
    "    (r'^(\\w+)',  'word at start of string'),\n",
    "    (r'(\\w+)\\S*$',  'word at end, with optional punctuation'),\n",
    "    (r'(\\bt\\w+)\\W+(\\w+)',  'word at start with t, another word'),\n",
    "    (r'(\\w+t)\\b',  'word ending with t')\n",
    "]\n",
    "\n",
    "for pattern, desc in patterns:\n",
    "    regex = re.compile(pattern)\n",
    "    match = regex.search(text)\n",
    "    print(\"Pattern %r (%s)\\n\" % (pattern, desc))\n",
    "    print(\"   \", match.groups())\n",
    "    print()"
   ]
  },
  {
   "cell_type": "code",
   "execution_count": 21,
   "metadata": {},
   "outputs": [
    {
     "name": "stdout",
     "output_type": "stream",
     "text": [
      "Input text             : This is some text -- with punctuations.\n",
      "Pattern                : (\\bt\\w+)\\W+(\\w+)\n",
      "Entire match           : text -- with\n",
      "Word starting with 't' : text\n",
      "Word after 't' word    : with\n"
     ]
    }
   ],
   "source": [
    "import re\n",
    "\n",
    "text = 'This is some text -- with punctuations.'\n",
    "\n",
    "print(\"Input text             :\", text)\n",
    "\n",
    "regex = re.compile(r'(\\bt\\w+)\\W+(\\w+)')             # group(1): (\\bt\\w+), group(2): (\\w+)\n",
    "print(\"Pattern                :\", regex.pattern)\n",
    "\n",
    "match = regex.search(text)\n",
    "print(\"Entire match           :\", match.group(0))   # matching된 문자영 전체\n",
    "print(\"Word starting with 't' :\", match.group(1))   # matching된 첫번째 group\n",
    "print(\"Word after 't' word    :\", match.group(2))   # matching된 두번째 group"
   ]
  },
  {
   "cell_type": "markdown",
   "metadata": {},
   "source": [
    "### group에 이름 붙이기\n",
    "```\n",
    "  (?P<name>pattern)\n",
    "```\n",
    "- groupdict(): group 이름에 대응되는 matching된 문자열을 dictionary 형태로 추출"
   ]
  },
  {
   "cell_type": "code",
   "execution_count": 22,
   "metadata": {},
   "outputs": [
    {
     "name": "stdout",
     "output_type": "stream",
     "text": [
      "Input text             : This is some text -- with punctuations.\n",
      "Maching '^(?P<first_name>\\w+)'\n",
      "    ('This',)\n",
      "    {'first_name': 'This'}\n",
      "\n",
      "Maching '(?P<last_name>\\w+)\\S*$'\n",
      "    ('punctuations',)\n",
      "    {'last_name': 'punctuations'}\n",
      "\n",
      "Maching '(?P<t_word>\\bt\\w+)\\W+(?P<other_word>\\w+)'\n",
      "    ('text', 'with')\n",
      "    {'t_word': 'text', 'other_word': 'with'}\n",
      "\n",
      "Maching '(?P<ends_with_t>\\w+t)\\b'\n",
      "    ('text',)\n",
      "    {'ends_with_t': 'text'}\n",
      "\n"
     ]
    }
   ],
   "source": [
    "import re\n",
    "\n",
    "text = 'This is some text -- with punctuations.'\n",
    "\n",
    "print(\"Input text             :\", text)\n",
    "\n",
    "patterns = [\n",
    "    r'^(?P<first_name>\\w+)',\n",
    "    r'(?P<last_name>\\w+)\\S*$',\n",
    "    r'(?P<t_word>\\bt\\w+)\\W+(?P<other_word>\\w+)',\n",
    "    r'(?P<ends_with_t>\\w+t)\\b'\n",
    "]\n",
    "for pattern in patterns:\n",
    "    regex = re.compile(pattern)\n",
    "    match = regex.search(text)\n",
    "    print(\"Maching '%s'\" % pattern)\n",
    "    print(\"   \", match.groups())\n",
    "    print(\"   \", match.groupdict())\n",
    "    print()"
   ]
  },
  {
   "cell_type": "markdown",
   "metadata": {},
   "source": [
    "## 검색 option\n",
    "- 대소문자 구별하지 않는 matching\n",
    "- 다중 라인 입력\n",
    "- unicode\n",
    "- verbose 표현식\n",
    "- pattern에 flag 넣기"
   ]
  },
  {
   "cell_type": "markdown",
   "metadata": {},
   "source": [
    "### 대소문자 구별하지 않는 matching, IGNORECASE"
   ]
  },
  {
   "cell_type": "code",
   "execution_count": 23,
   "metadata": {},
   "outputs": [
    {
     "name": "stdout",
     "output_type": "stream",
     "text": [
      "Text:\n",
      "  'This is some text -- with punctuation.'\n",
      "Pattern:\n",
      "  \\bT\\w+\n",
      "Case-sensitive:\n",
      "  'This'\n",
      "Case-insensitive:\n",
      "  'This'\n",
      "  'text'\n"
     ]
    }
   ],
   "source": [
    "import re\n",
    "\n",
    "text = 'This is some text -- with punctuation.'\n",
    "pattern = r'\\bT\\w+'\n",
    "with_case = re.compile(pattern)\n",
    "without_case = re.compile(pattern, re.IGNORECASE)\n",
    "\n",
    "print('Text:\\n  %r' % text)\n",
    "print('Pattern:\\n  %s' % pattern)\n",
    "print('Case-sensitive:')\n",
    "for match in with_case.findall(text):\n",
    "    print('  %r' % match)\n",
    "print('Case-insensitive:')\n",
    "for match in without_case.findall(text):\n",
    "    print('  %r' % match)"
   ]
  },
  {
   "cell_type": "markdown",
   "metadata": {},
   "source": [
    "### 다중 라인 입력\n",
    "- MULTILINE: ^와 $는 각 줄의 시작과 끝에 적용\n",
    "- DOTALL: '.'는 줄바꿈 문자도 포함하여 매칭(일반적으로는 줄바꿈 제외)"
   ]
  },
  {
   "cell_type": "code",
   "execution_count": 24,
   "metadata": {},
   "outputs": [
    {
     "name": "stdout",
     "output_type": "stream",
     "text": [
      "Text:\n",
      "  'This is some text -- with punctuation.\\nA second line.'\n",
      "Pattern:\n",
      "  (^\\w+)|(\\w+\\S*$)\n",
      "Single Line :\n",
      "  ('This', '')\n",
      "  ('', 'line.')\n",
      "Multline    :\n",
      "  ('This', '')\n",
      "  ('', 'punctuation.')\n",
      "  ('A', '')\n",
      "  ('', 'line.')\n"
     ]
    }
   ],
   "source": [
    "import re\n",
    "\n",
    "text = \"\"\"This is some text -- with punctuation.\n",
    "A second line.\"\"\"\n",
    "pattern = r'(^\\w+)|(\\w+\\S*$)'\n",
    "single_line = re.compile(pattern)\n",
    "multiline = re.compile(pattern, re.MULTILINE)\n",
    "\n",
    "print('Text:\\n  %r' % text)\n",
    "print('Pattern:\\n  %s' % pattern)\n",
    "print('Single Line :')\n",
    "for match in single_line.findall(text):\n",
    "    print('  %r' % (match,))\n",
    "print('Multline    :')\n",
    "for match in multiline.findall(text):\n",
    "    print('  %r' % (match,))"
   ]
  },
  {
   "cell_type": "code",
   "execution_count": 25,
   "metadata": {},
   "outputs": [
    {
     "name": "stdout",
     "output_type": "stream",
     "text": [
      "Text:\n",
      "  'This is some text -- with punctuation.\\nA second line.'\n",
      "Pattern:\n",
      "  .+\n",
      "No newlines :\n",
      "  'This is some text -- with punctuation.'\n",
      "  'A second line.'\n",
      "Dotall      :\n",
      "  'This is some text -- with punctuation.\\nA second line.'\n"
     ]
    }
   ],
   "source": [
    "import re\n",
    "\n",
    "text = \"\"\"This is some text -- with punctuation.\n",
    "A second line.\"\"\"\n",
    "pattern = r'.+'\n",
    "no_newlines = re.compile(pattern)\n",
    "dotall = re.compile(pattern, re.DOTALL)\n",
    "\n",
    "print ('Text:\\n  %r' % text)\n",
    "print ('Pattern:\\n  %s' % pattern)\n",
    "print ('No newlines :')\n",
    "for match in no_newlines.findall(text):\n",
    "    print ('  %r' % match)\n",
    "print ('Dotall      :')\n",
    "for match in dotall.findall(text):\n",
    "    print ('  %r' % match)"
   ]
  },
  {
   "cell_type": "markdown",
   "metadata": {
    "collapsed": true
   },
   "source": [
    "## 3.8 정규표현식과 Beautifulsoup"
   ]
  },
  {
   "cell_type": "code",
   "execution_count": 26,
   "metadata": {},
   "outputs": [
    {
     "name": "stdout",
     "output_type": "stream",
     "text": [
      "../img/gifts/img1.jpg\n",
      "../img/gifts/img2.jpg\n",
      "../img/gifts/img3.jpg\n",
      "../img/gifts/img4.jpg\n",
      "../img/gifts/img6.jpg\n"
     ]
    }
   ],
   "source": [
    "from urllib.request import urlopen\n",
    "from bs4 import BeautifulSoup\n",
    "import re\n",
    "\n",
    "html = urlopen('http://www.pythonscraping.com/pages/page3.html')\n",
    "bs = BeautifulSoup(html, 'html.parser')\n",
    "images = bs.find_all('img', {'src':re.compile('\\.\\.\\/img\\/gifts\\/img.*\\.jpg')})\n",
    "for image in images: \n",
    "    print(image['src'])"
   ]
  },
  {
   "cell_type": "markdown",
   "metadata": {},
   "source": [
    "## 3.9 Lambda 표현식\n",
    "\n",
    "- Lambda: 다른 함수에 변수로 전달되는 함수\n",
    "- Beautifulsoup에서는 특정 타입의 함수를 findAll 함수에 매개변수로 넘길 수 있음\n",
    "    - 태그 객체를 매개변수\n",
    "    - 불리언 값만 반환: BS는 True 인 것만 반환\n",
    "- 예제) bs.findAll(lambda tag: len(tag.attrs) == 2)\n",
    "    - tag의 attrs 개수가 2인 tag 만 반환 "
   ]
  },
  {
   "cell_type": "code",
   "execution_count": 13,
   "metadata": {},
   "outputs": [
    {
     "name": "stdout",
     "output_type": "stream",
     "text": [
      "0 <img src=\"../img/gifts/logo.jpg\" style=\"float:left;\"/>\n",
      "\n",
      "\n",
      "1 <tr class=\"gift\" id=\"gift1\"><td>\n",
      "Vegetable Basket\n",
      "</td><td>\n",
      "This vegetable basket is the perfect gift for your health conscious (or overweight) friends!\n",
      "<span class=\"excitingNote\">Now with super-colorful bell peppers!</span>\n",
      "</td><td>\n",
      "$15.00\n",
      "</td><td>\n",
      "<img src=\"../img/gifts/img1.jpg\"/>\n",
      "</td></tr>\n",
      "\n",
      "\n",
      "2 <tr class=\"gift\" id=\"gift2\"><td>\n",
      "Russian Nesting Dolls\n",
      "</td><td>\n",
      "Hand-painted by trained monkeys, these exquisite dolls are priceless! And by \"priceless,\" we mean \"extremely expensive\"! <span class=\"excitingNote\">8 entire dolls per set! Octuple the presents!</span>\n",
      "</td><td>\n",
      "$10,000.52\n",
      "</td><td>\n",
      "<img src=\"../img/gifts/img2.jpg\"/>\n",
      "</td></tr>\n",
      "\n",
      "\n",
      "3 <tr class=\"gift\" id=\"gift3\"><td>\n",
      "Fish Painting\n",
      "</td><td>\n",
      "If something seems fishy about this painting, it's because it's a fish! <span class=\"excitingNote\">Also hand-painted by trained monkeys!</span>\n",
      "</td><td>\n",
      "$10,005.00\n",
      "</td><td>\n",
      "<img src=\"../img/gifts/img3.jpg\"/>\n",
      "</td></tr>\n",
      "\n",
      "\n",
      "4 <tr class=\"gift\" id=\"gift4\"><td>\n",
      "Dead Parrot\n",
      "</td><td>\n",
      "This is an ex-parrot! <span class=\"excitingNote\">Or maybe he's only resting?</span>\n",
      "</td><td>\n",
      "$0.50\n",
      "</td><td>\n",
      "<img src=\"../img/gifts/img4.jpg\"/>\n",
      "</td></tr>\n",
      "\n",
      "\n",
      "5 <tr class=\"gift\" id=\"gift5\"><td>\n",
      "Mystery Box\n",
      "</td><td>\n",
      "If you love suprises, this mystery box is for you! Do not place on light-colored surfaces. May cause oil staining. <span class=\"excitingNote\">Keep your friends guessing!</span>\n",
      "</td><td>\n",
      "$1.50\n",
      "</td><td>\n",
      "<img src=\"../img/gifts/img6.jpg\"/>\n",
      "</td></tr>\n",
      "\n",
      "\n"
     ]
    }
   ],
   "source": [
    "from urllib.request import urlopen\n",
    "from bs4 import BeautifulSoup\n",
    "import re\n",
    "\n",
    "html = urlopen('http://www.pythonscraping.com/pages/page3.html')\n",
    "bs = BeautifulSoup(html, 'html.parser')\n",
    "two_attrs = bs.find_all(lambda tag: len(tag.attrs) == 2)\n",
    "i = 0\n",
    "for two_attr in two_attrs : \n",
    "    print(i, two_attr)\n",
    "    print(\"\\n\")\n",
    "    i += 1"
   ]
  },
  {
   "cell_type": "code",
   "execution_count": 27,
   "metadata": {},
   "outputs": [
    {
     "data": {
      "text/plain": [
       "[<span class=\"excitingNote\">Or maybe he's only resting?</span>]"
      ]
     },
     "execution_count": 27,
     "metadata": {},
     "output_type": "execute_result"
    }
   ],
   "source": [
    "bs.find_all(lambda tag: tag.get_text() == 'Or maybe he\\'s only resting?')"
   ]
  },
  {
   "cell_type": "code",
   "execution_count": 28,
   "metadata": {},
   "outputs": [
    {
     "data": {
      "text/plain": [
       "[\"Or maybe he's only resting?\"]"
      ]
     },
     "execution_count": 28,
     "metadata": {},
     "output_type": "execute_result"
    }
   ],
   "source": [
    "bs.find_all('', text='Or maybe he\\'s only resting?')"
   ]
  },
  {
   "cell_type": "code",
   "execution_count": null,
   "metadata": {},
   "outputs": [],
   "source": []
  }
 ],
 "metadata": {
  "anaconda-cloud": {},
  "kernelspec": {
   "display_name": "Python 3 (ipykernel)",
   "language": "python",
   "name": "python3"
  },
  "language_info": {
   "codemirror_mode": {
    "name": "ipython",
    "version": 3
   },
   "file_extension": ".py",
   "mimetype": "text/x-python",
   "name": "python",
   "nbconvert_exporter": "python",
   "pygments_lexer": "ipython3",
   "version": "3.9.12"
  }
 },
 "nbformat": 4,
 "nbformat_minor": 2
}
