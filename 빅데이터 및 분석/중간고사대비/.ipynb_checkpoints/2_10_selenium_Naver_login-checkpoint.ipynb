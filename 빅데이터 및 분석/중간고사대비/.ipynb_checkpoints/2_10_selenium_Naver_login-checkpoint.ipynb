{
 "cells": [
  {
   "cell_type": "markdown",
   "metadata": {},
   "source": [
    "# Selenium 사용하기\n",
    "- pip install selenium\n",
    "- 웹 드라이버 설치(설치된 폴더 기억: C:\\Users\\okcy\\chromedriver_win32)"
   ]
  },
  {
   "cell_type": "code",
   "execution_count": 17,
   "metadata": {},
   "outputs": [],
   "source": [
    "from selenium import webdriver\n",
    "from selenium.webdriver.common.by import By"
   ]
  },
  {
   "cell_type": "code",
   "execution_count": 11,
   "metadata": {},
   "outputs": [
    {
     "name": "stderr",
     "output_type": "stream",
     "text": [
      "C:\\Users\\Uou\\AppData\\Local\\Temp\\ipykernel_10392\\796368373.py:1: DeprecationWarning: executable_path has been deprecated, please pass in a Service object\n",
      "  driver = webdriver.Chrome(r'./chromedriver.exe')\n"
     ]
    }
   ],
   "source": [
    "driver = webdriver.Chrome(r'./chromedriver.exe')"
   ]
  },
  {
   "cell_type": "code",
   "execution_count": 12,
   "metadata": {},
   "outputs": [
    {
     "data": {
      "text/plain": [
       "['__abstractmethods__',\n",
       " '__class__',\n",
       " '__delattr__',\n",
       " '__dict__',\n",
       " '__dir__',\n",
       " '__doc__',\n",
       " '__enter__',\n",
       " '__eq__',\n",
       " '__exit__',\n",
       " '__format__',\n",
       " '__ge__',\n",
       " '__getattribute__',\n",
       " '__gt__',\n",
       " '__hash__',\n",
       " '__init__',\n",
       " '__init_subclass__',\n",
       " '__le__',\n",
       " '__lt__',\n",
       " '__module__',\n",
       " '__ne__',\n",
       " '__new__',\n",
       " '__reduce__',\n",
       " '__reduce_ex__',\n",
       " '__repr__',\n",
       " '__setattr__',\n",
       " '__sizeof__',\n",
       " '__str__',\n",
       " '__subclasshook__',\n",
       " '__weakref__',\n",
       " '_abc_impl',\n",
       " '_authenticator_id',\n",
       " '_file_detector',\n",
       " '_get_cdp_details',\n",
       " '_is_remote',\n",
       " '_mobile',\n",
       " '_shadowroot_cls',\n",
       " '_switch_to',\n",
       " '_unwrap_value',\n",
       " '_web_element_cls',\n",
       " '_wrap_value',\n",
       " 'add_cookie',\n",
       " 'add_credential',\n",
       " 'add_virtual_authenticator',\n",
       " 'application_cache',\n",
       " 'back',\n",
       " 'bidi_connection',\n",
       " 'capabilities',\n",
       " 'caps',\n",
       " 'close',\n",
       " 'command_executor',\n",
       " 'create_options',\n",
       " 'create_web_element',\n",
       " 'current_url',\n",
       " 'current_window_handle',\n",
       " 'delete_all_cookies',\n",
       " 'delete_cookie',\n",
       " 'delete_network_conditions',\n",
       " 'desired_capabilities',\n",
       " 'error_handler',\n",
       " 'execute',\n",
       " 'execute_async_script',\n",
       " 'execute_cdp_cmd',\n",
       " 'execute_script',\n",
       " 'file_detector',\n",
       " 'file_detector_context',\n",
       " 'find_element',\n",
       " 'find_elements',\n",
       " 'forward',\n",
       " 'fullscreen_window',\n",
       " 'get',\n",
       " 'get_cookie',\n",
       " 'get_cookies',\n",
       " 'get_credentials',\n",
       " 'get_issue_message',\n",
       " 'get_log',\n",
       " 'get_network_conditions',\n",
       " 'get_pinned_scripts',\n",
       " 'get_screenshot_as_base64',\n",
       " 'get_screenshot_as_file',\n",
       " 'get_screenshot_as_png',\n",
       " 'get_sinks',\n",
       " 'get_window_position',\n",
       " 'get_window_rect',\n",
       " 'get_window_size',\n",
       " 'implicitly_wait',\n",
       " 'launch_app',\n",
       " 'log_types',\n",
       " 'maximize_window',\n",
       " 'minimize_window',\n",
       " 'mobile',\n",
       " 'name',\n",
       " 'orientation',\n",
       " 'page_source',\n",
       " 'pin_script',\n",
       " 'pinned_scripts',\n",
       " 'port',\n",
       " 'print_page',\n",
       " 'quit',\n",
       " 'refresh',\n",
       " 'remove_all_credentials',\n",
       " 'remove_credential',\n",
       " 'remove_virtual_authenticator',\n",
       " 'save_screenshot',\n",
       " 'service',\n",
       " 'session_id',\n",
       " 'set_network_conditions',\n",
       " 'set_page_load_timeout',\n",
       " 'set_permissions',\n",
       " 'set_script_timeout',\n",
       " 'set_sink_to_use',\n",
       " 'set_user_verified',\n",
       " 'set_window_position',\n",
       " 'set_window_rect',\n",
       " 'set_window_size',\n",
       " 'start_client',\n",
       " 'start_desktop_mirroring',\n",
       " 'start_session',\n",
       " 'start_tab_mirroring',\n",
       " 'stop_casting',\n",
       " 'stop_client',\n",
       " 'switch_to',\n",
       " 'timeouts',\n",
       " 'title',\n",
       " 'unpin',\n",
       " 'vendor_prefix',\n",
       " 'virtual_authenticator_id',\n",
       " 'window_handles']"
      ]
     },
     "execution_count": 12,
     "metadata": {},
     "output_type": "execute_result"
    }
   ],
   "source": [
    "dir(driver)"
   ]
  },
  {
   "cell_type": "markdown",
   "metadata": {},
   "source": [
    "![webdriver_실행](../images/webdriver_실행.png)"
   ]
  },
  {
   "cell_type": "markdown",
   "metadata": {},
   "source": [
    "## 1. Naver login"
   ]
  },
  {
   "cell_type": "code",
   "execution_count": 13,
   "metadata": {},
   "outputs": [],
   "source": [
    "driver.get(\"http://naver.com\")"
   ]
  },
  {
   "cell_type": "code",
   "execution_count": 14,
   "metadata": {},
   "outputs": [
    {
     "data": {
      "text/plain": [
       "True"
      ]
     },
     "execution_count": 14,
     "metadata": {},
     "output_type": "execute_result"
    }
   ],
   "source": [
    "# naver 화면 screenshot 저장\n",
    "driver.save_screenshot('webdriver_naver_0.png')"
   ]
  },
  {
   "cell_type": "markdown",
   "metadata": {},
   "source": [
    "### code(프로그램)로 움직일 browser 생성\n",
    "\n",
    "![webdriver_실행](../images/webdriver_naver_0.png)"
   ]
  },
  {
   "cell_type": "markdown",
   "metadata": {},
   "source": [
    "### 로그인 button 누르기\n",
    "\n",
    "- 로그인버튼의 XPath 복사\n",
    "\n",
    "![버튼누르기](../images/webdriver_naver_1.png)"
   ]
  },
  {
   "cell_type": "markdown",
   "metadata": {},
   "source": [
    "### XPath(XML Path Language)\n",
    "- http://tcpschool.com/xml/xml_xpath_intro, https://www.w3.org/TR/xpath-31/\n",
    "- XML 문서의 특정 요소나 속성에 접근하기 위한 경로를 지정하는 언어\n",
    "- XML DOM에서 노드를 검색할 때에도 사용"
   ]
  },
  {
   "cell_type": "code",
   "execution_count": 20,
   "metadata": {},
   "outputs": [],
   "source": [
    "#xpath = \"\"\"//*[@id=\"account\"]\"\"\"\n",
    "#xpath = \"\"\"//*[@id=\"account\"]/a/i\"\"\"\n",
    "#driver.find_element_by_xpath(xpath).click()\n",
    "driver.find_element(By.CLASS_NAME, \"ico_naver\").click() "
   ]
  },
  {
   "cell_type": "code",
   "execution_count": null,
   "metadata": {},
   "outputs": [],
   "source": [
    "//*[@id=\"account\"]"
   ]
  },
  {
   "cell_type": "markdown",
   "metadata": {},
   "source": [
    "![로긴버턴후](../images/webdriver_naver_2.png)"
   ]
  },
  {
   "cell_type": "markdown",
   "metadata": {},
   "source": [
    "### ID, 비밀번호 입력 후 로그인\n",
    "\n",
    "![ID_PW](../images/webdriver_naver_3.png)"
   ]
  },
  {
   "cell_type": "code",
   "execution_count": 21,
   "metadata": {},
   "outputs": [],
   "source": [
    "elem_login = driver.find_element(By.ID, \"id\")\n",
    "elem_login.clear()\n",
    "elem_login.send_keys(\"\") #자신의 ID을 넣으세요"
   ]
  },
  {
   "cell_type": "code",
   "execution_count": 38,
   "metadata": {},
   "outputs": [],
   "source": [
    "elem_login = driver.find_element(By.ID, \"pw\")\n",
    "elem_login.clear()\n",
    "elem_login.send_keys(\"\") #자신의 비번을 넣으세요"
   ]
  },
  {
   "cell_type": "code",
   "execution_count": 40,
   "metadata": {},
   "outputs": [],
   "source": [
    "#xpath = \"\"\"//*[@id=\"log.login\"]\"\"\"\n",
    "#driver.find_element_by_xpath(xpath).click()\n",
    "driver.find_element(By.ID, \"log.login\").click() "
   ]
  },
  {
   "cell_type": "markdown",
   "metadata": {},
   "source": [
    "## //*[@id=\"log.login\"]"
   ]
  },
  {
   "cell_type": "markdown",
   "metadata": {},
   "source": [
    "# 로그인 화면\n",
    "\n",
    "![로그인후](../images/webdriver_naver_4.png)"
   ]
  },
  {
   "cell_type": "markdown",
   "metadata": {},
   "source": [
    "## 2. 메일(mail.naver.com) 접근"
   ]
  },
  {
   "cell_type": "code",
   "execution_count": 41,
   "metadata": {},
   "outputs": [],
   "source": [
    "driver.get(\"http://mail.naver.com\")"
   ]
  },
  {
   "cell_type": "markdown",
   "metadata": {},
   "source": [
    "![메일](../images/webdriver_naver_5.png)"
   ]
  },
  {
   "cell_type": "markdown",
   "metadata": {},
   "source": [
    "### 메일 페이지 읽어 오기"
   ]
  },
  {
   "cell_type": "code",
   "execution_count": 53,
   "metadata": {},
   "outputs": [],
   "source": [
    "from bs4 import BeautifulSoup\n",
    "\n",
    "html = driver.page_source\n",
    "soup = BeautifulSoup(html, 'html.parser')"
   ]
  },
  {
   "cell_type": "code",
   "execution_count": null,
   "metadata": {},
   "outputs": [],
   "source": [
    "soup"
   ]
  },
  {
   "cell_type": "markdown",
   "metadata": {},
   "source": [
    "![메일보낸사람](../images/webdriver_naver_6.png)"
   ]
  },
  {
   "cell_type": "code",
   "execution_count": 54,
   "metadata": {},
   "outputs": [
    {
     "data": {
      "text/plain": [
       "<div class=\"subject\"><a class=\"_d2(mcDragndrop|html5DragStart)\" draggable=\"true\" href=\"/read/popup/?nMailId=61949\"><span class=\"text _ccr(lst.title) _c1(mrCore|clickTitle|61949) _m2(mrCore|middleClickTitle|61949)\" foldersn=\"\" mailsn=\"61949\"><span class=\"folderName _ccr(lst.title) _c1(mrCore|clickTitle|61949) _m2(mrCore|middleClickTitle|61949)\" foldersn=\"\" mailsn=\"61949\"><span class=\"blind\">에 분류됨</span></span><strong class=\"mail_title _ccr(lst.title) _c1(mrCore|clickTitle|61949) _m2(mrCore|middleClickTitle|61949)\" foldersn=\"\" mailsn=\"61949\"><span class=\"blind\">메일 제목:</span>새로운 환경에서 로그인 되었습니다.</strong></span></a><a class=\"icon_previewMail\" href=\"#\" title=\"메일 내용 미리보기\"><span class=\"spr _m1(mlCore|previewMail|61949|0) _c1(mlCore|doStop) _stopDefault\"><em class=\"blind\">메일 내용 미리보기 레이어 열림</em></span></a><a class=\"newWindow _ccr(lst.newwindow) _c1(mrCore|popupRead|61949) _m1(mlCore|doStop) _stopDefault\" href=\"#\" title=\"새 창으로 메일 보기\"><span class=\"spr\"><em class=\"blind\">새 창으로 메일 보기</em></span></a></div>"
      ]
     },
     "execution_count": 54,
     "metadata": {},
     "output_type": "execute_result"
    }
   ],
   "source": [
    "raw_list = soup.find_all('div', attrs={'class':'subject'})\n",
    "raw_list[0]"
   ]
  },
  {
   "cell_type": "code",
   "execution_count": 55,
   "metadata": {},
   "outputs": [
    {
     "data": {
      "text/plain": [
       "['에 분류됨메일 제목:새로운 환경에서 로그인 되었습니다.',\n",
       " '에 분류됨메일 제목:[중고나라] 상품 등록 관련 일부 서비스 종료 안내',\n",
       " '에 분류됨메일 제목:IMPORTANT NOTICE: Due to the recent update of NFTs, all unverified accounts will be suspended on: Thursday 06 October 2022 !',\n",
       " '에 분류됨메일 제목:BC카드 인터넷회원 개인정보 이용내역 통지 안내',\n",
       " '에 분류됨메일 제목:[DK SHOP(동국제약공식몰)] 주문하신 상품이 발송되었습니다.',\n",
       " '에 분류됨메일 제목:(광고) [FUNSHOP]  쉿! 혼자보세요. 히든-X',\n",
       " '에 분류됨메일 제목:[GS SHOP] 개인정보 이용내역 안내 드립니다.',\n",
       " '에 분류됨메일 제목:✨ 강렬하고 아름답게',\n",
       " '에 분류됨메일 제목:[업비트] 입금완료 안내',\n",
       " '에 분류됨메일 제목:[DK SHOP(동국제약공식몰)] 주문하신 상품에 대한 입금이 확인되었습니다.',\n",
       " '에 분류됨메일 제목:[DK SHOP(동국제약공식몰)] 오복석님의 주문내역을 알려드립니다.',\n",
       " '에 분류됨메일 제목:[DK SHOP(동국제약공식몰)] 김대환 님의 회원가입을 축하드립니다.',\n",
       " '에 분류됨메일 제목:엄마 & 사랑하는 아이 👩 👧 👦',\n",
       " '에 분류됨메일 제목:집을 위한 잔디깎이 & 도구',\n",
       " '에 분류됨메일 제목:Exclusive $25,000 Prize Pool For P2P Users']"
      ]
     },
     "execution_count": 55,
     "metadata": {},
     "output_type": "execute_result"
    }
   ],
   "source": [
    "send_list = [raw_list[n].find('span').get_text() for n in range(0, len(raw_list))]\n",
    "send_list"
   ]
  },
  {
   "cell_type": "code",
   "execution_count": 56,
   "metadata": {},
   "outputs": [
    {
     "data": {
      "text/plain": [
       "[<strong class=\"mail_title _ccr(lst.title) _c1(mrCore|clickTitle|61949) _m2(mrCore|middleClickTitle|61949)\" foldersn=\"\" mailsn=\"61949\"><span class=\"blind\">메일 제목:</span>새로운 환경에서 로그인 되었습니다.</strong>]"
      ]
     },
     "execution_count": 56,
     "metadata": {},
     "output_type": "execute_result"
    }
   ],
   "source": [
    "raw_list[0].find_all('strong')"
   ]
  },
  {
   "cell_type": "code",
   "execution_count": 57,
   "metadata": {},
   "outputs": [
    {
     "data": {
      "text/plain": [
       "['새로운 환경에서 로그인 되었습니다.',\n",
       " '[중고나라] 상품 등록 관련 일부 서비스 종료 안내',\n",
       " 'IMPORTANT NOTICE: Due to the recent update of NFTs, all unverified accounts will be suspended on: Thursday 06 October 2022 !',\n",
       " 'BC카드 인터넷회원 개인정보 이용내역 통지 안내',\n",
       " '[DK SHOP(동국제약공식몰)] 주문하신 상품이 발송되었습니다.',\n",
       " '(광고) [FUNSHOP]  쉿! 혼자보세요. 히든-X',\n",
       " '[GS SHOP] 개인정보 이용내역 안내 드립니다.',\n",
       " '✨ 강렬하고 아름답게',\n",
       " '[업비트] 입금완료 안내',\n",
       " '[DK SHOP(동국제약공식몰)] 주문하신 상품에 대한 입금이 확인되었습니다.',\n",
       " '[DK SHOP(동국제약공식몰)] 오복석님의 주문내역을 알려드립니다.',\n",
       " '[DK SHOP(동국제약공식몰)] 김대환 님의 회원가입을 축하드립니다.',\n",
       " '엄마 & 사랑하는 아이 👩 👧 👦',\n",
       " '집을 위한 잔디깎이 & 도구',\n",
       " 'Exclusive $25,000 Prize Pool For P2P Users']"
      ]
     },
     "execution_count": 57,
     "metadata": {},
     "output_type": "execute_result"
    }
   ],
   "source": [
    "import re\n",
    "result=[]\n",
    "p= re.compile(r'.+제목:(.+)')     # map_address 에서 주소 추출 \n",
    "for n in range(0, len(raw_list)):\n",
    "    mail=raw_list[n].find('span').get_text()\n",
    "    title=p.match(mail).group(1)\n",
    "    result.append(title)\n",
    "result"
   ]
  },
  {
   "cell_type": "code",
   "execution_count": 58,
   "metadata": {},
   "outputs": [],
   "source": [
    "driver.close()"
   ]
  },
  {
   "cell_type": "code",
   "execution_count": 59,
   "metadata": {},
   "outputs": [],
   "source": [
    "driver.quit()"
   ]
  },
  {
   "cell_type": "code",
   "execution_count": null,
   "metadata": {},
   "outputs": [],
   "source": []
  }
 ],
 "metadata": {
  "kernelspec": {
   "display_name": "Python 3 (ipykernel)",
   "language": "python",
   "name": "python3"
  },
  "language_info": {
   "codemirror_mode": {
    "name": "ipython",
    "version": 3
   },
   "file_extension": ".py",
   "mimetype": "text/x-python",
   "name": "python",
   "nbconvert_exporter": "python",
   "pygments_lexer": "ipython3",
   "version": "3.9.12"
  }
 },
 "nbformat": 4,
 "nbformat_minor": 2
}
