{
 "cells": [
  {
   "cell_type": "code",
   "execution_count": 54,
   "id": "f731b585-3042-477a-b551-e6e713363424",
   "metadata": {},
   "outputs": [],
   "source": [
    "from bs4 import BeautifulSoup\n",
    "import urllib.request\n",
    "import selenium\n",
    "from selenium import webdriver\n",
    "from urllib.request import urlopen\n",
    "from selenium.webdriver.common.by import By\n",
    "import re\n",
    "import time\n",
    "from tqdm import tqdm_notebook"
   ]
  },
  {
   "cell_type": "code",
   "execution_count": 55,
   "id": "892c7f06-501b-43a8-93c2-db382eb90a99",
   "metadata": {},
   "outputs": [],
   "source": [
    "url = 'https://sports.news.naver.com/index.nhn'\n",
    "html = urllib.request.urlopen(url)\n",
    "soup = BeautifulSoup(html, 'lxml')"
   ]
  },
  {
   "cell_type": "code",
   "execution_count": 56,
   "id": "266e9531-dec7-413b-97d1-3bb976f2aa69",
   "metadata": {},
   "outputs": [],
   "source": [
    "today_list = soup.find('ul', attrs={'today_list'})"
   ]
  },
  {
   "cell_type": "code",
   "execution_count": 57,
   "id": "5a82db26-b872-4420-8fb8-b0ca60713d17",
   "metadata": {},
   "outputs": [],
   "source": [
    "today_items = today_list.find_all('li')"
   ]
  },
  {
   "cell_type": "code",
   "execution_count": 58,
   "id": "ecbcf118-e6bd-4e4f-8f81-8a41e3c3e06f",
   "metadata": {},
   "outputs": [
    {
     "name": "stdout",
     "output_type": "stream",
     "text": [
      "https://sports.news.naver.com/news?oid=047&amp;aid=0002370702\n",
      "https://sports.news.naver.com/news?oid=425&amp;aid=0000133737\n",
      "https://sports.news.naver.com/news?oid=003&amp;aid=0011499216\n",
      "https://sports.news.naver.com/news?oid=076&amp;aid=0003931679\n",
      "https://sports.news.naver.com/news?oid=001&amp;aid=0013532858\n",
      "https://sports.news.naver.com/news?oid=417&amp;aid=0000863727\n"
     ]
    }
   ],
   "source": [
    "reg = re.compile(r'href=\"(/news\\?oid=[0-9]+&amp;aid=[0-9]+)\"')\n",
    "\n",
    "titlelst = []\n",
    "newslst = []\n",
    "linklst = []\n",
    "\n",
    "for item in today_items:\n",
    "    title = item.find('strong', attrs={'title'}).text\n",
    "    news = item.find('p', attrs={'news'}).text.strip()\n",
    "    tag_a = item.find('a')\n",
    "    links = re.findall(reg, str(tag_a))\n",
    "    titlelst.append(title)\n",
    "    newslst.append(news)\n",
    "\n",
    "    for link in links:\n",
    "        link = f\"https://sports.news.naver.com{link}\"\n",
    "        linklst.append(link)\n",
    "    # linklst.append(link)"
   ]
  },
  {
   "cell_type": "code",
   "execution_count": 59,
   "id": "f870ffef-82f3-43ed-8da7-6070b4535cab",
   "metadata": {},
   "outputs": [
    {
     "data": {
      "text/plain": [
       "[\"'페르난데스와 작별' 두산, 새 외국인 타자 호세 로하스 영입\",\n",
       " 'KIA 타이거즈, 2023시즌 대비한 코칭스태프 개편 완료…퓨처스 감독에 손승락 선임, 송지만 나주환 코치 등 9명은 재계약 포기',\n",
       " '이강인, 스페인 라리가 공식 베스트11 선정…시즌 두 번째',\n",
       " \"'나가도 너무 나간 英 언론' SON, 레알 떠나면 대체 가능한 5人\",\n",
       " \"'부적절 언행' 현대모비스 조동현 감독·SK 최준용, 재정위 회부\",\n",
       " \"'부커 34득점' 피닉스… '탐슨 퇴장' GSW에 완승\"]"
      ]
     },
     "execution_count": 59,
     "metadata": {},
     "output_type": "execute_result"
    }
   ],
   "source": [
    "titlelst"
   ]
  },
  {
   "cell_type": "code",
   "execution_count": 60,
   "id": "9d699bd0-da6d-47fe-84cd-5cbbe660a74b",
   "metadata": {},
   "outputs": [
    {
     "data": {
      "text/plain": [
       "['[KBO리그] 총액 100만 달러에 로하스 잡은 두산... 공-수 활약 기대한다사령탑 교체와 함께 도약을 꿈꾸는 두산 베어스가 빠르게 새 외국인 타자를 영입...\"',\n",
       " 'KIA 타이거즈가 2023 시즌을 이끌어 갈 코칭스태프 보직을 확정했다.KIA는 26일 김종국 감독을 중심으로 진갑용 수석 코치, 정명원·곽정철 투수 코치,...\"',\n",
       " '기사내용 요약레알 마드리드 발베르데 등과 어깨 나란히[서울=뉴시스]마요르카 이강인. (캡처=스페인 프리메라리가 소셜네트워크서비스)[서울=뉴시스]안경남 기자 ...\"',\n",
       " 'AFP 연합뉴스[스포츠조선 김성원 기자]손흥민(토트넘)의 레알 마드리드 이적설이 화제다. 그 파장이 이틀째 이어지고 있다.영국의 \\'익스프레스\\'는 26일(현지...\"',\n",
       " '조동현 현대모비스 감독[KBL 제공. 재판매 및 DB 금지](서울=연합뉴스) 장보인 기자 = 프로농구 울산 현대모비스 조동현 감독과 서울 SK의 최준용이 부...\"',\n",
       " '피닉스 선즈가 골든스테이트 워리어스를 홈으로 불러들여 134-105로 완파했다. 사진은 지난 25일(한국시각) 데빈 부커(오른쪽)가 LA클리퍼스 마커스 모리...\"']"
      ]
     },
     "execution_count": 60,
     "metadata": {},
     "output_type": "execute_result"
    }
   ],
   "source": [
    "newslst"
   ]
  },
  {
   "cell_type": "code",
   "execution_count": 61,
   "id": "76b91003-4785-4ad8-90d8-4cd62e2b2c46",
   "metadata": {},
   "outputs": [
    {
     "data": {
      "text/plain": [
       "['https://sports.news.naver.com/news?oid=047&amp;aid=0002370702',\n",
       " 'https://sports.news.naver.com/news?oid=425&amp;aid=0000133737',\n",
       " 'https://sports.news.naver.com/news?oid=003&amp;aid=0011499216',\n",
       " 'https://sports.news.naver.com/news?oid=076&amp;aid=0003931679',\n",
       " 'https://sports.news.naver.com/news?oid=001&amp;aid=0013532858',\n",
       " 'https://sports.news.naver.com/news?oid=417&amp;aid=0000863727']"
      ]
     },
     "execution_count": 61,
     "metadata": {},
     "output_type": "execute_result"
    }
   ],
   "source": [
    "linklst"
   ]
  },
  {
   "cell_type": "code",
   "execution_count": null,
   "id": "72fd1cb7-9d4b-4655-a433-53ed632e8ac5",
   "metadata": {},
   "outputs": [],
   "source": []
  }
 ],
 "metadata": {
  "kernelspec": {
   "display_name": "Python 3 (ipykernel)",
   "language": "python",
   "name": "python3"
  },
  "language_info": {
   "codemirror_mode": {
    "name": "ipython",
    "version": 3
   },
   "file_extension": ".py",
   "mimetype": "text/x-python",
   "name": "python",
   "nbconvert_exporter": "python",
   "pygments_lexer": "ipython3",
   "version": "3.9.12"
  }
 },
 "nbformat": 4,
 "nbformat_minor": 5
}
