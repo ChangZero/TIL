{
 "cells": [
  {
   "cell_type": "code",
   "execution_count": 7,
   "id": "2b35ce4f-a27a-49ae-9b07-29aa2cfab728",
   "metadata": {},
   "outputs": [],
   "source": [
    "from bs4 import BeautifulSoup\n",
    "import urllib.request\n",
    "import selenium\n",
    "from selenium import webdriver\n",
    "from urllib.request import urlopen\n",
    "from selenium.webdriver.common.by import By\n",
    "import re\n",
    "import time"
   ]
  },
  {
   "cell_type": "code",
   "execution_count": 8,
   "id": "9c8fc36a-ea00-4c30-a6f3-1b34c9b3e181",
   "metadata": {},
   "outputs": [],
   "source": [
    "def idbmCrawling(sort, ranking_num):\n",
    "    url = f'https://www.imdb.com/chart/top/?sort={sort},asc&mode=simple&page=1'\n",
    "    html = urllib.request.urlopen(url)\n",
    "    soup = BeautifulSoup(html, 'lxml')\n",
    "\n",
    "    # print(soup.prettify())\n",
    "\n",
    "    titlelst = []\n",
    "    ratinglst = []\n",
    "    reg = re.compile(r'img alt=\"([가-힣|a-z|A-Z|0-9|-]+)')\n",
    "\n",
    "    tbody = soup.find('tbody', class_='lister-list')\n",
    "    trlst = tbody.find_all('tr')\n",
    "    for tr in trlst:\n",
    "        titleColumn = tr.find('td', attrs={\"class\":\"posterColumn\"}).a\n",
    "        titleColumn = str(re.findall(reg, str(titleColumn)))[2:-2]\n",
    "        titlelst.append(titleColumn)\n",
    "        ratingColumn = tr.find('td', attrs={\"class\":\"ratingColumn imdbRating\"}).text.strip()\n",
    "        ratinglst.append(ratingColumn)\n",
    "        \n",
    "    return titlelst, ratinglst"
   ]
  },
  {
   "cell_type": "code",
   "execution_count": 9,
   "id": "7105003f-1871-4beb-8f04-262f7fd100d3",
   "metadata": {},
   "outputs": [],
   "source": [
    "def ranking(lst, rank_num):\n",
    "    for idx, title in enumerate(lst, start=1):\n",
    "        print(f\"{idx}. {title}\")\n",
    "        if idx == rank_num:\n",
    "            break"
   ]
  },
  {
   "cell_type": "code",
   "execution_count": 10,
   "id": "2c40deea-19e5-4f0f-805f-bb4097ee19c9",
   "metadata": {},
   "outputs": [],
   "source": [
    "rktitlelst, rkratinglst = idbmCrawling('rk', 20)"
   ]
  },
  {
   "cell_type": "code",
   "execution_count": 11,
   "id": "b68d18c4-bbaf-4811-a968-52f79b6208c0",
   "metadata": {},
   "outputs": [
    {
     "name": "stdout",
     "output_type": "stream",
     "text": [
      "1. 쇼생크\n",
      "2. Daeboo\n",
      "3. 다크\n",
      "4. The\n",
      "5. 12명의\n",
      "6. 쉰들러\n",
      "7. The\n",
      "8. 펄프\n",
      "9. 반지의\n",
      "10. 석양의\n",
      "11. 포레스트\n",
      "12. 파이트\n",
      "13. 인셉션\n",
      "14. The\n",
      "15. 스타워즈\n",
      "16. 매트릭스\n",
      "17. 좋은\n",
      "18. 뻐꾸기\n",
      "19. Se7en\n",
      "20. Shichinin\n"
     ]
    }
   ],
   "source": [
    "ranking(rktitlelst, 20)"
   ]
  },
  {
   "cell_type": "code",
   "execution_count": 12,
   "id": "2fe1af4d-d43e-4db5-9e28-7173a3002119",
   "metadata": {},
   "outputs": [
    {
     "name": "stdout",
     "output_type": "stream",
     "text": [
      "1. 9.2\n",
      "2. 9.2\n",
      "3. 9.0\n",
      "4. 9.0\n",
      "5. 9.0\n",
      "6. 8.9\n",
      "7. 8.9\n",
      "8. 8.8\n",
      "9. 8.8\n",
      "10. 8.8\n",
      "11. 8.8\n",
      "12. 8.7\n",
      "13. 8.7\n",
      "14. 8.7\n",
      "15. 8.7\n",
      "16. 8.7\n",
      "17. 8.7\n",
      "18. 8.6\n",
      "19. 8.6\n",
      "20. 8.6\n"
     ]
    }
   ],
   "source": [
    "ranking(rkratinglst, 20)"
   ]
  },
  {
   "cell_type": "code",
   "execution_count": null,
   "id": "afc48f7c-9586-4981-bd63-b5d1ea3482ac",
   "metadata": {},
   "outputs": [],
   "source": []
  }
 ],
 "metadata": {
  "kernelspec": {
   "display_name": "Python 3 (ipykernel)",
   "language": "python",
   "name": "python3"
  },
  "language_info": {
   "codemirror_mode": {
    "name": "ipython",
    "version": 3
   },
   "file_extension": ".py",
   "mimetype": "text/x-python",
   "name": "python",
   "nbconvert_exporter": "python",
   "pygments_lexer": "ipython3",
   "version": "3.9.12"
  }
 },
 "nbformat": 4,
 "nbformat_minor": 5
}
