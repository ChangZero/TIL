{
 "cells": [
  {
   "cell_type": "code",
   "execution_count": 1,
   "id": "5ba403aa-d109-45bf-aa3b-9b8ccdab3a85",
   "metadata": {},
   "outputs": [],
   "source": [
    "from bs4 import BeautifulSoup\n",
    "import urllib.request\n",
    "import selenium\n",
    "from selenium import webdriver\n",
    "from urllib.request import urlopen\n",
    "from selenium.webdriver.common.by import By\n",
    "import re\n",
    "import time"
   ]
  },
  {
   "cell_type": "code",
   "execution_count": 10,
   "id": "fb81564a-5bb2-425f-82d3-ebbc354197c4",
   "metadata": {},
   "outputs": [],
   "source": [
    "chromedriver_dir = r'./chromedriver.exe'\n",
    "driver = webdriver.Chrome(chromedriver_dir)\n",
    "\n",
    "url = 'https://www.mega-mgccoffee.com/store/find/'\n",
    "driver.get(url)\n",
    "time.sleep(1)"
   ]
  },
  {
   "cell_type": "code",
   "execution_count": 22,
   "id": "3e36061b-6870-4214-9d9f-e1f868119522",
   "metadata": {},
   "outputs": [],
   "source": [
    "map_search = driver.find_element(By.CLASS_NAME, 'map_search')\n",
    "check = map_search.find_element(By.XPATH, '/html/body/div[3]/div[3]/div/div[2]/div[1]/div/div[1]/div/ul/li[2]')\n",
    "check.click()\n",
    "time.sleep(1)\n",
    "textbox = driver.find_element(By.XPATH, '/html/body/div[3]/div[3]/div/div[2]/div[1]/div/div[3]/div[2]/div')\n",
    "li = textbox.find_elements(By.TAG_NAME, 'li')\n"
   ]
  },
  {
   "cell_type": "code",
   "execution_count": 23,
   "id": "01950025-3caa-4e12-ab88-47723fc41efd",
   "metadata": {},
   "outputs": [
    {
     "name": "stdout",
     "output_type": "stream",
     "text": [
      "17\n"
     ]
    }
   ],
   "source": [
    "print(len(li))"
   ]
  },
  {
   "cell_type": "code",
   "execution_count": null,
   "id": "d642f27d-a76e-427f-b606-53a8dcfde1c8",
   "metadata": {},
   "outputs": [],
   "source": [
    "for i in range(0, len(li)):\n",
    "    textbox = driver.find_element(By.XPATH, '/html/body/div[3]/div[3]/div/div[2]/div[1]/div/div[3]/div[2]/div')\n",
    "    li = textbox.find_elements(By.TAG_NAME, 'li')\n",
    "    \n",
    "    if i==8:\n",
    "        li[i].click()\n",
    "        time.sleep(1)\n",
    "        \n",
    "        source = driver.page_source\n",
    "        soup = bs4.BeautifulSoup(source, 'lxml')\n",
    "\n",
    "    list_result = driver.find_element(By.XPATH, '//*[@id=\"store_area_search_list_result\"]')\n",
    "    li = "
   ]
  }
 ],
 "metadata": {
  "kernelspec": {
   "display_name": "Python 3 (ipykernel)",
   "language": "python",
   "name": "python3"
  },
  "language_info": {
   "codemirror_mode": {
    "name": "ipython",
    "version": 3
   },
   "file_extension": ".py",
   "mimetype": "text/x-python",
   "name": "python",
   "nbconvert_exporter": "python",
   "pygments_lexer": "ipython3",
   "version": "3.9.12"
  }
 },
 "nbformat": 4,
 "nbformat_minor": 5
}
