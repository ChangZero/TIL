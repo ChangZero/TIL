{
 "cells": [
  {
   "cell_type": "code",
   "execution_count": null,
   "id": "a614c246-4557-4944-9401-a2a9cfb6bfb6",
   "metadata": {},
   "outputs": [],
   "source": [
    "from bs4 import BeautifulSoup\n",
    "import urllib.request\n",
    "import selenium\n",
    "from selenium import webdriver\n",
    "from urllib.request import urlopen\n",
    "from selenium.webdriver.common.by import By\n",
    "import re\n",
    "import time\n",
    "from tqdm import tqdm_notebook"
   ]
  },
  {
   "cell_type": "code",
   "execution_count": 2,
   "id": "b94b58c0-e436-476f-8b7a-23599850f6a2",
   "metadata": {},
   "outputs": [],
   "source": [
    "def printRanking(lst1, lst2, lst3, lst4):\n",
    "    idx = 1\n",
    "    for item in zip(lst1, lst2, lst3, lst4):\n",
    "        print(f\"{idx}. {item[0]}, 평점: {item[1]}, 예매율: {item[2]}, 개봉일: {item[3]}\")\n",
    "        idx += 1"
   ]
  },
  {
   "cell_type": "code",
   "execution_count": 3,
   "id": "98441129-00f5-4656-92c6-501993a6c9d8",
   "metadata": {},
   "outputs": [],
   "source": [
    "def daumRanking():\n",
    "    url = 'https://movie.daum.net/ranking/reservation'\n",
    "    html = urllib.request.urlopen(url)\n",
    "    soup = BeautifulSoup(html, 'lxml')\n",
    "\n",
    "    ol = soup.find('ol')\n",
    "\n",
    "    tit_items = ol.find_all('div', class_='thumb_cont')\n",
    "\n",
    "    titlelst = []\n",
    "    ratinglst = []\n",
    "    bookinglst = []\n",
    "    opening_datelst = []\n",
    "    for item in tit_items:\n",
    "        title = item.find('a', attrs = {'class':'link_txt'}).text\n",
    "        rating, booking = item.find('span', attrs = {'class':'txt_append'}).text.strip().split('\\n')\n",
    "        date = item.find('span', attrs = {'class':'txt_info'}).text.strip()\n",
    "\n",
    "        titlelst.append(title)\n",
    "        ratinglst.append(rating[2:])\n",
    "        bookinglst.append(booking[3:])\n",
    "        opening_datelst.append(date[2:])\n",
    "\n",
    "    printRanking(titlelst, ratinglst, bookinglst, opening_datelst)"
   ]
  },
  {
   "cell_type": "code",
   "execution_count": 4,
   "id": "64406c27-82b5-4b9b-93af-3ef9ca2a0d79",
   "metadata": {},
   "outputs": [
    {
     "name": "stdout",
     "output_type": "stream",
     "text": [
      "1. 블랙 아담, 평점: 7.1, 예매율: 23.6%, 개봉일: 22.10.19\n",
      "2. 리멤버, 평점: 8.6, 예매율: 16.5%, 개봉일: 22.10.26\n",
      "3. 자백, 평점: 6.7, 예매율: 14.8%, 개봉일: 22.10.26\n",
      "4. 에브리씽 에브리웨어 올 앳 원스, 평점: 6.9, 예매율: 6.5%, 개봉일: 22.10.12\n",
      "5. 인생은 아름다워, 평점: 9.0, 예매율: 5.6%, 개봉일: 22.09.28\n",
      "6. 공조2: 인터내셔날, 평점: 7.9, 예매율: 5.0%, 개봉일: 22.09.07\n",
      "7. 극장판 짱구는 못말려: 수수께끼! 꽃피는 천하떡잎학교, 평점: 8.6, 예매율: 3.6%, 개봉일: 22.09.28\n",
      "8. 귀못, 평점: 8.4, 예매율: 2.7%, 개봉일: 22.10.19\n",
      "9. 오펀: 천사의 탄생, 평점: 6.6, 예매율: 2.3%, 개봉일: 22.10.12\n",
      "10. 정직한 후보 2, 평점: 3.4, 예매율: 1.3%, 개봉일: 22.09.28\n",
      "11. 스타게이저: 아스트로스코프, 평점: 0.0, 예매율: 1.2%, 개봉일: 22.10.27\n",
      "12. 스마일, 평점: 7.2, 예매율: 1.1%, 개봉일: 22.10.06\n",
      "13. 극장판 헬로카봇: 수상한 마술단의 비밀, 평점: 9.1, 예매율: 0.8%, 개봉일: 22.09.28\n",
      "14. 미혹, 평점: 7.4, 예매율: 0.6%, 개봉일: 22.10.19\n",
      "15. 티켓 투 파라다이스, 평점: 7.6, 예매율: 0.6%, 개봉일: 22.10.12\n",
      "16. 낮과 달, 평점: 8.6, 예매율: 0.6%, 개봉일: 22.10.20\n",
      "17. 고속도로 가족, 평점: 10.0, 예매율: 0.5%, 개봉일: 22.11.02\n",
      "18. 대무가, 평점: 7.3, 예매율: 0.4%, 개봉일: 22.10.12\n",
      "19. 더 요트, 평점: 5.7, 예매율: 0.4%, 개봉일: 22.10.20\n",
      "20. 옆집사람, 평점: 10.0, 예매율: 0.4%, 개봉일: 22.11.03\n"
     ]
    }
   ],
   "source": [
    "daumRanking()"
   ]
  },
  {
   "cell_type": "code",
   "execution_count": 5,
   "id": "bc08f539-6fa7-45d4-a569-183d77c461e8",
   "metadata": {},
   "outputs": [],
   "source": [
    "import pandas as pd"
   ]
  },
  {
   "cell_type": "code",
   "execution_count": 55,
   "id": "be189bd9-f138-4118-a410-812bda03bbf4",
   "metadata": {},
   "outputs": [
    {
     "name": "stdout",
     "output_type": "stream",
     "text": [
      "20\n"
     ]
    },
    {
     "data": {
      "text/plain": [
       "DatetimeIndex(['2021-05-02', '2021-05-09', '2021-05-16', '2021-05-23',\n",
       "               '2021-05-30', '2021-06-06', '2021-06-13', '2021-06-20',\n",
       "               '2021-06-27', '2021-07-04', '2021-07-11', '2021-07-18',\n",
       "               '2021-07-25', '2021-08-01', '2021-08-08', '2021-08-15',\n",
       "               '2021-08-22', '2021-08-29', '2021-09-05', '2021-09-12'],\n",
       "              dtype='datetime64[ns]', freq='W-SUN')"
      ]
     },
     "execution_count": 55,
     "metadata": {},
     "output_type": "execute_result"
    }
   ],
   "source": [
    "date = pd.date_range('2021-5-1', periods=20, freq='W')\n",
    "print(len(date))\n",
    "date\n"
   ]
  },
  {
   "cell_type": "code",
   "execution_count": 63,
   "id": "b89f5ef4-306f-4de1-a79a-09208b39a6a6",
   "metadata": {},
   "outputs": [],
   "source": [
    "movie_date = []\n",
    "movie_name = []\n",
    "movie_opening = []\n",
    "movie_attendance = []"
   ]
  },
  {
   "cell_type": "code",
   "execution_count": 64,
   "id": "7baee33f-7b44-4109-a436-cdacf422cedd",
   "metadata": {},
   "outputs": [
    {
     "name": "stderr",
     "output_type": "stream",
     "text": [
      "C:\\Users\\Lenovo\\AppData\\Local\\Temp\\ipykernel_11940\\7374863.py:3: TqdmDeprecationWarning: This function will be removed in tqdm==5.0.0\n",
      "Please use `tqdm.notebook.tqdm` instead of `tqdm.tqdm_notebook`\n",
      "  for today in tqdm_notebook(date):\n"
     ]
    },
    {
     "data": {
      "application/vnd.jupyter.widget-view+json": {
       "model_id": "05bd9ef4d02c45539e3272f6b729ebfa",
       "version_major": 2,
       "version_minor": 0
      },
      "text/plain": [
       "  0%|          | 0/20 [00:00<?, ?it/s]"
      ]
     },
     "metadata": {},
     "output_type": "display_data"
    }
   ],
   "source": [
    "reg = re.compile(r'([0-9]+.[0-9]+.[0-9]+)')\n",
    "\n",
    "for today in tqdm_notebook(date):\n",
    "    html = \"https://movie.daum.net/ranking/boxoffice/weekly?date={date}\"\n",
    "    response = urlopen(html.format(date=urllib.parse.quote(today.strftime('%Y%m%d'))))\n",
    "    soup = BeautifulSoup(response, \"lxml\")\n",
    "    ol = soup.find('ol')\n",
    "    tit_items = ol.find_all('div', class_='thumb_cont')\n",
    "    end = len(tit_items)\n",
    "    for item in tit_items:\n",
    "        title = item.find('a', attrs = {'class':'link_txt'}).text\n",
    "        txtinfo = item.find('span', attrs = {'class':'txt_info'})\n",
    "        movie_name.append(title)\n",
    "        \n",
    "    regfinds = re.findall(reg, str(soup))\n",
    "    for i in regfinds:\n",
    "        movie_opening.append(i[0])\n",
    "        movie_attendance.append(i[1])\n",
    "            \n",
    "    movie_date.extend([today for n in range(0, end)])"
   ]
  },
  {
   "cell_type": "code",
   "execution_count": 65,
   "id": "2c078270-9d16-4015-ae0a-96479ce606f6",
   "metadata": {},
   "outputs": [
    {
     "data": {
      "text/plain": [
       "(300, 300, 2383, 2383)"
      ]
     },
     "execution_count": 65,
     "metadata": {},
     "output_type": "execute_result"
    }
   ],
   "source": [
    "len(movie_date), len(movie_name), len(movie_opening), len(movie_attendance)"
   ]
  },
  {
   "cell_type": "code",
   "execution_count": null,
   "id": "235db9a1-545d-4589-ab5b-177f37a5a6ff",
   "metadata": {},
   "outputs": [],
   "source": []
  }
 ],
 "metadata": {
  "kernelspec": {
   "display_name": "Python 3 (ipykernel)",
   "language": "python",
   "name": "python3"
  },
  "language_info": {
   "codemirror_mode": {
    "name": "ipython",
    "version": 3
   },
   "file_extension": ".py",
   "mimetype": "text/x-python",
   "name": "python",
   "nbconvert_exporter": "python",
   "pygments_lexer": "ipython3",
   "version": "3.9.12"
  }
 },
 "nbformat": 4,
 "nbformat_minor": 5
}
