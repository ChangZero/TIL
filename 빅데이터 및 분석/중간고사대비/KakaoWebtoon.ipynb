{
 "cells": [
  {
   "cell_type": "code",
   "execution_count": 1,
   "id": "25e3800b-ec45-4b92-8722-7593af182c72",
   "metadata": {},
   "outputs": [],
   "source": [
    "from bs4 import BeautifulSoup\n",
    "import urllib.request\n",
    "import selenium\n",
    "from selenium import webdriver\n",
    "from urllib.request import urlopen\n",
    "from selenium.webdriver.common.by import By\n",
    "import re\n",
    "import time"
   ]
  },
  {
   "cell_type": "code",
   "execution_count": 2,
   "id": "d2b59ac3-c38a-475c-91d5-fb7059cdca21",
   "metadata": {},
   "outputs": [
    {
     "name": "stdout",
     "output_type": "stream",
     "text": [
      "4.5.0\n"
     ]
    }
   ],
   "source": [
    "print(selenium.__version__)"
   ]
  },
  {
   "cell_type": "code",
   "execution_count": 3,
   "id": "8b3c0c5e-1f75-4e1a-ab03-154cd5f29da5",
   "metadata": {},
   "outputs": [],
   "source": [
    "def kakaoCrawling(genre, rank_num):\n",
    "    chromedriver_dir = r'./chromedriver.exe'\n",
    "    driver = webdriver.Chrome(chromedriver_dir)\n",
    "    \n",
    "    url = 'https://webtoon.kakao.com/ranking'\n",
    "    driver.get(url)\n",
    "    time.sleep(1)\n",
    "    \n",
    "    menu_ul = driver.find_element(By.XPATH, '//*[@id=\"root\"]/main/div/div[1]/div[1]/div[3]/div[2]/div[2]/ul')\n",
    "    print(menu_ul)\n",
    "    menu_li = menu_ul.find_elements(By.TAG_NAME, \"p\")\n",
    "    for menu in menu_li:\n",
    "        if menu.text == genre:\n",
    "            menu.click()\n",
    "            time.sleep(1)\n",
    "            break\n",
    "            \n",
    "    html = driver.page_source\n",
    "    soup = BeautifulSoup(html, 'lxml')\n",
    "\n",
    "    reg = re.compile(r'href=\"/content/([가-힣|a-z|A-Z|0-9|-]+)')\n",
    "    href1 = soup.find_all('a', class_= 'relative w-full h-full opacity-0 z-2 animate-fadeIn')\n",
    "    ranktitle = re.findall(reg, str(href1))\n",
    "    \n",
    "    href = soup.find_all('a', class_=\"w-full h-full relative overflow-hidden before:absolute before:inset-0 before:bg-grey-01 before:-z-1\")\n",
    "    title = re.findall(reg, str(href))\n",
    "    \n",
    "    print(f\"---------------{genre} top {rank_num} ranking ----------------\")\n",
    "    rank1title = re.sub('-', ' ', str(ranktitle)[2:-2])\n",
    "    print(f\"1. {rank1title}\")\n",
    "    for idx, title in enumerate(title, start=2):\n",
    "        title = re.sub('-',' ', title)\n",
    "        print(f\"{idx}. {title}\")\n",
    "        if idx == rank_num:\n",
    "            break\n",
    "    \n",
    "    driver.close()"
   ]
  },
  {
   "cell_type": "code",
   "execution_count": 4,
   "id": "18d75f73-5d75-4da8-a30e-db93eff74a1b",
   "metadata": {},
   "outputs": [
    {
     "name": "stderr",
     "output_type": "stream",
     "text": [
      "C:\\Users\\Lenovo\\AppData\\Local\\Temp\\ipykernel_3800\\3042521739.py:3: DeprecationWarning: executable_path has been deprecated, please pass in a Service object\n",
      "  driver = webdriver.Chrome(chromedriver_dir)\n"
     ]
    },
    {
     "name": "stdout",
     "output_type": "stream",
     "text": [
      "<selenium.webdriver.remote.webelement.WebElement (session=\"2de60e650ee115f51cff649c637e82fb\", element=\"2499cb61-5fb9-4069-b77a-5831249e59dd\")>\n",
      "---------------드라마 top 20 ranking ----------------\n",
      "1. 못할 짓\n",
      "2. 말하기엔 사소한\n",
      "3. 미완결\n",
      "4. 백작가의 불청객들\n",
      "5. 데뷔 못 하면 죽는 병 걸림\n",
      "6. 딸 바보가 되었습니다\n",
      "7. 적당한 온도\n",
      "8. 다시 한번 아이돌\n",
      "9. 어게인 마이 라이프\n",
      "10. 유부녀 킬러\n",
      "11. 롱리브더킹\n",
      "12. 이태원 클라쓰\n",
      "13. 불청객과 춤을\n",
      "14. 내게 볕이 닿지 않아도\n",
      "15. 미생\n",
      "16. 당신과는 절대\n",
      "17. 사실 그들은 오직 그녀만을 기억하고 있었습니다\n",
      "18. 취향의 문제\n",
      "19. 데드맨31\n",
      "20. 남남\n"
     ]
    }
   ],
   "source": [
    "kakaoCrawling(\"드라마\", 20)"
   ]
  },
  {
   "cell_type": "code",
   "execution_count": null,
   "id": "ec05b058-bace-4bf4-99a1-3634a35c9b20",
   "metadata": {},
   "outputs": [],
   "source": []
  }
 ],
 "metadata": {
  "kernelspec": {
   "display_name": "Python 3 (ipykernel)",
   "language": "python",
   "name": "python3"
  },
  "language_info": {
   "codemirror_mode": {
    "name": "ipython",
    "version": 3
   },
   "file_extension": ".py",
   "mimetype": "text/x-python",
   "name": "python",
   "nbconvert_exporter": "python",
   "pygments_lexer": "ipython3",
   "version": "3.9.12"
  }
 },
 "nbformat": 4,
 "nbformat_minor": 5
}
