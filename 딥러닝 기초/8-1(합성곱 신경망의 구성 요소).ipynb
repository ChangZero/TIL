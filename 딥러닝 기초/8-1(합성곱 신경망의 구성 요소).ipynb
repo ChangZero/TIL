{
 "cells": [
  {
   "cell_type": "markdown",
   "id": "9783132b",
   "metadata": {},
   "source": [
    "## 합성곱"
   ]
  },
  {
   "cell_type": "markdown",
   "id": "283bb635",
   "metadata": {},
   "source": [
    "밀집층과 비슷하게 입력과 가중치를 곱하고 절편을 더하는 선형 계산입니다. <br> 하지만 밀집층과 달리 각 합성곱은 입력 전체가 아니라 일부만 사용하여 선형 계산을 수행합니다."
   ]
  },
  {
   "cell_type": "markdown",
   "id": "7c95baa5",
   "metadata": {},
   "source": [
    "## 필터"
   ]
  },
  {
   "cell_type": "markdown",
   "id": "39d353a1",
   "metadata": {},
   "source": [
    "밀집층의 뉴런에 해당. <br>\n",
    "필터의 가중치와 절편을 종종 커널이라고 부른다.<br>\n",
    "자주 사용되는 커널의 크기는 (3,3), (5,5)이고 커널의 깊이는 입력의 깊이와 같다."
   ]
  },
  {
   "cell_type": "markdown",
   "id": "6b6d18dd",
   "metadata": {},
   "source": [
    "## 특성 맵"
   ]
  },
  {
   "cell_type": "markdown",
   "id": "238bf845",
   "metadata": {},
   "source": [
    "합성곱 층이나 풀링 층의 출력 배열을 의미합니다. 필터 하나가 하나의 특성 맵을 만든다.<br>\n",
    "종류 : 밸리드 패딩, 세임패딩"
   ]
  },
  {
   "cell_type": "markdown",
   "id": "929dd207",
   "metadata": {},
   "source": [
    "## 스트라이드"
   ]
  },
  {
   "cell_type": "markdown",
   "id": "c7e71abb",
   "metadata": {},
   "source": [
    "합성곱 층에서 필터가 입력 위를 이동하는 크기입니다. 일반적으로 스트라이드는 1픽셀을 사용"
   ]
  },
  {
   "cell_type": "markdown",
   "id": "73cc38e3",
   "metadata": {},
   "source": [
    "## 풀링"
   ]
  },
  {
   "cell_type": "markdown",
   "id": "3dac46cb",
   "metadata": {},
   "source": [
    "가중치가 없고 특성 맵의 가로세로 크기를 줄이는 역할을 수행<br>\n",
    "대표적으로 최대풀링과 평균풀링이 있으며 (2,2) 풀링으로 입력을 절반으로 줄인다."
   ]
  }
 ],
 "metadata": {
  "kernelspec": {
   "display_name": "Python 3 (ipykernel)",
   "language": "python",
   "name": "python3"
  },
  "language_info": {
   "codemirror_mode": {
    "name": "ipython",
    "version": 3
   },
   "file_extension": ".py",
   "mimetype": "text/x-python",
   "name": "python",
   "nbconvert_exporter": "python",
   "pygments_lexer": "ipython3",
   "version": "3.9.7"
  }
 },
 "nbformat": 4,
 "nbformat_minor": 5
}
