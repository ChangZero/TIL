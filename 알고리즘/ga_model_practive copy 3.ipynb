{
 "cells": [
  {
   "cell_type": "code",
   "execution_count": 1,
   "id": "b642129c",
   "metadata": {},
   "outputs": [],
   "source": [
    "# Imports \n",
    "import numpy as np\n",
    "import random\n",
    "import matplotlib.pyplot as plt\n",
    "\n",
    "from datetime import datetime"
   ]
  },
  {
   "cell_type": "code",
   "execution_count": 3,
   "id": "1aa36ee6",
   "metadata": {},
   "outputs": [],
   "source": [
    "# Parameters\n",
    "n_cities = 18\n",
    "\n",
    "n_population = 50\n",
    "\n",
    "mutation_rate = 0.15"
   ]
  },
  {
   "cell_type": "code",
   "execution_count": 14,
   "id": "ee3335a1",
   "metadata": {},
   "outputs": [
    {
     "data": {
      "text/plain": [
       "{'London': [44, 52],\n",
       " 'Moscow': [19, 49],\n",
       " 'Barcelona': [77, 87],\n",
       " 'Rome': [1, 57],\n",
       " 'Paris': [50, 6],\n",
       " 'Vienna': [55, 54],\n",
       " 'Munich': [12, 20],\n",
       " 'Istanbul': [59, 33],\n",
       " 'Kyiv': [39, 87],\n",
       " 'Bucharest': [88, 54],\n",
       " 'Minsk': [29, 88],\n",
       " 'Warsaw': [59, 16],\n",
       " 'Budapest': [35, 44],\n",
       " 'Milan': [26, 72],\n",
       " 'Prague': [1, 92],\n",
       " 'Sofia': [12, 27],\n",
       " 'Birmingham': [41, 71],\n",
       " 'Brussels': [23, 1]}"
      ]
     },
     "execution_count": 14,
     "metadata": {},
     "output_type": "execute_result"
    }
   ],
   "source": [
    "# Generating a list of coordenades representing each city\n",
    "coordinates_list = [[x,y] for x,y in zip(np.random.randint(0,100,n_cities),np.random.randint(0,100,n_cities))]\n",
    "names_list = np.array(['London', 'Moscow', 'Barcelona', 'Rome', 'Paris', 'Vienna', 'Munich', 'Istanbul', 'Kyiv', 'Bucharest', 'Minsk', 'Warsaw', 'Budapest', 'Milan', 'Prague', 'Sofia', 'Birmingham', 'Brussels', 'Amsterdam'])\n",
    "\n",
    "cities_dict = { x:y for x,y in zip(names_list,coordinates_list)}\n",
    "cities_dict"
   ]
  },
  {
   "cell_type": "markdown",
   "id": "f5567fd2",
   "metadata": {},
   "source": [
    "# 1. Create the first population set"
   ]
  },
  {
   "cell_type": "code",
   "execution_count": 15,
   "id": "990aa330",
   "metadata": {},
   "outputs": [
    {
     "data": {
      "text/plain": [
       "array([['Berlin', 'Milan', 'Moscow', 'Prague', 'Paris', 'Bucharest',\n",
       "        'Munich', 'Barcelona', 'Brussels', 'Warsaw', 'Budapest', 'Minsk',\n",
       "        'Rome', 'Kyiv', 'Birmingham', 'London', 'Sofia', 'Istanbul',\n",
       "        'Vienna', 'Berlin'],\n",
       "       ['Berlin', 'Barcelona', 'London', 'Paris', 'Budapest', 'Prague',\n",
       "        'Minsk', 'Vienna', 'Kyiv', 'Istanbul', 'Rome', 'Brussels',\n",
       "        'Milan', 'Bucharest', 'Sofia', 'Birmingham', 'Munich', 'Warsaw',\n",
       "        'Moscow', 'Berlin'],\n",
       "       ['Berlin', 'Istanbul', 'Birmingham', 'Barcelona', 'Munich',\n",
       "        'Vienna', 'London', 'Bucharest', 'Prague', 'Milan', 'Warsaw',\n",
       "        'Brussels', 'Minsk', 'Sofia', 'Paris', 'Moscow', 'Budapest',\n",
       "        'Rome', 'Kyiv', 'Berlin'],\n",
       "       ['Berlin', 'Prague', 'Budapest', 'London', 'Istanbul', 'Milan',\n",
       "        'Paris', 'Bucharest', 'Warsaw', 'Sofia', 'Barcelona', 'Vienna',\n",
       "        'Munich', 'Moscow', 'Rome', 'Birmingham', 'Kyiv', 'Minsk',\n",
       "        'Brussels', 'Berlin'],\n",
       "       ['Berlin', 'Moscow', 'Milan', 'Rome', 'Birmingham', 'Prague',\n",
       "        'Paris', 'Budapest', 'Kyiv', 'Minsk', 'Bucharest', 'Sofia',\n",
       "        'Barcelona', 'Warsaw', 'Vienna', 'Brussels', 'Istanbul',\n",
       "        'Munich', 'London', 'Berlin'],\n",
       "       ['Berlin', 'Milan', 'Vienna', 'Munich', 'Prague', 'Minsk',\n",
       "        'Warsaw', 'Budapest', 'Istanbul', 'Kyiv', 'London', 'Barcelona',\n",
       "        'Paris', 'Bucharest', 'Birmingham', 'Brussels', 'Moscow',\n",
       "        'Sofia', 'Rome', 'Berlin'],\n",
       "       ['Berlin', 'Milan', 'Bucharest', 'Brussels', 'Sofia', 'Budapest',\n",
       "        'Prague', 'London', 'Istanbul', 'Birmingham', 'Kyiv', 'Munich',\n",
       "        'Moscow', 'Warsaw', 'Minsk', 'Paris', 'Rome', 'Vienna',\n",
       "        'Barcelona', 'Berlin'],\n",
       "       ['Berlin', 'Minsk', 'Vienna', 'Moscow', 'Prague', 'Brussels',\n",
       "        'Budapest', 'Birmingham', 'Bucharest', 'Milan', 'Barcelona',\n",
       "        'Munich', 'Warsaw', 'Kyiv', 'Sofia', 'Istanbul', 'London',\n",
       "        'Paris', 'Rome', 'Berlin'],\n",
       "       ['Berlin', 'Kyiv', 'Bucharest', 'Brussels', 'Rome', 'Sofia',\n",
       "        'Munich', 'Barcelona', 'Birmingham', 'Minsk', 'Milan',\n",
       "        'Budapest', 'Warsaw', 'Prague', 'Vienna', 'Paris', 'Moscow',\n",
       "        'Istanbul', 'London', 'Berlin'],\n",
       "       ['Berlin', 'Warsaw', 'Sofia', 'Bucharest', 'Munich', 'Brussels',\n",
       "        'Moscow', 'Birmingham', 'Vienna', 'Kyiv', 'Istanbul', 'Milan',\n",
       "        'London', 'Barcelona', 'Paris', 'Rome', 'Budapest', 'Prague',\n",
       "        'Minsk', 'Berlin'],\n",
       "       ['Berlin', 'Bucharest', 'Moscow', 'Minsk', 'Sofia', 'Birmingham',\n",
       "        'Paris', 'Budapest', 'Brussels', 'Rome', 'Barcelona', 'Milan',\n",
       "        'London', 'Istanbul', 'Munich', 'Warsaw', 'Vienna', 'Kyiv',\n",
       "        'Prague', 'Berlin'],\n",
       "       ['Berlin', 'Moscow', 'London', 'Minsk', 'Paris', 'Prague',\n",
       "        'Istanbul', 'Sofia', 'Kyiv', 'Warsaw', 'Rome', 'Munich',\n",
       "        'Vienna', 'Barcelona', 'Brussels', 'Budapest', 'Birmingham',\n",
       "        'Bucharest', 'Milan', 'Berlin'],\n",
       "       ['Berlin', 'Birmingham', 'Rome', 'Paris', 'Vienna', 'Milan',\n",
       "        'Bucharest', 'Munich', 'Minsk', 'Istanbul', 'Budapest',\n",
       "        'Brussels', 'Moscow', 'Barcelona', 'Sofia', 'Kyiv', 'Warsaw',\n",
       "        'Prague', 'London', 'Berlin'],\n",
       "       ['Berlin', 'Moscow', 'Milan', 'London', 'Budapest', 'Rome',\n",
       "        'Munich', 'Warsaw', 'Brussels', 'Minsk', 'Birmingham', 'Paris',\n",
       "        'Barcelona', 'Vienna', 'Kyiv', 'Istanbul', 'Prague', 'Sofia',\n",
       "        'Bucharest', 'Berlin'],\n",
       "       ['Berlin', 'London', 'Prague', 'Paris', 'Bucharest', 'Budapest',\n",
       "        'Istanbul', 'Moscow', 'Vienna', 'Warsaw', 'Birmingham', 'Kyiv',\n",
       "        'Milan', 'Rome', 'Barcelona', 'Minsk', 'Brussels', 'Munich',\n",
       "        'Sofia', 'Berlin'],\n",
       "       ['Berlin', 'London', 'Bucharest', 'Birmingham', 'Budapest',\n",
       "        'Minsk', 'Sofia', 'Brussels', 'Kyiv', 'Paris', 'Vienna',\n",
       "        'Moscow', 'Barcelona', 'Istanbul', 'Milan', 'Munich', 'Prague',\n",
       "        'Warsaw', 'Rome', 'Berlin'],\n",
       "       ['Berlin', 'Vienna', 'Rome', 'Moscow', 'Birmingham', 'Budapest',\n",
       "        'Minsk', 'Brussels', 'Milan', 'Munich', 'Bucharest', 'Kyiv',\n",
       "        'Sofia', 'London', 'Prague', 'Istanbul', 'Paris', 'Barcelona',\n",
       "        'Warsaw', 'Berlin'],\n",
       "       ['Berlin', 'Kyiv', 'Warsaw', 'Sofia', 'Milan', 'Minsk',\n",
       "        'Birmingham', 'Paris', 'Budapest', 'Bucharest', 'Brussels',\n",
       "        'Prague', 'Barcelona', 'Munich', 'Istanbul', 'Rome', 'Vienna',\n",
       "        'Moscow', 'London', 'Berlin'],\n",
       "       ['Berlin', 'Rome', 'Paris', 'Vienna', 'London', 'Bucharest',\n",
       "        'Birmingham', 'Moscow', 'Sofia', 'Brussels', 'Milan', 'Istanbul',\n",
       "        'Munich', 'Barcelona', 'Minsk', 'Prague', 'Budapest', 'Kyiv',\n",
       "        'Warsaw', 'Berlin'],\n",
       "       ['Berlin', 'Sofia', 'Minsk', 'Paris', 'Prague', 'Warsaw',\n",
       "        'Birmingham', 'Budapest', 'Milan', 'Kyiv', 'Bucharest',\n",
       "        'Barcelona', 'Rome', 'Vienna', 'Moscow', 'Istanbul', 'Munich',\n",
       "        'London', 'Brussels', 'Berlin'],\n",
       "       ['Berlin', 'Munich', 'Milan', 'Budapest', 'Birmingham',\n",
       "        'Bucharest', 'Barcelona', 'Paris', 'Vienna', 'Warsaw', 'London',\n",
       "        'Prague', 'Istanbul', 'Brussels', 'Sofia', 'Kyiv', 'Minsk',\n",
       "        'Moscow', 'Rome', 'Berlin'],\n",
       "       ['Berlin', 'Rome', 'Bucharest', 'Sofia', 'Istanbul', 'Milan',\n",
       "        'Prague', 'Munich', 'Vienna', 'Minsk', 'Warsaw', 'Birmingham',\n",
       "        'Paris', 'Budapest', 'Brussels', 'Barcelona', 'Kyiv', 'Moscow',\n",
       "        'London', 'Berlin'],\n",
       "       ['Berlin', 'Vienna', 'Moscow', 'Bucharest', 'Milan', 'Istanbul',\n",
       "        'Birmingham', 'Rome', 'Sofia', 'Paris', 'Brussels', 'Kyiv',\n",
       "        'Budapest', 'London', 'Prague', 'Barcelona', 'Warsaw', 'Munich',\n",
       "        'Minsk', 'Berlin'],\n",
       "       ['Berlin', 'Moscow', 'Istanbul', 'Bucharest', 'Minsk', 'London',\n",
       "        'Rome', 'Paris', 'Kyiv', 'Warsaw', 'Barcelona', 'Budapest',\n",
       "        'Milan', 'Brussels', 'Sofia', 'Vienna', 'Munich', 'Birmingham',\n",
       "        'Prague', 'Berlin'],\n",
       "       ['Berlin', 'Budapest', 'Birmingham', 'Paris', 'Vienna',\n",
       "        'Brussels', 'Istanbul', 'Rome', 'Barcelona', 'Warsaw', 'Moscow',\n",
       "        'Prague', 'Sofia', 'Milan', 'London', 'Minsk', 'Bucharest',\n",
       "        'Munich', 'Kyiv', 'Berlin'],\n",
       "       ['Berlin', 'Prague', 'Munich', 'Milan', 'Birmingham', 'London',\n",
       "        'Bucharest', 'Sofia', 'Paris', 'Rome', 'Warsaw', 'Brussels',\n",
       "        'Moscow', 'Istanbul', 'Minsk', 'Barcelona', 'Kyiv', 'Budapest',\n",
       "        'Vienna', 'Berlin'],\n",
       "       ['Berlin', 'Milan', 'Moscow', 'Birmingham', 'Sofia', 'Barcelona',\n",
       "        'Brussels', 'Minsk', 'Istanbul', 'Munich', 'Prague', 'Kyiv',\n",
       "        'Bucharest', 'Vienna', 'Rome', 'London', 'Paris', 'Budapest',\n",
       "        'Warsaw', 'Berlin'],\n",
       "       ['Berlin', 'Vienna', 'Brussels', 'Budapest', 'Minsk', 'Bucharest',\n",
       "        'Warsaw', 'Sofia', 'Rome', 'Moscow', 'Birmingham', 'Istanbul',\n",
       "        'Paris', 'Milan', 'Barcelona', 'London', 'Prague', 'Munich',\n",
       "        'Kyiv', 'Berlin'],\n",
       "       ['Berlin', 'Prague', 'Vienna', 'Milan', 'Minsk', 'Kyiv',\n",
       "        'Brussels', 'Paris', 'Birmingham', 'London', 'Budapest',\n",
       "        'Istanbul', 'Moscow', 'Sofia', 'Rome', 'Warsaw', 'Bucharest',\n",
       "        'Barcelona', 'Munich', 'Berlin'],\n",
       "       ['Berlin', 'Prague', 'Warsaw', 'Munich', 'London', 'Moscow',\n",
       "        'Sofia', 'Kyiv', 'Budapest', 'Paris', 'Bucharest', 'Birmingham',\n",
       "        'Barcelona', 'Rome', 'Minsk', 'Milan', 'Istanbul', 'Brussels',\n",
       "        'Vienna', 'Berlin'],\n",
       "       ['Berlin', 'Vienna', 'Munich', 'Paris', 'Moscow', 'Milan',\n",
       "        'Warsaw', 'Istanbul', 'Bucharest', 'Barcelona', 'Kyiv',\n",
       "        'Brussels', 'Budapest', 'Birmingham', 'Rome', 'Sofia', 'London',\n",
       "        'Prague', 'Minsk', 'Berlin'],\n",
       "       ['Berlin', 'Prague', 'Budapest', 'Birmingham', 'Bucharest',\n",
       "        'Milan', 'Minsk', 'Moscow', 'Kyiv', 'Rome', 'Paris', 'Warsaw',\n",
       "        'Barcelona', 'Sofia', 'Vienna', 'Istanbul', 'Brussels', 'Munich',\n",
       "        'London', 'Berlin'],\n",
       "       ['Berlin', 'Budapest', 'Brussels', 'Kyiv', 'Vienna', 'Moscow',\n",
       "        'Warsaw', 'Milan', 'Barcelona', 'Munich', 'Sofia', 'Bucharest',\n",
       "        'London', 'Rome', 'Birmingham', 'Istanbul', 'Minsk', 'Paris',\n",
       "        'Prague', 'Berlin'],\n",
       "       ['Berlin', 'Rome', 'Sofia', 'Milan', 'Istanbul', 'Birmingham',\n",
       "        'Warsaw', 'Kyiv', 'Moscow', 'London', 'Budapest', 'Paris',\n",
       "        'Barcelona', 'Bucharest', 'Minsk', 'Munich', 'Vienna',\n",
       "        'Brussels', 'Prague', 'Berlin'],\n",
       "       ['Berlin', 'Istanbul', 'Paris', 'Rome', 'Milan', 'Barcelona',\n",
       "        'Warsaw', 'Budapest', 'Vienna', 'Moscow', 'Kyiv', 'Prague',\n",
       "        'Minsk', 'London', 'Sofia', 'Birmingham', 'Munich', 'Bucharest',\n",
       "        'Brussels', 'Berlin'],\n",
       "       ['Berlin', 'Rome', 'Minsk', 'Sofia', 'Brussels', 'Budapest',\n",
       "        'Barcelona', 'Prague', 'Paris', 'Kyiv', 'Bucharest', 'London',\n",
       "        'Istanbul', 'Warsaw', 'Moscow', 'Birmingham', 'Vienna', 'Milan',\n",
       "        'Munich', 'Berlin'],\n",
       "       ['Berlin', 'Budapest', 'Moscow', 'Istanbul', 'Vienna', 'Sofia',\n",
       "        'Warsaw', 'London', 'Minsk', 'Brussels', 'Munich', 'Bucharest',\n",
       "        'Prague', 'Paris', 'Birmingham', 'Rome', 'Milan', 'Barcelona',\n",
       "        'Kyiv', 'Berlin'],\n",
       "       ['Berlin', 'Kyiv', 'Birmingham', 'Budapest', 'Munich', 'Minsk',\n",
       "        'Brussels', 'Barcelona', 'Istanbul', 'Sofia', 'Milan', 'Warsaw',\n",
       "        'Bucharest', 'Prague', 'Moscow', 'London', 'Paris', 'Vienna',\n",
       "        'Rome', 'Berlin'],\n",
       "       ['Berlin', 'London', 'Vienna', 'Minsk', 'Birmingham', 'Istanbul',\n",
       "        'Warsaw', 'Milan', 'Paris', 'Bucharest', 'Budapest', 'Moscow',\n",
       "        'Rome', 'Barcelona', 'Kyiv', 'Prague', 'Brussels', 'Sofia',\n",
       "        'Munich', 'Berlin'],\n",
       "       ['Berlin', 'Moscow', 'Sofia', 'Paris', 'Budapest', 'Warsaw',\n",
       "        'Munich', 'Prague', 'Bucharest', 'Brussels', 'London', 'Vienna',\n",
       "        'Birmingham', 'Milan', 'Minsk', 'Barcelona', 'Rome', 'Kyiv',\n",
       "        'Istanbul', 'Berlin'],\n",
       "       ['Berlin', 'Birmingham', 'London', 'Brussels', 'Munich', 'Paris',\n",
       "        'Kyiv', 'Milan', 'Minsk', 'Prague', 'Budapest', 'Barcelona',\n",
       "        'Warsaw', 'Bucharest', 'Sofia', 'Moscow', 'Istanbul', 'Vienna',\n",
       "        'Rome', 'Berlin'],\n",
       "       ['Berlin', 'Rome', 'Prague', 'Minsk', 'London', 'Birmingham',\n",
       "        'Brussels', 'Vienna', 'Warsaw', 'Milan', 'Istanbul', 'Bucharest',\n",
       "        'Barcelona', 'Budapest', 'Paris', 'Kyiv', 'Moscow', 'Munich',\n",
       "        'Sofia', 'Berlin'],\n",
       "       ['Berlin', 'Budapest', 'Sofia', 'Istanbul', 'Warsaw', 'Bucharest',\n",
       "        'Birmingham', 'Munich', 'Paris', 'London', 'Moscow', 'Prague',\n",
       "        'Minsk', 'Rome', 'Vienna', 'Brussels', 'Barcelona', 'Kyiv',\n",
       "        'Milan', 'Berlin'],\n",
       "       ['Berlin', 'Kyiv', 'Prague', 'Barcelona', 'Brussels', 'Sofia',\n",
       "        'Paris', 'Warsaw', 'Rome', 'Milan', 'London', 'Minsk', 'Munich',\n",
       "        'Moscow', 'Istanbul', 'Birmingham', 'Bucharest', 'Vienna',\n",
       "        'Budapest', 'Berlin'],\n",
       "       ['Berlin', 'Paris', 'Barcelona', 'Sofia', 'Warsaw', 'Istanbul',\n",
       "        'Vienna', 'Birmingham', 'Budapest', 'Bucharest', 'Minsk',\n",
       "        'London', 'Rome', 'Brussels', 'Prague', 'Milan', 'Moscow',\n",
       "        'Munich', 'Kyiv', 'Berlin'],\n",
       "       ['Berlin', 'Prague', 'Sofia', 'Munich', 'Minsk', 'London',\n",
       "        'Bucharest', 'Rome', 'Moscow', 'Vienna', 'Istanbul', 'Kyiv',\n",
       "        'Barcelona', 'Milan', 'Budapest', 'Birmingham', 'Brussels',\n",
       "        'Warsaw', 'Paris', 'Berlin'],\n",
       "       ['Berlin', 'Budapest', 'Brussels', 'Moscow', 'London',\n",
       "        'Birmingham', 'Milan', 'Paris', 'Bucharest', 'Munich',\n",
       "        'Istanbul', 'Minsk', 'Warsaw', 'Rome', 'Prague', 'Barcelona',\n",
       "        'Kyiv', 'Sofia', 'Vienna', 'Berlin'],\n",
       "       ['Berlin', 'Prague', 'Paris', 'Sofia', 'Brussels', 'Barcelona',\n",
       "        'Munich', 'Vienna', 'Milan', 'Birmingham', 'Warsaw', 'Bucharest',\n",
       "        'Minsk', 'Kyiv', 'Budapest', 'Rome', 'Moscow', 'London',\n",
       "        'Istanbul', 'Berlin'],\n",
       "       ['Berlin', 'Kyiv', 'Birmingham', 'Barcelona', 'Rome', 'Warsaw',\n",
       "        'Minsk', 'Prague', 'Brussels', 'Munich', 'Budapest', 'Paris',\n",
       "        'Moscow', 'Istanbul', 'Sofia', 'Bucharest', 'Milan', 'London',\n",
       "        'Vienna', 'Berlin'],\n",
       "       ['Berlin', 'Warsaw', 'London', 'Barcelona', 'Vienna', 'Brussels',\n",
       "        'Moscow', 'Prague', 'Minsk', 'Milan', 'Sofia', 'Istanbul',\n",
       "        'Budapest', 'Munich', 'Rome', 'Kyiv', 'Paris', 'Bucharest',\n",
       "        'Birmingham', 'Berlin']], dtype='<U10')"
      ]
     },
     "execution_count": 15,
     "metadata": {},
     "output_type": "execute_result"
    }
   ],
   "source": [
    "# First step: Create the first population set\n",
    "def genesis(city_list, n_population):\n",
    "\n",
    "    population_set = []\n",
    "    for i in range(n_population):\n",
    "        #Randomly generating a new solution\n",
    "        sol_i = city_list[np.random.choice(list(range(n_cities)), n_cities, replace=False)]\n",
    "        population_set.append(sol_i)\n",
    "    return np.array(population_set)\n",
    "\n",
    "population_set = genesis(names_list, n_population)\n",
    "\n",
    "# add 'Berlin' at the first and last\n",
    "cities_dict['Berlin'] = [0,0]\n",
    "a = np.array(['Berlin']*50)\n",
    "a = np.reshape(a,(50,1))\n",
    "\n",
    "population_set = np.hstack((a, population_set, a))\n",
    "population_set"
   ]
  },
  {
   "cell_type": "markdown",
   "id": "a9bfeeee",
   "metadata": {},
   "source": [
    "# 2. Fitness Evaluation"
   ]
  },
  {
   "cell_type": "code",
   "execution_count": 16,
   "id": "0fbd5a6b",
   "metadata": {},
   "outputs": [],
   "source": [
    "# Function to compute the distance between two points\n",
    "def compute_city_distance_coordinates(a,b):\n",
    "    \n",
    "    return np.sqrt(((a[0]-b[0])**2+(a[1]-b[1])**2))\n",
    "\n",
    "def compute_city_distance_names(city_a, city_b, cities_dict):\n",
    "    return compute_city_distance_coordinates(cities_dict[city_a], cities_dict[city_b])"
   ]
  },
  {
   "cell_type": "code",
   "execution_count": 17,
   "id": "865f0036",
   "metadata": {},
   "outputs": [],
   "source": [
    "def fitness_eval(city_list, cities_dict):\n",
    "    total = 0\n",
    "    for i in range(n_cities-1):\n",
    "        a = city_list[i]\n",
    "        b = city_list[i+1]\n",
    "        total += compute_city_distance_names(a,b, cities_dict)\n",
    "    return total"
   ]
  },
  {
   "cell_type": "code",
   "execution_count": 18,
   "id": "379d051b",
   "metadata": {},
   "outputs": [
    {
     "data": {
      "text/plain": [
       "array([ 919.38654936,  973.44341632,  883.51053601,  766.70743702,\n",
       "        893.88308985,  889.05618354,  923.11958873,  950.09708441,\n",
       "        879.51106646,  868.25663713,  896.79507978,  997.97172811,\n",
       "       1070.21552826,  818.31183864,  846.8967839 ,  979.2283782 ,\n",
       "        970.20162812, 1010.96494224,  806.19690863,  909.98789021,\n",
       "        763.82810469,  995.13138019,  883.51964806,  934.37804551,\n",
       "        954.34531976,  884.92335283,  960.88570536,  848.53421574,\n",
       "        708.46524281,  867.74353637,  773.4795941 ,  829.07911537,\n",
       "        931.43753701,  856.95892301,  801.71852085,  835.42874401,\n",
       "        891.13943893,  956.82622859,  768.68812177,  793.40237366,\n",
       "        773.16203924,  793.08490692,  789.93648631,  830.6074817 ,\n",
       "        804.52674402,  799.63202198,  898.59011716,  869.7939881 ,\n",
       "        915.14473996,  773.28328987])"
      ]
     },
     "execution_count": 18,
     "metadata": {},
     "output_type": "execute_result"
    }
   ],
   "source": [
    "def get_all_fitnes(population_set, cities_dict):\n",
    "    fitnes_list = np.zeros(n_population)\n",
    "\n",
    "    #Looping over all solutions computing the fitness for each solution\n",
    "    for i in  range(n_population):\n",
    "        fitnes_list[i] = fitness_eval(population_set[i], cities_dict)\n",
    "\n",
    "    return fitnes_list\n",
    "\n",
    "fitnes_list = get_all_fitnes(population_set,cities_dict)\n",
    "fitnes_list"
   ]
  },
  {
   "cell_type": "markdown",
   "id": "3983a596",
   "metadata": {},
   "source": [
    "# 3. Selection"
   ]
  },
  {
   "cell_type": "code",
   "execution_count": 37,
   "id": "f8f0df60",
   "metadata": {},
   "outputs": [
    {
     "data": {
      "text/plain": [
       "array(['Rome', 'Minsk', 'Sofia', 'Brussels', 'Budapest', 'Barcelona',\n",
       "       'Prague', 'Paris', 'Kyiv', 'Bucharest', 'London', 'Istanbul',\n",
       "       'Warsaw', 'Moscow', 'Birmingham', 'Vienna', 'Milan', 'Munich'],\n",
       "      dtype='<U10')"
      ]
     },
     "execution_count": 37,
     "metadata": {},
     "output_type": "execute_result"
    }
   ],
   "source": [
    "def progenitor_selection(population_set,fitnes_list):\n",
    "    total_fit = fitnes_list.sum()\n",
    "    prob_list = fitnes_list/total_fit\n",
    "    \n",
    "    #Notice there is the chance that a progenitor. mates with oneself\n",
    "    progenitor_list_a = np.random.choice(list(range(len(population_set))), len(population_set),p=prob_list, replace=True)\n",
    "    progenitor_list_b = np.random.choice(list(range(len(population_set))), len(population_set),p=prob_list, replace=True)\n",
    "    \n",
    "    progenitor_list_a = population_set[progenitor_list_a]\n",
    "    progenitor_list_b = population_set[progenitor_list_b]\n",
    "    \n",
    "    \n",
    "    return np.array([progenitor_list_a,progenitor_list_b])\n",
    "\n",
    "\n",
    "progenitor_list = progenitor_selection(population_set[:,1:-1],fitnes_list)\n",
    "progenitor_list[0][2]"
   ]
  },
  {
   "cell_type": "markdown",
   "id": "9f8070b3",
   "metadata": {},
   "source": [
    "# 4. crossover"
   ]
  },
  {
   "cell_type": "code",
   "execution_count": 34,
   "id": "e06c5777",
   "metadata": {},
   "outputs": [
    {
     "data": {
      "text/plain": [
       "array(['Sofia', 'Minsk', 'Paris', 'Prague', 'Warsaw', 'Birmingham',\n",
       "       'Budapest', 'Barcelona', 'Istanbul', 'Vienna', 'Bucharest',\n",
       "       'London', 'Rome', 'Brussels', 'Milan', 'Moscow', 'Munich', 'Kyiv'],\n",
       "      dtype='<U10')"
      ]
     },
     "execution_count": 34,
     "metadata": {},
     "output_type": "execute_result"
    }
   ],
   "source": [
    "def mate_progenitors(prog_a, prog_b):\n",
    "    index = np.random.randint(0,n_cities)\n",
    "    offspring = prog_a[0:index]\n",
    "\n",
    "    for city in prog_b:\n",
    "\n",
    "        if not city in offspring:\n",
    "            offspring = np.concatenate((offspring,[city]))\n",
    "\n",
    "    return offspring\n",
    "            \n",
    "    \n",
    "    \n",
    "def mate_population(progenitor_list):\n",
    "    new_population_set = []\n",
    "    for i in range(progenitor_list.shape[1]):\n",
    "        prog_a, prog_b = progenitor_list[0][i], progenitor_list[1][i]\n",
    "        # print('prog_a: ', prog_a)\n",
    "        # print('prog_b: ',  prog_b)\n",
    "        offspring = mate_progenitors(prog_a, prog_b)\n",
    "        new_population_set.append(offspring)\n",
    "        \n",
    "    return new_population_set\n",
    "\n",
    "new_population_set = mate_population(progenitor_list)\n",
    "new_population_set[0]"
   ]
  },
  {
   "cell_type": "markdown",
   "id": "c15530c8",
   "metadata": {},
   "source": [
    "# 5.  Mutation"
   ]
  },
  {
   "cell_type": "code",
   "execution_count": 35,
   "id": "31411a56",
   "metadata": {},
   "outputs": [
    {
     "data": {
      "text/plain": [
       "array(['Sofia', 'Minsk', 'Paris', 'Warsaw', 'Vienna', 'Birmingham',\n",
       "       'Budapest', 'Barcelona', 'Istanbul', 'Prague', 'Bucharest',\n",
       "       'London', 'Rome', 'Brussels', 'Milan', 'Moscow', 'Munich', 'Kyiv'],\n",
       "      dtype='<U10')"
      ]
     },
     "execution_count": 35,
     "metadata": {},
     "output_type": "execute_result"
    }
   ],
   "source": [
    "def mutate_offspring(offspring):\n",
    "    for q in range(int(n_cities*mutation_rate)):\n",
    "        a = np.random.randint(0,n_cities)\n",
    "        b = np.random.randint(0,n_cities)\n",
    "\n",
    "        offspring[a], offspring[b] = offspring[b], offspring[a]\n",
    "\n",
    "    return offspring\n",
    "    \n",
    "    \n",
    "def mutate_population(new_population_set):\n",
    "    mutated_pop = []\n",
    "    for offspring in new_population_set:\n",
    "        mutated_pop.append(mutate_offspring(offspring))\n",
    "    return mutated_pop\n",
    "\n",
    "mutated_pop = mutate_population(new_population_set)\n",
    "mutated_pop[0]"
   ]
  },
  {
   "cell_type": "markdown",
   "id": "1596e338",
   "metadata": {},
   "source": [
    "# 6. Next generation\n",
    "#### it will take 10000 iterations."
   ]
  },
  {
   "cell_type": "code",
   "execution_count": 36,
   "id": "6e322236",
   "metadata": {},
   "outputs": [
    {
     "name": "stdout",
     "output_type": "stream",
     "text": [
      "0 660.9985022244845 873.343560605336 24/11/22 16:23\n",
      "100 694.628689828194 878.9135077526215 24/11/22 16:23\n",
      "200 755.9231913387214 866.845382943624 24/11/22 16:23\n",
      "300 721.5285683872254 856.3342304856892 24/11/22 16:23\n",
      "400 677.0909839503734 848.8631710903584 24/11/22 16:23\n",
      "500 642.4656106571758 854.8578903911155 24/11/22 16:23\n",
      "600 685.6486797839228 868.7439138165021 24/11/22 16:23\n",
      "700 708.2364562668816 869.8439702833593 24/11/22 16:23\n",
      "800 698.1667790948037 876.6390577166327 24/11/22 16:23\n",
      "900 702.2477456264276 858.7080661269955 24/11/22 16:23\n",
      "1000 693.3715932164238 864.380883168529 24/11/22 16:23\n",
      "1100 734.371849575096 879.0055493142114 24/11/22 16:23\n",
      "1200 642.768787705074 869.7265270448437 24/11/22 16:23\n",
      "1300 630.5473493172232 865.2247625779664 24/11/22 16:23\n",
      "1400 735.160815791178 875.240761125181 24/11/22 16:23\n",
      "1500 762.0780353378701 887.6604773592211 24/11/22 16:24\n",
      "1600 644.9370780371762 868.5132965926806 24/11/22 16:24\n",
      "1700 759.5110780046869 866.1481868752846 24/11/22 16:24\n",
      "1800 720.322083720564 867.0849844541015 24/11/22 16:24\n",
      "1900 729.3149946112839 866.477354459424 24/11/22 16:24\n",
      "2000 695.5284759049741 873.292522797688 24/11/22 16:24\n",
      "2100 681.3985477507208 872.6268304566231 24/11/22 16:24\n",
      "2200 752.8936600406317 875.5171644082453 24/11/22 16:24\n",
      "2300 711.379247283973 860.558939425476 24/11/22 16:24\n",
      "2400 717.474371451844 868.0282745479681 24/11/22 16:24\n",
      "2500 765.178652104316 867.22095593415 24/11/22 16:24\n",
      "2600 687.4505733800193 861.4093293853148 24/11/22 16:24\n",
      "2700 704.20323996936 852.7251211977448 24/11/22 16:24\n",
      "2800 698.1134477225432 845.0088041055976 24/11/22 16:24\n",
      "2900 744.13441019507 864.6121458190427 24/11/22 16:24\n",
      "3000 692.585001056303 865.4566631690263 24/11/22 16:24\n",
      "3100 732.9225014119662 864.7303001442151 24/11/22 16:24\n",
      "3200 668.2280980209703 848.478101531077 24/11/22 16:24\n",
      "3300 737.938456786387 861.3725969617162 24/11/22 16:24\n",
      "3400 741.943081523936 874.4791451338613 24/11/22 16:24\n",
      "3500 686.9852565927647 858.2327031304488 24/11/22 16:24\n",
      "3600 728.4332423124837 877.4668351491082 24/11/22 16:24\n",
      "3700 712.4362885932393 877.2200218581689 24/11/22 16:24\n",
      "3800 710.671665359056 863.568467996667 24/11/22 16:24\n",
      "3900 719.116558682406 873.1788573482349 24/11/22 16:24\n",
      "4000 672.6187963548451 868.6524128664236 24/11/22 16:24\n",
      "4100 701.3490075931463 862.6409207144435 24/11/22 16:24\n",
      "4200 690.3280908933422 860.6075374043228 24/11/22 16:24\n",
      "4300 670.9028300408779 861.6921255261826 24/11/22 16:24\n",
      "4400 721.5090911621302 861.5529890592559 24/11/22 16:24\n",
      "4500 740.0361760597862 859.7282730633463 24/11/22 16:24\n",
      "4600 720.7991308785138 887.7418735745987 24/11/22 16:24\n",
      "4700 718.4982160336093 856.543393898803 24/11/22 16:24\n",
      "4800 694.7195343568682 838.5966335448462 24/11/22 16:24\n",
      "4900 736.0727142147596 868.2991645002236 24/11/22 16:24\n",
      "5000 672.0853643464785 850.2891884121095 24/11/22 16:24\n",
      "5100 704.3976243245196 875.6258500896561 24/11/22 16:24\n",
      "5200 701.2419769410083 873.7832206890823 24/11/22 16:24\n",
      "5300 742.4403481753466 877.819324496418 24/11/22 16:24\n",
      "5400 689.7010163280153 864.7560176119182 24/11/22 16:24\n",
      "5500 676.9182413324617 858.8754910461987 24/11/22 16:24\n",
      "5600 708.9582146972045 876.6567302449945 24/11/22 16:24\n",
      "5700 734.2705484742487 857.4888119281339 24/11/22 16:24\n",
      "5800 677.1119798504034 861.2951306774693 24/11/22 16:24\n",
      "5900 717.5994532863988 877.8838743143606 24/11/22 16:24\n",
      "6000 703.6383802135603 857.9147585580853 24/11/22 16:24\n",
      "6100 727.097614662067 880.3971482294958 24/11/22 16:24\n",
      "6200 704.0877986452898 883.0642801958577 24/11/22 16:24\n",
      "6300 667.3416030594776 875.5265779514252 24/11/22 16:24\n",
      "6400 740.6335406427859 881.4004255094223 24/11/22 16:24\n",
      "6500 689.7244252786323 850.4036699393714 24/11/22 16:24\n",
      "6600 697.7183942614184 865.6597036064867 24/11/22 16:24\n",
      "6700 713.3880095576957 865.7470099795623 24/11/22 16:24\n",
      "6800 730.6267268657264 862.5291792231696 24/11/22 16:25\n",
      "6900 722.3807578517126 851.5186273190302 24/11/22 16:25\n",
      "7000 756.4115694477931 869.481355305295 24/11/22 16:25\n",
      "7100 694.9530619309563 879.4605424997004 24/11/22 16:25\n",
      "7200 706.4451328125791 872.2908563187193 24/11/22 16:25\n",
      "7300 679.6932675084524 880.5940819445294 24/11/22 16:25\n",
      "7400 649.1544931022502 845.3006550092236 24/11/22 16:25\n",
      "7500 729.605351091415 874.7444992464516 24/11/22 16:25\n",
      "7600 683.7586523974022 872.6428536636624 24/11/22 16:25\n",
      "7700 683.501492566553 878.1180244733725 24/11/22 16:25\n",
      "7800 724.239976140454 862.7285415211168 24/11/22 16:25\n",
      "7900 730.4756809239531 860.743538388169 24/11/22 16:25\n",
      "8000 727.5583005667794 865.0296719295812 24/11/22 16:25\n",
      "8100 610.1911731795878 858.63565821948 24/11/22 16:25\n",
      "8200 669.8146928886239 868.6628435504147 24/11/22 16:25\n",
      "8300 752.2421911943752 880.975755495621 24/11/22 16:25\n",
      "8400 695.2468064106743 863.8145222472849 24/11/22 16:25\n",
      "8500 702.2634323654811 853.8696919690312 24/11/22 16:25\n",
      "8600 728.4989519989682 877.5779408668 24/11/22 16:25\n",
      "8700 702.8821330247878 872.8693834442461 24/11/22 16:25\n",
      "8800 731.5681285629612 874.1893824962593 24/11/22 16:25\n",
      "8900 716.5050454083877 877.90084012238 24/11/22 16:25\n",
      "9000 713.207497577429 881.881963365985 24/11/22 16:25\n",
      "9100 666.1703495735529 870.259790437001 24/11/22 16:25\n",
      "9200 697.7407670517481 854.893492061899 24/11/22 16:25\n",
      "9300 727.2446666536796 867.7432374793048 24/11/22 16:25\n",
      "9400 697.1210599329247 866.710298224138 24/11/22 16:25\n",
      "9500 666.627872370065 845.85692827625 24/11/22 16:25\n",
      "9600 672.7578661490824 873.0246957002711 24/11/22 16:25\n",
      "9700 676.6203903104126 875.8172216597952 24/11/22 16:25\n",
      "9800 700.7401875127483 868.8453733699237 24/11/22 16:25\n",
      "9900 751.5645489886705 879.8256857941244 24/11/22 16:25\n"
     ]
    }
   ],
   "source": [
    "best_solution = [-1,np.inf,np.array([])]\n",
    "for i in range(10000):\n",
    "    if (i%100==0): \n",
    "        print(i, fitnes_list.min(), fitnes_list.mean(), datetime.now().strftime(\"%d/%m/%y %H:%M\"))\n",
    "        \n",
    "    cities_dict['Berlin'] = [0,0]\n",
    "    a = np.array(['Berlin']*50)\n",
    "    a = np.reshape(a,(50,1))\n",
    "    mutated_pop = np.hstack((a, mutated_pop, a))\n",
    "        \n",
    "        \n",
    "    fitnes_list = get_all_fitnes(mutated_pop,cities_dict)\n",
    "    \n",
    "    #Saving the best solution\n",
    "    if fitnes_list.min() < best_solution[1]:\n",
    "        best_solution[0] = i\n",
    "        best_solution[1] = fitnes_list.min()\n",
    "        best_solution[2] = np.array(mutated_pop)[fitnes_list.min() == fitnes_list]\n",
    "    \n",
    "    progenitor_list = progenitor_selection(population_set[:,1:-1],fitnes_list)\n",
    "    new_population_set = mate_population(progenitor_list)\n",
    "    \n",
    "    mutated_pop = mutate_population(new_population_set)"
   ]
  },
  {
   "cell_type": "code",
   "execution_count": 38,
   "id": "1dd42919",
   "metadata": {},
   "outputs": [
    {
     "data": {
      "text/plain": [
       "[9815,\n",
       " 534.7036430937163,\n",
       " array([['Berlin', 'Munich', 'Sofia', 'Budapest', 'Birmingham',\n",
       "         'Bucharest', 'Barcelona', 'London', 'Vienna', 'Warsaw', 'Paris',\n",
       "         'Brussels', 'Kyiv', 'Minsk', 'Prague', 'Milan', 'Moscow',\n",
       "         'Istanbul', 'Rome', 'Berlin']], dtype='<U10')]"
      ]
     },
     "execution_count": 38,
     "metadata": {},
     "output_type": "execute_result"
    }
   ],
   "source": [
    "best_solution"
   ]
  },
  {
   "cell_type": "code",
   "execution_count": 39,
   "id": "1ba93314",
   "metadata": {},
   "outputs": [],
   "source": [
    "best = []\n",
    "for i in range(20):\n",
    "    best.append(cities_dict[best_solution[2][0][i]])\n",
    "    "
   ]
  },
  {
   "cell_type": "code",
   "execution_count": 40,
   "id": "6e5af0fa",
   "metadata": {},
   "outputs": [
    {
     "data": {
      "image/png": "[encoded data removed]",
      "text/plain": [
       "<Figure size 432x288 with 1 Axes>"
      ]
     },
     "metadata": {
      "needs_background": "light"
     },
     "output_type": "display_data"
    }
   ],
   "source": [
    "plt.plot(np.array(best)[:,0], np.array(best)[:,1])\n",
    "\n",
    "#joins the x and y values\n",
    "for x,y,z in zip(np.array(best)[:,0], np.array(best)[:,1], best_solution[2][0]):\n",
    "\n",
    "    label = \"{}\".format(z)\n",
    "\n",
    "    plt.annotate(label, # this is the value which we want to label (text)\n",
    "                 (x,y), # x and y is the points location where we have to label\n",
    "                 textcoords=\"offset points\",\n",
    "                 xytext=(0,10), # this for the distance between the points\n",
    "                 # and the text label\n",
    "                 ha='center',\n",
    "                 arrowprops=dict(arrowstyle=\"->\", color='green'))\n",
    "\n",
    "plt.show()"
   ]
  },
  {
   "cell_type": "code",
   "execution_count": 20,
   "id": "801ebc88",
   "metadata": {},
   "outputs": [
    {
     "data": {
      "text/plain": [
       "array(['Berlin', 'Vienna', 'Budapest', 'Bucharest', 'Istanbul', 'Warsaw',\n",
       "       'Birmingham', 'Barcelona', 'Moscow', 'Paris', 'London', 'Milan',\n",
       "       'Kyiv', 'Brussels', 'Munich', 'Minsk', 'Rome', 'Prague', 'Sofia',\n",
       "       'Berlin'], dtype='<U10')"
      ]
     },
     "execution_count": 20,
     "metadata": {},
     "output_type": "execute_result"
    }
   ],
   "source": [
    "population_set[0]"
   ]
  },
  {
   "cell_type": "code",
   "execution_count": 21,
   "id": "b47fc856",
   "metadata": {},
   "outputs": [],
   "source": [
    "init = []\n",
    "for i in range(20):\n",
    "    init.append(cities_dict[population_set[0][i]])\n",
    "  "
   ]
  },
  {
   "cell_type": "code",
   "execution_count": 22,
   "id": "923a260d",
   "metadata": {},
   "outputs": [
    {
     "data": {
      "image/png": "[encoded data removed]",
      "text/plain": [
       "<Figure size 432x288 with 1 Axes>"
      ]
     },
     "metadata": {
      "needs_background": "light"
     },
     "output_type": "display_data"
    }
   ],
   "source": [
    "plt.plot(np.array(init)[:,0], np.array(init)[:,1])\n",
    "\n",
    "#joins the x and y values\n",
    "for x,y,z in zip(np.array(init)[:,0], np.array(init)[:,1], population_set[0]):\n",
    "\n",
    "    label = \"{}\".format(z)\n",
    "\n",
    "    plt.annotate(label, # this is the value which we want to label (text)\n",
    "                 (x,y), # x and y is the points location where we have to label\n",
    "                 textcoords=\"offset points\",\n",
    "                 xytext=(0,10), # this for the distance between the points\n",
    "                 # and the text label\n",
    "                 ha='center',\n",
    "                 arrowprops=dict(arrowstyle=\"->\", color='green'))\n",
    "\n",
    "plt.show()"
   ]
  },
  {
   "cell_type": "code",
   "execution_count": null,
   "id": "eb42cd51",
   "metadata": {},
   "outputs": [],
   "source": []
  }
 ],
 "metadata": {
  "kernelspec": {
   "display_name": "Python 3.9.12 ('base')",
   "language": "python",
   "name": "python3"
  },
  "language_info": {
   "codemirror_mode": {
    "name": "ipython",
    "version": 3
   },
   "file_extension": ".py",
   "mimetype": "text/x-python",
   "name": "python",
   "nbconvert_exporter": "python",
   "pygments_lexer": "ipython3",
   "version": "3.9.12"
  },
  "vscode": {
   "interpreter": {
    "hash": "20a9e06a1eee47c4abbed4ec8225ad91d78d9800d202b71b6b0a6e47016c6abd"
   }
  }
 },
 "nbformat": 4,
 "nbformat_minor": 5
}
