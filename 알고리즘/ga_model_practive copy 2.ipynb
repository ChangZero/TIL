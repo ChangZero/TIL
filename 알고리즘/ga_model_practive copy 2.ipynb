{
 "cells": [
  {
   "cell_type": "code",
   "execution_count": 1,
   "id": "b642129c",
   "metadata": {},
   "outputs": [],
   "source": [
    "# Imports \n",
    "import numpy as np\n",
    "import random\n",
    "import matplotlib.pyplot as plt\n",
    "\n",
    "from datetime import datetime"
   ]
  },
  {
   "cell_type": "code",
   "execution_count": 59,
   "id": "1aa36ee6",
   "metadata": {},
   "outputs": [],
   "source": [
    "# Parameters\n",
    "n_cities = 18\n",
    "\n",
    "n_population = 50\n",
    "\n",
    "mutation_rate = 0.15"
   ]
  },
  {
   "cell_type": "code",
   "execution_count": 60,
   "id": "ee3335a1",
   "metadata": {},
   "outputs": [
    {
     "data": {
      "text/plain": [
       "{'London': [29, 56],\n",
       " 'Moscow': [73, 57],\n",
       " 'Barcelona': [73, 5],\n",
       " 'Rome': [37, 89],\n",
       " 'Paris': [94, 4],\n",
       " 'Vienna': [23, 46],\n",
       " 'Munich': [72, 80],\n",
       " 'Istanbul': [75, 62],\n",
       " 'Kyiv': [29, 13],\n",
       " 'Bucharest': [65, 21],\n",
       " 'Minsk': [21, 13],\n",
       " 'Warsaw': [72, 82],\n",
       " 'Budapest': [37, 39],\n",
       " 'Milan': [12, 81],\n",
       " 'Prague': [65, 2],\n",
       " 'Sofia': [4, 20],\n",
       " 'Birmingham': [12, 58],\n",
       " 'Brussels': [32, 25]}"
      ]
     },
     "execution_count": 60,
     "metadata": {},
     "output_type": "execute_result"
    }
   ],
   "source": [
    "# Generating a list of coordenades representing each city\n",
    "coordinates_list = [[x,y] for x,y in zip(np.random.randint(0,100,n_cities),np.random.randint(0,100,n_cities))]\n",
    "names_list = np.array(['London', 'Moscow', 'Barcelona', 'Rome', 'Paris', 'Vienna', 'Munich', 'Istanbul', 'Kyiv', 'Bucharest', 'Minsk', 'Warsaw', 'Budapest', 'Milan', 'Prague', 'Sofia', 'Birmingham', 'Brussels', 'Amsterdam'])\n",
    "\n",
    "cities_dict = { x:y for x,y in zip(names_list,coordinates_list)}\n",
    "cities_dict"
   ]
  },
  {
   "cell_type": "markdown",
   "id": "f5567fd2",
   "metadata": {},
   "source": [
    "# 1. Create the first population set"
   ]
  },
  {
   "cell_type": "code",
   "execution_count": 61,
   "id": "990aa330",
   "metadata": {},
   "outputs": [
    {
     "data": {
      "text/plain": [
       "array([['Berlin', 'Barcelona', 'Istanbul', 'Milan', 'London', 'Kyiv',\n",
       "        'Minsk', 'Brussels', 'Rome', 'Bucharest', 'Vienna', 'Warsaw',\n",
       "        'Budapest', 'Sofia', 'Prague', 'Moscow', 'Birmingham', 'Paris',\n",
       "        'Munich', 'Berlin'],\n",
       "       ['Berlin', 'Barcelona', 'Rome', 'London', 'Sofia', 'Warsaw',\n",
       "        'Budapest', 'Brussels', 'Bucharest', 'Paris', 'Munich',\n",
       "        'Birmingham', 'Prague', 'Kyiv', 'Milan', 'Moscow', 'Minsk',\n",
       "        'Istanbul', 'Vienna', 'Berlin'],\n",
       "       ['Berlin', 'Moscow', 'London', 'Vienna', 'Birmingham', 'Warsaw',\n",
       "        'Brussels', 'Paris', 'Milan', 'Rome', 'Barcelona', 'Istanbul',\n",
       "        'Budapest', 'Kyiv', 'Bucharest', 'Sofia', 'Minsk', 'Prague',\n",
       "        'Munich', 'Berlin'],\n",
       "       ['Berlin', 'Warsaw', 'Kyiv', 'Bucharest', 'Minsk', 'Barcelona',\n",
       "        'Vienna', 'Sofia', 'Birmingham', 'Prague', 'Paris', 'London',\n",
       "        'Istanbul', 'Milan', 'Brussels', 'Rome', 'Budapest', 'Munich',\n",
       "        'Moscow', 'Berlin'],\n",
       "       ['Berlin', 'Munich', 'Birmingham', 'Warsaw', 'Milan', 'Barcelona',\n",
       "        'Kyiv', 'Vienna', 'Sofia', 'London', 'Bucharest', 'Rome',\n",
       "        'Moscow', 'Brussels', 'Prague', 'Istanbul', 'Budapest', 'Minsk',\n",
       "        'Paris', 'Berlin'],\n",
       "       ['Berlin', 'Barcelona', 'Minsk', 'Brussels', 'Warsaw', 'Kyiv',\n",
       "        'Budapest', 'Istanbul', 'Birmingham', 'Bucharest', 'Milan',\n",
       "        'London', 'Vienna', 'Munich', 'Sofia', 'Rome', 'Prague',\n",
       "        'Moscow', 'Paris', 'Berlin'],\n",
       "       ['Berlin', 'Munich', 'Sofia', 'Barcelona', 'Prague', 'Rome',\n",
       "        'Bucharest', 'Moscow', 'Kyiv', 'Paris', 'Minsk', 'Brussels',\n",
       "        'Warsaw', 'Istanbul', 'Vienna', 'Budapest', 'Milan',\n",
       "        'Birmingham', 'London', 'Berlin'],\n",
       "       ['Berlin', 'Budapest', 'Munich', 'Birmingham', 'Moscow', 'London',\n",
       "        'Sofia', 'Brussels', 'Milan', 'Kyiv', 'Minsk', 'Vienna',\n",
       "        'Barcelona', 'Istanbul', 'Paris', 'Rome', 'Warsaw', 'Prague',\n",
       "        'Bucharest', 'Berlin'],\n",
       "       ['Berlin', 'Munich', 'Sofia', 'Vienna', 'Brussels', 'Paris',\n",
       "        'Budapest', 'London', 'Barcelona', 'Prague', 'Istanbul',\n",
       "        'Bucharest', 'Rome', 'Warsaw', 'Birmingham', 'Minsk', 'Milan',\n",
       "        'Kyiv', 'Moscow', 'Berlin'],\n",
       "       ['Berlin', 'Kyiv', 'Vienna', 'Minsk', 'Sofia', 'London', 'Moscow',\n",
       "        'Warsaw', 'Milan', 'Munich', 'Rome', 'Brussels', 'Barcelona',\n",
       "        'Prague', 'Istanbul', 'Birmingham', 'Paris', 'Bucharest',\n",
       "        'Budapest', 'Berlin'],\n",
       "       ['Berlin', 'Kyiv', 'Moscow', 'Minsk', 'Paris', 'Barcelona',\n",
       "        'Birmingham', 'Brussels', 'Sofia', 'Budapest', 'Milan',\n",
       "        'Istanbul', 'Rome', 'Bucharest', 'Vienna', 'Prague', 'London',\n",
       "        'Warsaw', 'Munich', 'Berlin'],\n",
       "       ['Berlin', 'Brussels', 'Milan', 'Paris', 'Minsk', 'Barcelona',\n",
       "        'Warsaw', 'Bucharest', 'Moscow', 'Budapest', 'Munich',\n",
       "        'Istanbul', 'Birmingham', 'Prague', 'Vienna', 'London', 'Rome',\n",
       "        'Sofia', 'Kyiv', 'Berlin'],\n",
       "       ['Berlin', 'Munich', 'Warsaw', 'Rome', 'Prague', 'Istanbul',\n",
       "        'London', 'Milan', 'Minsk', 'Barcelona', 'Moscow', 'Vienna',\n",
       "        'Sofia', 'Bucharest', 'Budapest', 'Kyiv', 'Paris', 'Brussels',\n",
       "        'Birmingham', 'Berlin'],\n",
       "       ['Berlin', 'Paris', 'Istanbul', 'Milan', 'Rome', 'Minsk',\n",
       "        'Brussels', 'Bucharest', 'Birmingham', 'Kyiv', 'Moscow',\n",
       "        'Warsaw', 'Prague', 'Sofia', 'Munich', 'Budapest', 'London',\n",
       "        'Vienna', 'Barcelona', 'Berlin'],\n",
       "       ['Berlin', 'Prague', 'Vienna', 'Moscow', 'Sofia', 'Munich',\n",
       "        'London', 'Kyiv', 'Paris', 'Birmingham', 'Brussels', 'Barcelona',\n",
       "        'Minsk', 'Budapest', 'Rome', 'Milan', 'Bucharest', 'Warsaw',\n",
       "        'Istanbul', 'Berlin'],\n",
       "       ['Berlin', 'Warsaw', 'Munich', 'Prague', 'Birmingham', 'Istanbul',\n",
       "        'Kyiv', 'Brussels', 'London', 'Rome', 'Milan', 'Minsk', 'Moscow',\n",
       "        'Paris', 'Bucharest', 'Sofia', 'Barcelona', 'Vienna', 'Budapest',\n",
       "        'Berlin'],\n",
       "       ['Berlin', 'Munich', 'Bucharest', 'Barcelona', 'Minsk', 'Paris',\n",
       "        'Milan', 'Vienna', 'Rome', 'Brussels', 'Sofia', 'Budapest',\n",
       "        'Birmingham', 'Kyiv', 'Moscow', 'London', 'Prague', 'Istanbul',\n",
       "        'Warsaw', 'Berlin'],\n",
       "       ['Berlin', 'Barcelona', 'Moscow', 'Paris', 'Budapest', 'Minsk',\n",
       "        'Sofia', 'Kyiv', 'Rome', 'Bucharest', 'London', 'Warsaw',\n",
       "        'Prague', 'Birmingham', 'Istanbul', 'Munich', 'Milan',\n",
       "        'Brussels', 'Vienna', 'Berlin'],\n",
       "       ['Berlin', 'Milan', 'Istanbul', 'Barcelona', 'Vienna', 'Prague',\n",
       "        'London', 'Brussels', 'Kyiv', 'Rome', 'Warsaw', 'Paris',\n",
       "        'Bucharest', 'Minsk', 'Munich', 'Moscow', 'Budapest',\n",
       "        'Birmingham', 'Sofia', 'Berlin'],\n",
       "       ['Berlin', 'Milan', 'Birmingham', 'Bucharest', 'Sofia',\n",
       "        'Brussels', 'Munich', 'Istanbul', 'Warsaw', 'Paris', 'Prague',\n",
       "        'Rome', 'Barcelona', 'Vienna', 'Kyiv', 'Moscow', 'Budapest',\n",
       "        'London', 'Minsk', 'Berlin'],\n",
       "       ['Berlin', 'London', 'Istanbul', 'Kyiv', 'Munich', 'Barcelona',\n",
       "        'Birmingham', 'Brussels', 'Prague', 'Bucharest', 'Warsaw',\n",
       "        'Budapest', 'Moscow', 'Paris', 'Minsk', 'Sofia', 'Rome',\n",
       "        'Vienna', 'Milan', 'Berlin'],\n",
       "       ['Berlin', 'Sofia', 'Budapest', 'Birmingham', 'Paris', 'Warsaw',\n",
       "        'Prague', 'Istanbul', 'Munich', 'Milan', 'Kyiv', 'Moscow',\n",
       "        'Brussels', 'Rome', 'Barcelona', 'London', 'Vienna', 'Bucharest',\n",
       "        'Minsk', 'Berlin'],\n",
       "       ['Berlin', 'Minsk', 'Prague', 'Paris', 'Moscow', 'Kyiv',\n",
       "        'Barcelona', 'Munich', 'Rome', 'Bucharest', 'Brussels',\n",
       "        'Budapest', 'Sofia', 'Istanbul', 'London', 'Birmingham', 'Milan',\n",
       "        'Warsaw', 'Vienna', 'Berlin'],\n",
       "       ['Berlin', 'Warsaw', 'Moscow', 'Milan', 'Minsk', 'Budapest',\n",
       "        'Istanbul', 'Brussels', 'London', 'Rome', 'Vienna', 'Prague',\n",
       "        'Birmingham', 'Kyiv', 'Paris', 'Bucharest', 'Sofia', 'Munich',\n",
       "        'Barcelona', 'Berlin'],\n",
       "       ['Berlin', 'Milan', 'Moscow', 'Barcelona', 'Munich', 'Prague',\n",
       "        'Warsaw', 'Bucharest', 'Budapest', 'London', 'Vienna', 'Minsk',\n",
       "        'Rome', 'Istanbul', 'Brussels', 'Birmingham', 'Sofia', 'Paris',\n",
       "        'Kyiv', 'Berlin'],\n",
       "       ['Berlin', 'Kyiv', 'Rome', 'Sofia', 'Warsaw', 'Munich', 'Milan',\n",
       "        'Prague', 'Paris', 'Barcelona', 'Birmingham', 'Vienna', 'London',\n",
       "        'Minsk', 'Istanbul', 'Bucharest', 'Budapest', 'Moscow',\n",
       "        'Brussels', 'Berlin'],\n",
       "       ['Berlin', 'Prague', 'Istanbul', 'Warsaw', 'Minsk', 'Milan',\n",
       "        'Brussels', 'Barcelona', 'Rome', 'Moscow', 'Bucharest',\n",
       "        'Budapest', 'Birmingham', 'Munich', 'Paris', 'Sofia', 'Kyiv',\n",
       "        'Vienna', 'London', 'Berlin'],\n",
       "       ['Berlin', 'Kyiv', 'Vienna', 'Istanbul', 'Birmingham', 'London',\n",
       "        'Budapest', 'Barcelona', 'Warsaw', 'Brussels', 'Milan', 'Rome',\n",
       "        'Minsk', 'Bucharest', 'Sofia', 'Munich', 'Paris', 'Moscow',\n",
       "        'Prague', 'Berlin'],\n",
       "       ['Berlin', 'Rome', 'Kyiv', 'Munich', 'Sofia', 'Budapest',\n",
       "        'Brussels', 'Paris', 'Istanbul', 'Milan', 'Warsaw', 'Vienna',\n",
       "        'London', 'Moscow', 'Minsk', 'Birmingham', 'Prague', 'Bucharest',\n",
       "        'Barcelona', 'Berlin'],\n",
       "       ['Berlin', 'Rome', 'Budapest', 'Istanbul', 'Vienna', 'Brussels',\n",
       "        'Paris', 'Milan', 'Barcelona', 'Bucharest', 'Sofia', 'Minsk',\n",
       "        'Munich', 'London', 'Birmingham', 'Warsaw', 'Prague', 'Kyiv',\n",
       "        'Moscow', 'Berlin'],\n",
       "       ['Berlin', 'Vienna', 'Rome', 'Moscow', 'Paris', 'Prague', 'Sofia',\n",
       "        'Bucharest', 'Milan', 'Kyiv', 'Budapest', 'Warsaw', 'Munich',\n",
       "        'Barcelona', 'Minsk', 'Brussels', 'Birmingham', 'London',\n",
       "        'Istanbul', 'Berlin'],\n",
       "       ['Berlin', 'Prague', 'Warsaw', 'London', 'Milan', 'Vienna',\n",
       "        'Barcelona', 'Kyiv', 'Birmingham', 'Brussels', 'Rome', 'Paris',\n",
       "        'Munich', 'Moscow', 'Sofia', 'Bucharest', 'Istanbul', 'Minsk',\n",
       "        'Budapest', 'Berlin'],\n",
       "       ['Berlin', 'Warsaw', 'Istanbul', 'Moscow', 'Rome', 'Bucharest',\n",
       "        'Barcelona', 'Milan', 'Munich', 'Vienna', 'Prague', 'Paris',\n",
       "        'Kyiv', 'Brussels', 'London', 'Budapest', 'Minsk', 'Sofia',\n",
       "        'Birmingham', 'Berlin'],\n",
       "       ['Berlin', 'Budapest', 'Milan', 'Minsk', 'Paris', 'Rome',\n",
       "        'Birmingham', 'Warsaw', 'Munich', 'Vienna', 'Istanbul',\n",
       "        'Barcelona', 'London', 'Brussels', 'Prague', 'Bucharest',\n",
       "        'Moscow', 'Sofia', 'Kyiv', 'Berlin'],\n",
       "       ['Berlin', 'Warsaw', 'Bucharest', 'Brussels', 'Milan', 'London',\n",
       "        'Vienna', 'Kyiv', 'Birmingham', 'Istanbul', 'Prague', 'Minsk',\n",
       "        'Budapest', 'Sofia', 'Moscow', 'Barcelona', 'Munich', 'Paris',\n",
       "        'Rome', 'Berlin'],\n",
       "       ['Berlin', 'London', 'Paris', 'Brussels', 'Munich', 'Prague',\n",
       "        'Birmingham', 'Warsaw', 'Moscow', 'Bucharest', 'Budapest',\n",
       "        'Sofia', 'Istanbul', 'Kyiv', 'Milan', 'Minsk', 'Vienna', 'Rome',\n",
       "        'Barcelona', 'Berlin'],\n",
       "       ['Berlin', 'Warsaw', 'Birmingham', 'Prague', 'Sofia', 'Budapest',\n",
       "        'Paris', 'Minsk', 'Munich', 'Brussels', 'Bucharest', 'Barcelona',\n",
       "        'Rome', 'London', 'Vienna', 'Istanbul', 'Moscow', 'Kyiv',\n",
       "        'Milan', 'Berlin'],\n",
       "       ['Berlin', 'Milan', 'London', 'Sofia', 'Istanbul', 'Barcelona',\n",
       "        'Brussels', 'Moscow', 'Budapest', 'Vienna', 'Munich', 'Warsaw',\n",
       "        'Prague', 'Rome', 'Bucharest', 'Kyiv', 'Paris', 'Minsk',\n",
       "        'Birmingham', 'Berlin'],\n",
       "       ['Berlin', 'Istanbul', 'Sofia', 'Bucharest', 'Warsaw', 'Munich',\n",
       "        'Budapest', 'Brussels', 'Vienna', 'Minsk', 'Rome', 'Barcelona',\n",
       "        'Kyiv', 'Moscow', 'London', 'Milan', 'Prague', 'Birmingham',\n",
       "        'Paris', 'Berlin'],\n",
       "       ['Berlin', 'Prague', 'Kyiv', 'Rome', 'Moscow', 'London', 'Vienna',\n",
       "        'Sofia', 'Minsk', 'Milan', 'Barcelona', 'Brussels', 'Budapest',\n",
       "        'Bucharest', 'Paris', 'Warsaw', 'Birmingham', 'Munich',\n",
       "        'Istanbul', 'Berlin'],\n",
       "       ['Berlin', 'Brussels', 'Prague', 'Munich', 'Warsaw', 'Birmingham',\n",
       "        'Barcelona', 'Vienna', 'London', 'Kyiv', 'Istanbul', 'Bucharest',\n",
       "        'Milan', 'Moscow', 'Minsk', 'Budapest', 'Rome', 'Sofia', 'Paris',\n",
       "        'Berlin'],\n",
       "       ['Berlin', 'Budapest', 'Rome', 'Vienna', 'Munich', 'Bucharest',\n",
       "        'Minsk', 'Milan', 'Istanbul', 'London', 'Kyiv', 'Birmingham',\n",
       "        'Sofia', 'Barcelona', 'Prague', 'Warsaw', 'Moscow', 'Brussels',\n",
       "        'Paris', 'Berlin'],\n",
       "       ['Berlin', 'Rome', 'Barcelona', 'Brussels', 'Budapest', 'Moscow',\n",
       "        'London', 'Kyiv', 'Minsk', 'Milan', 'Birmingham', 'Sofia',\n",
       "        'Vienna', 'Istanbul', 'Munich', 'Prague', 'Warsaw', 'Bucharest',\n",
       "        'Paris', 'Berlin'],\n",
       "       ['Berlin', 'Kyiv', 'Munich', 'Milan', 'Budapest', 'Birmingham',\n",
       "        'Brussels', 'Minsk', 'Prague', 'Barcelona', 'Rome', 'Warsaw',\n",
       "        'Istanbul', 'Vienna', 'Bucharest', 'Paris', 'Moscow', 'London',\n",
       "        'Sofia', 'Berlin'],\n",
       "       ['Berlin', 'Minsk', 'Paris', 'Vienna', 'Istanbul', 'London',\n",
       "        'Kyiv', 'Prague', 'Birmingham', 'Warsaw', 'Barcelona', 'Moscow',\n",
       "        'Brussels', 'Sofia', 'Milan', 'Budapest', 'Bucharest', 'Rome',\n",
       "        'Munich', 'Berlin'],\n",
       "       ['Berlin', 'Bucharest', 'Prague', 'Rome', 'Warsaw', 'Munich',\n",
       "        'Sofia', 'Paris', 'Istanbul', 'Kyiv', 'Vienna', 'Barcelona',\n",
       "        'Moscow', 'Budapest', 'Minsk', 'Birmingham', 'Milan', 'London',\n",
       "        'Brussels', 'Berlin'],\n",
       "       ['Berlin', 'Paris', 'Brussels', 'Budapest', 'Rome', 'Prague',\n",
       "        'Milan', 'London', 'Bucharest', 'Warsaw', 'Minsk', 'Munich',\n",
       "        'Moscow', 'Istanbul', 'Birmingham', 'Barcelona', 'Kyiv', 'Sofia',\n",
       "        'Vienna', 'Berlin'],\n",
       "       ['Berlin', 'Bucharest', 'Minsk', 'London', 'Birmingham', 'Milan',\n",
       "        'Moscow', 'Prague', 'Kyiv', 'Istanbul', 'Barcelona', 'Brussels',\n",
       "        'Sofia', 'Budapest', 'Warsaw', 'Paris', 'Munich', 'Vienna',\n",
       "        'Rome', 'Berlin'],\n",
       "       ['Berlin', 'Paris', 'Kyiv', 'Vienna', 'Rome', 'London', 'Sofia',\n",
       "        'Brussels', 'Milan', 'Minsk', 'Barcelona', 'Munich', 'Bucharest',\n",
       "        'Moscow', 'Budapest', 'Birmingham', 'Istanbul', 'Prague',\n",
       "        'Warsaw', 'Berlin'],\n",
       "       ['Berlin', 'Istanbul', 'Paris', 'Vienna', 'Rome', 'Moscow',\n",
       "        'Munich', 'Bucharest', 'Warsaw', 'Prague', 'Barcelona', 'Minsk',\n",
       "        'Milan', 'Sofia', 'Brussels', 'Kyiv', 'London', 'Birmingham',\n",
       "        'Budapest', 'Berlin']], dtype='<U10')"
      ]
     },
     "execution_count": 61,
     "metadata": {},
     "output_type": "execute_result"
    }
   ],
   "source": [
    "# First step: Create the first population set\n",
    "def genesis(city_list, n_population):\n",
    "\n",
    "    population_set = []\n",
    "    for i in range(n_population):\n",
    "        #Randomly generating a new solution\n",
    "        sol_i = city_list[np.random.choice(list(range(n_cities)), n_cities, replace=False)]\n",
    "        population_set.append(sol_i)\n",
    "    return np.array(population_set)\n",
    "\n",
    "population_set = genesis(names_list, n_population)\n",
    "\n",
    "# add 'Berlin' at the first and last\n",
    "cities_dict['Berlin'] = [0,0]\n",
    "a = np.array(['Berlin']*50)\n",
    "a = np.reshape(a,(50,1))\n",
    "\n",
    "population_set = np.hstack((a, population_set, a))\n",
    "population_set"
   ]
  },
  {
   "cell_type": "markdown",
   "id": "a9bfeeee",
   "metadata": {},
   "source": [
    "# 2. Fitness Evaluation"
   ]
  },
  {
   "cell_type": "code",
   "execution_count": 62,
   "id": "0fbd5a6b",
   "metadata": {},
   "outputs": [],
   "source": [
    "# Function to compute the distance between two points\n",
    "def compute_city_distance_coordinates(a,b):\n",
    "    \n",
    "    return np.sqrt(((a[0]-b[0])**2+(a[1]-b[1])**2))\n",
    "\n",
    "def compute_city_distance_names(city_a, city_b, cities_dict):\n",
    "    return compute_city_distance_coordinates(cities_dict[city_a], cities_dict[city_b])"
   ]
  },
  {
   "cell_type": "code",
   "execution_count": 63,
   "id": "865f0036",
   "metadata": {},
   "outputs": [],
   "source": [
    "def fitness_eval(city_list, cities_dict):\n",
    "    total = 0\n",
    "    for i in range(n_cities-1):\n",
    "        a = city_list[i]\n",
    "        b = city_list[i+1]\n",
    "        total += compute_city_distance_names(a,b, cities_dict)\n",
    "    return total"
   ]
  },
  {
   "cell_type": "code",
   "execution_count": 64,
   "id": "379d051b",
   "metadata": {},
   "outputs": [
    {
     "data": {
      "text/plain": [
       "array([ 912.82789305, 1005.98669983,  884.69166618,  989.50545793,\n",
       "        947.8359088 ,  988.12026268,  928.75421734,  920.55142044,\n",
       "        941.86321467,  759.89315338,  902.30671709,  949.57339244,\n",
       "        883.34736645,  893.29237509,  987.1339566 ,  924.21062606,\n",
       "        947.67673497,  932.61791192,  888.99100457,  877.81271927,\n",
       "        937.64674984,  956.30084968,  762.95527281,  947.25076031,\n",
       "        941.0995995 ,  825.08242997,  940.62062602,  910.84251753,\n",
       "        974.93983373,  973.87022065,  789.90149386,  981.68137885,\n",
       "        758.16071239,  897.55147154,  909.10666302,  999.74336411,\n",
       "        955.33248766,  931.93361356,  951.37209318,  836.5236867 ,\n",
       "        906.04844992,  859.96946103,  838.82065346,  745.66801844,\n",
       "        930.59222799,  846.83802964,  965.80887431,  867.28901557,\n",
       "        892.26792849,  850.5641978 ])"
      ]
     },
     "execution_count": 64,
     "metadata": {},
     "output_type": "execute_result"
    }
   ],
   "source": [
    "def get_all_fitnes(population_set, cities_dict):\n",
    "    fitnes_list = np.zeros(n_population)\n",
    "\n",
    "    #Looping over all solutions computing the fitness for each solution\n",
    "    for i in  range(n_population):\n",
    "        fitnes_list[i] = fitness_eval(population_set[i], cities_dict)\n",
    "\n",
    "    return fitnes_list\n",
    "\n",
    "fitnes_list = get_all_fitnes(population_set,cities_dict)\n",
    "fitnes_list"
   ]
  },
  {
   "cell_type": "markdown",
   "id": "3983a596",
   "metadata": {},
   "source": [
    "# 3. Selection"
   ]
  },
  {
   "cell_type": "code",
   "execution_count": 65,
   "id": "f8f0df60",
   "metadata": {},
   "outputs": [
    {
     "data": {
      "text/plain": [
       "array(['Istanbul', 'Sofia', 'Bucharest', 'Warsaw', 'Munich', 'Budapest',\n",
       "       'Brussels', 'Vienna', 'Minsk', 'Rome', 'Barcelona', 'Kyiv',\n",
       "       'Moscow', 'London', 'Milan', 'Prague', 'Birmingham', 'Paris'],\n",
       "      dtype='<U10')"
      ]
     },
     "execution_count": 65,
     "metadata": {},
     "output_type": "execute_result"
    }
   ],
   "source": [
    "def progenitor_selection(population_set,fitnes_list):\n",
    "    total_fit = fitnes_list.sum()\n",
    "    prob_list = fitnes_list/total_fit\n",
    "    \n",
    "    #Notice there is the chance that a progenitor. mates with oneself\n",
    "    progenitor_list_a = np.random.choice(list(range(len(population_set))), len(population_set),p=prob_list, replace=True)\n",
    "    progenitor_list_b = np.random.choice(list(range(len(population_set))), len(population_set),p=prob_list, replace=True)\n",
    "    \n",
    "    progenitor_list_a = population_set[progenitor_list_a]\n",
    "    progenitor_list_b = population_set[progenitor_list_b]\n",
    "    \n",
    "    \n",
    "    return np.array([progenitor_list_a,progenitor_list_b])\n",
    "\n",
    "\n",
    "progenitor_list = progenitor_selection(population_set[:,1:-1],fitnes_list)\n",
    "progenitor_list[0][2]"
   ]
  },
  {
   "cell_type": "markdown",
   "id": "9f8070b3",
   "metadata": {},
   "source": [
    "# 4. crossover"
   ]
  },
  {
   "cell_type": "code",
   "execution_count": 66,
   "id": "e06c5777",
   "metadata": {},
   "outputs": [
    {
     "data": {
      "text/plain": [
       "array(['Warsaw', 'Munich', 'Prague', 'Istanbul', 'Sofia', 'Bucharest',\n",
       "       'Budapest', 'Brussels', 'Vienna', 'Minsk', 'Rome', 'Barcelona',\n",
       "       'Kyiv', 'Moscow', 'London', 'Milan', 'Birmingham', 'Paris'],\n",
       "      dtype='<U10')"
      ]
     },
     "execution_count": 66,
     "metadata": {},
     "output_type": "execute_result"
    }
   ],
   "source": [
    "def mate_progenitors(prog_a, prog_b):\n",
    "    index = np.random.randint(0,n_cities)\n",
    "    offspring = prog_a[0:index]\n",
    "\n",
    "    for city in prog_b:\n",
    "\n",
    "        if not city in offspring:\n",
    "            offspring = np.concatenate((offspring,[city]))\n",
    "\n",
    "    return offspring\n",
    "            \n",
    "    \n",
    "    \n",
    "def mate_population(progenitor_list):\n",
    "    new_population_set = []\n",
    "    for i in range(progenitor_list.shape[1]):\n",
    "        prog_a, prog_b = progenitor_list[0][i], progenitor_list[1][i]\n",
    "        # print('prog_a: ', prog_a)\n",
    "        # print('prog_b: ',  prog_b)\n",
    "        offspring = mate_progenitors(prog_a, prog_b)\n",
    "        new_population_set.append(offspring)\n",
    "        \n",
    "    return new_population_set\n",
    "\n",
    "new_population_set = mate_population(progenitor_list)\n",
    "new_population_set[0]"
   ]
  },
  {
   "cell_type": "markdown",
   "id": "c15530c8",
   "metadata": {},
   "source": [
    "# 5.  Mutation"
   ]
  },
  {
   "cell_type": "code",
   "execution_count": 67,
   "id": "31411a56",
   "metadata": {},
   "outputs": [
    {
     "data": {
      "text/plain": [
       "array(['London', 'Munich', 'Milan', 'Istanbul', 'Sofia', 'Bucharest',\n",
       "       'Budapest', 'Brussels', 'Vienna', 'Minsk', 'Rome', 'Barcelona',\n",
       "       'Kyiv', 'Moscow', 'Warsaw', 'Prague', 'Birmingham', 'Paris'],\n",
       "      dtype='<U10')"
      ]
     },
     "execution_count": 67,
     "metadata": {},
     "output_type": "execute_result"
    }
   ],
   "source": [
    "def mutate_offspring(offspring):\n",
    "    for q in range(int(n_cities*mutation_rate)):\n",
    "        a = np.random.randint(0,n_cities)\n",
    "        b = np.random.randint(0,n_cities)\n",
    "\n",
    "        offspring[a], offspring[b] = offspring[b], offspring[a]\n",
    "\n",
    "    return offspring\n",
    "    \n",
    "    \n",
    "def mutate_population(new_population_set):\n",
    "    mutated_pop = []\n",
    "    for offspring in new_population_set:\n",
    "        mutated_pop.append(mutate_offspring(offspring))\n",
    "    return mutated_pop\n",
    "\n",
    "mutated_pop = mutate_population(new_population_set)\n",
    "mutated_pop[0]"
   ]
  },
  {
   "cell_type": "markdown",
   "id": "1596e338",
   "metadata": {},
   "source": [
    "# 6. Next generation\n",
    "#### it will take 10000 iterations."
   ]
  },
  {
   "cell_type": "code",
   "execution_count": 68,
   "id": "6e322236",
   "metadata": {},
   "outputs": [
    {
     "name": "stdout",
     "output_type": "stream",
     "text": [
      "0 745.6680184390533 907.0555076054454 24/11/22 16:54\n",
      "1 745.851469866802 894.4174736013624 24/11/22 16:54\n",
      "2 708.6084453640069 893.6241092514708 24/11/22 16:54\n"
     ]
    }
   ],
   "source": [
    "best_solution = [-1,np.inf,np.array([])]\n",
    "for i in range(3):\n",
    "    print(i, fitnes_list.min(), fitnes_list.mean(), datetime.now().strftime(\"%d/%m/%y %H:%M\"))\n",
    "        \n",
    "    cities_dict['Berlin'] = [0,0]\n",
    "    a = np.array(['Berlin']*50)\n",
    "    a = np.reshape(a,(50,1))\n",
    "    mutated_pop = np.hstack((a, mutated_pop, a))\n",
    "        \n",
    "        \n",
    "    fitnes_list = get_all_fitnes(mutated_pop,cities_dict)\n",
    "    \n",
    "    #Saving the best solution\n",
    "    if fitnes_list.min() < best_solution[1]:\n",
    "        best_solution[0] = i\n",
    "        best_solution[1] = fitnes_list.min()\n",
    "        best_solution[2] = np.array(mutated_pop)[fitnes_list.min() == fitnes_list]\n",
    "    \n",
    "    progenitor_list = progenitor_selection(population_set[:,1:-1],fitnes_list)\n",
    "    new_population_set = mate_population(progenitor_list)\n",
    "    \n",
    "    mutated_pop = mutate_population(new_population_set)"
   ]
  },
  {
   "cell_type": "code",
   "execution_count": 69,
   "id": "1dd42919",
   "metadata": {},
   "outputs": [
    {
     "data": {
      "text/plain": [
       "[1,\n",
       " 708.6084453640069,\n",
       " array([['Berlin', 'Minsk', 'Prague', 'Paris', 'Moscow', 'Kyiv',\n",
       "         'Barcelona', 'Warsaw', 'Istanbul', 'London', 'Birmingham',\n",
       "         'Vienna', 'Brussels', 'Sofia', 'Milan', 'Budapest', 'Bucharest',\n",
       "         'Rome', 'Munich', 'Berlin']], dtype='<U10')]"
      ]
     },
     "execution_count": 69,
     "metadata": {},
     "output_type": "execute_result"
    }
   ],
   "source": [
    "best_solution"
   ]
  },
  {
   "cell_type": "code",
   "execution_count": 70,
   "id": "1ba93314",
   "metadata": {},
   "outputs": [],
   "source": [
    "best = []\n",
    "for i in range(20):\n",
    "    best.append(cities_dict[best_solution[2][0][i]])\n",
    "    "
   ]
  },
  {
   "cell_type": "code",
   "execution_count": 71,
   "id": "6e5af0fa",
   "metadata": {},
   "outputs": [
    {
     "data": {
      "image/png": "[encoded data removed]",
      "text/plain": [
       "<Figure size 432x288 with 1 Axes>"
      ]
     },
     "metadata": {
      "needs_background": "light"
     },
     "output_type": "display_data"
    }
   ],
   "source": [
    "plt.plot(np.array(best)[:,0], np.array(best)[:,1])\n",
    "\n",
    "#joins the x and y values\n",
    "for x,y,z in zip(np.array(best)[:,0], np.array(best)[:,1], best_solution[2][0]):\n",
    "\n",
    "    label = \"{}\".format(z)\n",
    "\n",
    "    plt.annotate(label, # this is the value which we want to label (text)\n",
    "                 (x,y), # x and y is the points location where we have to label\n",
    "                 textcoords=\"offset points\",\n",
    "                 xytext=(0,10), # this for the distance between the points\n",
    "                 # and the text label\n",
    "                 ha='center',\n",
    "                 arrowprops=dict(arrowstyle=\"->\", color='green'))\n",
    "\n",
    "plt.show()"
   ]
  },
  {
   "cell_type": "code",
   "execution_count": 72,
   "id": "801ebc88",
   "metadata": {},
   "outputs": [
    {
     "data": {
      "text/plain": [
       "array(['Berlin', 'Barcelona', 'Istanbul', 'Milan', 'London', 'Kyiv',\n",
       "       'Minsk', 'Brussels', 'Rome', 'Bucharest', 'Vienna', 'Warsaw',\n",
       "       'Budapest', 'Sofia', 'Prague', 'Moscow', 'Birmingham', 'Paris',\n",
       "       'Munich', 'Berlin'], dtype='<U10')"
      ]
     },
     "execution_count": 72,
     "metadata": {},
     "output_type": "execute_result"
    }
   ],
   "source": [
    "population_set[0]"
   ]
  },
  {
   "cell_type": "code",
   "execution_count": 73,
   "id": "b47fc856",
   "metadata": {},
   "outputs": [],
   "source": [
    "init = []\n",
    "for i in range(20):\n",
    "    init.append(cities_dict[population_set[0][i]])\n",
    "  "
   ]
  },
  {
   "cell_type": "code",
   "execution_count": 74,
   "id": "923a260d",
   "metadata": {},
   "outputs": [
    {
     "data": {
      "image/png": "[encoded data removed]",
      "text/plain": [
       "<Figure size 432x288 with 1 Axes>"
      ]
     },
     "metadata": {
      "needs_background": "light"
     },
     "output_type": "display_data"
    }
   ],
   "source": [
    "plt.plot(np.array(init)[:,0], np.array(init)[:,1])\n",
    "\n",
    "#joins the x and y values\n",
    "for x,y,z in zip(np.array(init)[:,0], np.array(init)[:,1], population_set[0]):\n",
    "\n",
    "    label = \"{}\".format(z)\n",
    "\n",
    "    plt.annotate(label, # this is the value which we want to label (text)\n",
    "                 (x,y), # x and y is the points location where we have to label\n",
    "                 textcoords=\"offset points\",\n",
    "                 xytext=(0,10), # this for the distance between the points\n",
    "                 # and the text label\n",
    "                 ha='center',\n",
    "                 arrowprops=dict(arrowstyle=\"->\", color='green'))\n",
    "\n",
    "plt.show()"
   ]
  },
  {
   "cell_type": "code",
   "execution_count": null,
   "id": "eb42cd51",
   "metadata": {},
   "outputs": [],
   "source": []
  },
  {
   "cell_type": "code",
   "execution_count": null,
   "id": "386f97a2",
   "metadata": {},
   "outputs": [],
   "source": []
  }
 ],
 "metadata": {
  "kernelspec": {
   "display_name": "Python 3.9.12 ('base')",
   "language": "python",
   "name": "python3"
  },
  "language_info": {
   "codemirror_mode": {
    "name": "ipython",
    "version": 3
   },
   "file_extension": ".py",
   "mimetype": "text/x-python",
   "name": "python",
   "nbconvert_exporter": "python",
   "pygments_lexer": "ipython3",
   "version": "3.9.12"
  },
  "vscode": {
   "interpreter": {
    "hash": "20a9e06a1eee47c4abbed4ec8225ad91d78d9800d202b71b6b0a6e47016c6abd"
   }
  }
 },
 "nbformat": 4,
 "nbformat_minor": 5
}
