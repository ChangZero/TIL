{
  "nbformat": 4,
  "nbformat_minor": 0,
  "metadata": {
    "colab": {
      "name": "chap2",
      "provenance": [],
      "collapsed_sections": []
    },
    "kernelspec": {
      "name": "python3",
      "display_name": "Python 3"
    },
    "language_info": {
      "name": "python"
    },
    "accelerator": "GPU",
    "gpuClass": "standard"
  },
  "cells": [
    {
      "cell_type": "markdown",
      "source": [
        "# 2.2.1 텐서 다루기"
      ],
      "metadata": {
        "id": "cuDrHmFZpt4f"
      }
    },
    {
      "cell_type": "code",
      "execution_count": 1,
      "metadata": {
        "colab": {
          "base_uri": "https://localhost:8080/"
        },
        "id": "M-Hv6yxDlveb",
        "outputId": "663488af-d4b8-4c12-c0f6-cbdaf3d261bc"
      },
      "outputs": [
        {
          "output_type": "stream",
          "name": "stdout",
          "text": [
            "Looking in indexes: https://pypi.org/simple, https://us-python.pkg.dev/colab-wheels/public/simple/\n",
            "Requirement already satisfied: torch in /usr/local/lib/python3.7/dist-packages (1.12.1+cu113)\n",
            "Requirement already satisfied: typing-extensions in /usr/local/lib/python3.7/dist-packages (from torch) (4.1.1)\n"
          ]
        }
      ],
      "source": [
        "pip install torch"
      ]
    },
    {
      "cell_type": "code",
      "source": [
        "print(torch.__version__)"
      ],
      "metadata": {
        "colab": {
          "base_uri": "https://localhost:8080/"
        },
        "id": "h6MhtXAHnLNQ",
        "outputId": "d615ec93-b150-4ced-b822-f6b6bf2555cc"
      },
      "execution_count": 8,
      "outputs": [
        {
          "output_type": "stream",
          "name": "stdout",
          "text": [
            "1.12.1+cu113\n"
          ]
        }
      ]
    },
    {
      "cell_type": "markdown",
      "source": [
        "## 텐서 생성 및 변환"
      ],
      "metadata": {
        "id": "jSGIRSK3p0K9"
      }
    },
    {
      "cell_type": "code",
      "source": [
        "import torch\n",
        "print(torch.tensor([[1,2],[3,4]])) #2차원 행태의 텐서 생성\n",
        "print(torch.tensor([[1,2],[3,4]], device=\"cuda:0\")) #GPU에 텐서 생성\n",
        "print(torch.tensor([[1,2],[3,4]], dtype=torch.float64)) #dtype을 이용하여 텐서 생성"
      ],
      "metadata": {
        "colab": {
          "base_uri": "https://localhost:8080/"
        },
        "id": "p1YS462_lx2l",
        "outputId": "fa8f5716-c1ef-410f-f52f-5036e93f5442"
      },
      "execution_count": 10,
      "outputs": [
        {
          "output_type": "stream",
          "name": "stdout",
          "text": [
            "tensor([[1, 2],\n",
            "        [3, 4]])\n",
            "tensor([[1, 2],\n",
            "        [3, 4]], device='cuda:0')\n",
            "tensor([[1., 2.],\n",
            "        [3., 4.]], dtype=torch.float64)\n"
          ]
        }
      ]
    },
    {
      "cell_type": "code",
      "source": [
        "temp = torch.tensor([[1,2],[3,4]])\n",
        "print(temp.numpy())\n",
        "\n",
        "temp = torch.tensor([[1,2],[3,4]], device=\"cuda:0\")\n",
        "print(temp.to(\"cpu\").numpy())"
      ],
      "metadata": {
        "colab": {
          "base_uri": "https://localhost:8080/"
        },
        "id": "oOYv6MzImcfg",
        "outputId": "e8d9c7cb-b005-426b-e6e0-f700742a9f8d"
      },
      "execution_count": 11,
      "outputs": [
        {
          "output_type": "stream",
          "name": "stdout",
          "text": [
            "[[1 2]\n",
            " [3 4]]\n",
            "[[1 2]\n",
            " [3 4]]\n"
          ]
        }
      ]
    },
    {
      "cell_type": "markdown",
      "source": [
        "## 텐서의 인덱스 조작"
      ],
      "metadata": {
        "id": "wXkTfo7Rp6S1"
      }
    },
    {
      "cell_type": "markdown",
      "source": [
        "torch.FloatTensor : 32비트의 부동 소수점<br>\n",
        "torch.DoubleTensor : 64비트의 부동 소수점<br>\n",
        "torch.LongTensor : 64비트의 부호가 있는 정수"
      ],
      "metadata": {
        "id": "wO4ljktZpE2l"
      }
    },
    {
      "cell_type": "code",
      "source": [
        "temp = torch.FloatTensor([1,2,3,4,5,6,7])\n",
        "print(temp[0], temp[1], temp[-1])\n",
        "print(\"--------------------\")\n",
        "print(temp[2:5], temp[4:-1])"
      ],
      "metadata": {
        "colab": {
          "base_uri": "https://localhost:8080/"
        },
        "id": "pi_dfm7noL8V",
        "outputId": "e8b10e0c-6381-4a51-a79b-b238fe93ade3"
      },
      "execution_count": 12,
      "outputs": [
        {
          "output_type": "stream",
          "name": "stdout",
          "text": [
            "tensor(1.) tensor(2.) tensor(7.)\n",
            "--------------------\n",
            "tensor([3., 4., 5.]) tensor([5., 6.])\n"
          ]
        }
      ]
    },
    {
      "cell_type": "markdown",
      "source": [
        "## 텐서 연산 및 차원 조작"
      ],
      "metadata": {
        "id": "OGwu-rzRphRB"
      }
    },
    {
      "cell_type": "code",
      "source": [
        "v = torch.tensor([1,2,3])\n",
        "w = torch.tensor([3,4,6])\n",
        "print(w-v)"
      ],
      "metadata": {
        "colab": {
          "base_uri": "https://localhost:8080/"
        },
        "id": "vcFuWUBUpA74",
        "outputId": "4c6a1c7b-508c-4f32-b9de-75030c010365"
      },
      "execution_count": 13,
      "outputs": [
        {
          "output_type": "stream",
          "name": "stdout",
          "text": [
            "tensor([2, 2, 3])\n"
          ]
        }
      ]
    },
    {
      "cell_type": "code",
      "source": [
        "temp = torch.tensor([[1,2],[3,4]])\n",
        "\n",
        "print(temp.shape)\n",
        "print(\"--------------------\")\n",
        "print(temp.view(4,1))\n",
        "print(\"--------------------\")\n",
        "print(temp.view(-1))\n",
        "print(\"--------------------\")\n",
        "print(temp.view(1,-1))\n",
        "print(\"--------------------\")\n",
        "print(temp.view(-1,1))\n",
        "print(\"--------------------\")\n",
        "print(temp.view(-1, 2))"
      ],
      "metadata": {
        "colab": {
          "base_uri": "https://localhost:8080/"
        },
        "id": "P9fIM3_up_WL",
        "outputId": "c97c50dd-1444-41d2-8a71-168f6e8429c7"
      },
      "execution_count": 16,
      "outputs": [
        {
          "output_type": "stream",
          "name": "stdout",
          "text": [
            "torch.Size([2, 2])\n",
            "--------------------\n",
            "tensor([[1],\n",
            "        [2],\n",
            "        [3],\n",
            "        [4]])\n",
            "--------------------\n",
            "tensor([1, 2, 3, 4])\n",
            "--------------------\n",
            "tensor([[1, 2, 3, 4]])\n",
            "--------------------\n",
            "tensor([[1],\n",
            "        [2],\n",
            "        [3],\n",
            "        [4]])\n",
            "--------------------\n",
            "tensor([[1, 2],\n",
            "        [3, 4]])\n"
          ]
        }
      ]
    },
    {
      "cell_type": "markdown",
      "source": [
        "## 2.2 데이터 준비"
      ],
      "metadata": {
        "id": "hgmh3hYhqyjL"
      }
    },
    {
      "cell_type": "code",
      "source": [
        "import pandas as pd\n",
        "import torch\n",
        "from torch.utils.data import Dataset\n",
        "from torch.utils.data import DataLoader"
      ],
      "metadata": {
        "id": "JoGlbN0Dq_4M"
      },
      "execution_count": 18,
      "outputs": []
    },
    {
      "cell_type": "markdown",
      "source": [
        "## 커스텀 데이터 셋 구현 방법"
      ],
      "metadata": {
        "id": "T7ilU3Z2tlo3"
      }
    },
    {
      "cell_type": "code",
      "source": [
        "class CustomDataset(Dataset):\n",
        "  def __init__(self, csv_file): # csv_file 파라키터를 통해 데이터셋 불러오기\n",
        "    self.label = pd.read_csv(csv_file)\n",
        "\n",
        "  def __len__(self): # 전체 데이터셋 크기 반환\n",
        "    return len(self.label)\n",
        "\n",
        "  def __getitem__(self, idx): # 전체x와 y 데이터 중에 해당 idx번째의 데이터를 가져온다.\n",
        "    sample = torch.tensor(self.label.iloc[idx,0:3]),int()\n",
        "    label = torch.tensor(self.label.iloc[idx,3]).int()\n",
        "    return sample, label\n",
        "\n",
        "tensor_dataset = CustomDataset('../covtype.csv') # 괄호안에 데이터셋 넣기\n",
        "dataset = DataLoader(tensor_dataset, batch_size=4, shuffle=True) # 모델을 보관하고 있다가 배치크기만큼 데이터를 꺼내서 사용"
      ],
      "metadata": {
        "id": "nnQSpqvJr5oD"
      },
      "execution_count": null,
      "outputs": []
    },
    {
      "cell_type": "markdown",
      "source": [
        "## 2.2.3 모델 정의"
      ],
      "metadata": {
        "id": "hkNm23KeugaK"
      }
    },
    {
      "cell_type": "markdown",
      "source": [
        "### Sequential 신경망을 정의하는 방법"
      ],
      "metadata": {
        "id": "mAIOsfmQvwSo"
      }
    },
    {
      "cell_type": "code",
      "source": [
        "import torch.nn as nn\n",
        "class MLP(nn.Module):\n",
        "  def __init__(self):\n",
        "    super(MLP, self).__init__()\n",
        "    self.layer1 = nn.Sequential(\n",
        "        nn.Conv2d(in_channels=3, out_channels=64, kernel_size=5),\n",
        "        nn.ReLU(inplace=True),\n",
        "        nn.MaxPool2d(2))\n",
        "    \n",
        "    self.layer2 = nn.Sequential(\n",
        "        nn.Conv2d(in_channels=64, out_channels=30, kernel_size=5),\n",
        "        nn.ReLU(inplace=True),\n",
        "        nn.MaxPool2d(2))\n",
        "    \n",
        "    self.layer3 = nn.Sequential(\n",
        "        nn.Linear(in_features = 30*5*5, out_features=10, bias=True), \n",
        "        nn.ReLU(inplace=True))\n",
        "\n",
        "    def forward(self, x):\n",
        "      x = self.layer1(x)\n",
        "      x = self.layer2(x)\n",
        "      x = x.view(x.shape[0], -1)\n",
        "      x = self.layer3(x)\n",
        "      return x\n",
        "  \n",
        "model = MLP()\n",
        "\n",
        "print(\"Printing children\\n-------------\")\n",
        "print(list(model.children()))\n",
        "print(\"\\n\\nPrinting Modules\\n-------------\")\n",
        "print(list(model.modules()))"
      ],
      "metadata": {
        "colab": {
          "base_uri": "https://localhost:8080/"
        },
        "id": "6gz0Tu0ywaor",
        "outputId": "b0f33d98-a76b-4c4c-8524-bce703ae9397"
      },
      "execution_count": 29,
      "outputs": [
        {
          "output_type": "stream",
          "name": "stdout",
          "text": [
            "Printing children\n",
            "-------------\n",
            "[Sequential(\n",
            "  (0): Conv2d(3, 64, kernel_size=(5, 5), stride=(1, 1))\n",
            "  (1): ReLU(inplace=True)\n",
            "  (2): MaxPool2d(kernel_size=2, stride=2, padding=0, dilation=1, ceil_mode=False)\n",
            "), Sequential(\n",
            "  (0): Conv2d(64, 30, kernel_size=(5, 5), stride=(1, 1))\n",
            "  (1): ReLU(inplace=True)\n",
            "  (2): MaxPool2d(kernel_size=2, stride=2, padding=0, dilation=1, ceil_mode=False)\n",
            "), Sequential(\n",
            "  (0): Linear(in_features=750, out_features=10, bias=True)\n",
            "  (1): ReLU(inplace=True)\n",
            ")]\n",
            "\n",
            "\n",
            "Printing Modules\n",
            "-------------\n",
            "[MLP(\n",
            "  (layer1): Sequential(\n",
            "    (0): Conv2d(3, 64, kernel_size=(5, 5), stride=(1, 1))\n",
            "    (1): ReLU(inplace=True)\n",
            "    (2): MaxPool2d(kernel_size=2, stride=2, padding=0, dilation=1, ceil_mode=False)\n",
            "  )\n",
            "  (layer2): Sequential(\n",
            "    (0): Conv2d(64, 30, kernel_size=(5, 5), stride=(1, 1))\n",
            "    (1): ReLU(inplace=True)\n",
            "    (2): MaxPool2d(kernel_size=2, stride=2, padding=0, dilation=1, ceil_mode=False)\n",
            "  )\n",
            "  (layer3): Sequential(\n",
            "    (0): Linear(in_features=750, out_features=10, bias=True)\n",
            "    (1): ReLU(inplace=True)\n",
            "  )\n",
            "), Sequential(\n",
            "  (0): Conv2d(3, 64, kernel_size=(5, 5), stride=(1, 1))\n",
            "  (1): ReLU(inplace=True)\n",
            "  (2): MaxPool2d(kernel_size=2, stride=2, padding=0, dilation=1, ceil_mode=False)\n",
            "), Conv2d(3, 64, kernel_size=(5, 5), stride=(1, 1)), ReLU(inplace=True), MaxPool2d(kernel_size=2, stride=2, padding=0, dilation=1, ceil_mode=False), Sequential(\n",
            "  (0): Conv2d(64, 30, kernel_size=(5, 5), stride=(1, 1))\n",
            "  (1): ReLU(inplace=True)\n",
            "  (2): MaxPool2d(kernel_size=2, stride=2, padding=0, dilation=1, ceil_mode=False)\n",
            "), Conv2d(64, 30, kernel_size=(5, 5), stride=(1, 1)), ReLU(inplace=True), MaxPool2d(kernel_size=2, stride=2, padding=0, dilation=1, ceil_mode=False), Sequential(\n",
            "  (0): Linear(in_features=750, out_features=10, bias=True)\n",
            "  (1): ReLU(inplace=True)\n",
            "), Linear(in_features=750, out_features=10, bias=True), ReLU(inplace=True)]\n"
          ]
        }
      ]
    }
  ]
}